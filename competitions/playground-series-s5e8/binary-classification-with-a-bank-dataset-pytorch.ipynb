{
 "cells": [
  {
   "cell_type": "markdown",
   "id": "6e4daa73",
   "metadata": {
    "papermill": {
     "duration": 0.004271,
     "end_time": "2025-08-26T05:59:09.083202",
     "exception": false,
     "start_time": "2025-08-26T05:59:09.078931",
     "status": "completed"
    },
    "tags": []
   },
   "source": [
    "# 1. Overview\n",
    "\n",
    "This is a notebook for training a neural network to submit predictions to the \"Binary Classification with a Bank Dataset\" Kaggle competition ([playground-series-s5e8](https://www.kaggle.com/competitions/playground-series-s5e8)).\n",
    "\n",
    "Synthetic data is used for this playground competition, and the objective is to, for each client (with a corresponding `id`) in the test set, predict the probability that the client will subscribe to a bank term deposit. Note that while the target represented by `y` is binary (i.e. the client either subscribes or does not subscribe), the predictions are about probabilities, and so their values lie between 0 and 1."
   ]
  },
  {
   "cell_type": "markdown",
   "id": "7e261798",
   "metadata": {
    "papermill": {
     "duration": 0.003218,
     "end_time": "2025-08-26T05:59:09.090230",
     "exception": false,
     "start_time": "2025-08-26T05:59:09.087012",
     "status": "completed"
    },
    "tags": []
   },
   "source": [
    "# 2. Setup\n",
    "\n",
    "Let's first do some initial setup to import what we'll need."
   ]
  },
  {
   "cell_type": "code",
   "execution_count": 1,
   "id": "f197b40b",
   "metadata": {
    "execution": {
     "iopub.execute_input": "2025-08-26T05:59:09.098332Z",
     "iopub.status.busy": "2025-08-26T05:59:09.098033Z",
     "iopub.status.idle": "2025-08-26T05:59:22.945839Z",
     "shell.execute_reply": "2025-08-26T05:59:22.944767Z"
    },
    "papermill": {
     "duration": 13.853837,
     "end_time": "2025-08-26T05:59:22.947590",
     "exception": false,
     "start_time": "2025-08-26T05:59:09.093753",
     "status": "completed"
    },
    "tags": []
   },
   "outputs": [],
   "source": [
    "import numpy as np\n",
    "import pandas as pd\n",
    "from sklearn.metrics import roc_auc_score\n",
    "from sklearn.model_selection import StratifiedKFold\n",
    "from sklearn.preprocessing import LabelEncoder\n",
    "import torch\n",
    "import torch.nn as nn\n",
    "import torch.optim as optim\n",
    "from torch.utils.data import Dataset, DataLoader\n",
    "from torchvision import transforms, utils"
   ]
  },
  {
   "cell_type": "code",
   "execution_count": 2,
   "id": "c8d4dfa3",
   "metadata": {
    "execution": {
     "iopub.execute_input": "2025-08-26T05:59:22.956526Z",
     "iopub.status.busy": "2025-08-26T05:59:22.955770Z",
     "iopub.status.idle": "2025-08-26T05:59:22.967869Z",
     "shell.execute_reply": "2025-08-26T05:59:22.967167Z"
    },
    "papermill": {
     "duration": 0.018003,
     "end_time": "2025-08-26T05:59:22.969339",
     "exception": false,
     "start_time": "2025-08-26T05:59:22.951336",
     "status": "completed"
    },
    "tags": []
   },
   "outputs": [],
   "source": [
    "random_seed = 11\n",
    "np.random.seed(random_seed)\n",
    "torch.manual_seed(random_seed)\n",
    "if torch.cuda.is_available():\n",
    "    torch.cuda.manual_seed(random_seed)\n",
    "    torch.cuda.manual_seed_all(random_seed)"
   ]
  },
  {
   "cell_type": "code",
   "execution_count": 3,
   "id": "e8a20fc0",
   "metadata": {
    "execution": {
     "iopub.execute_input": "2025-08-26T05:59:22.977846Z",
     "iopub.status.busy": "2025-08-26T05:59:22.977445Z",
     "iopub.status.idle": "2025-08-26T05:59:22.983508Z",
     "shell.execute_reply": "2025-08-26T05:59:22.982761Z"
    },
    "papermill": {
     "duration": 0.011801,
     "end_time": "2025-08-26T05:59:22.984864",
     "exception": false,
     "start_time": "2025-08-26T05:59:22.973063",
     "status": "completed"
    },
    "tags": []
   },
   "outputs": [
    {
     "data": {
      "text/plain": [
       "'cpu'"
      ]
     },
     "execution_count": 3,
     "metadata": {},
     "output_type": "execute_result"
    }
   ],
   "source": [
    "device = 'cuda' if torch.cuda.is_available() else 'cpu'\n",
    "device"
   ]
  },
  {
   "cell_type": "code",
   "execution_count": 4,
   "id": "8014c219",
   "metadata": {
    "execution": {
     "iopub.execute_input": "2025-08-26T05:59:22.993566Z",
     "iopub.status.busy": "2025-08-26T05:59:22.993248Z",
     "iopub.status.idle": "2025-08-26T05:59:26.481801Z",
     "shell.execute_reply": "2025-08-26T05:59:26.481080Z"
    },
    "papermill": {
     "duration": 3.494643,
     "end_time": "2025-08-26T05:59:26.483327",
     "exception": false,
     "start_time": "2025-08-26T05:59:22.988684",
     "status": "completed"
    },
    "tags": []
   },
   "outputs": [],
   "source": [
    "# Read data files\n",
    "input_filepath = '/kaggle/input'\n",
    "train_data = pd.read_csv(input_filepath + '/playground-series-s5e8/train.csv')\n",
    "test_data = pd.read_csv(input_filepath + '/playground-series-s5e8/test.csv')\n",
    "\n",
    "# Set index\n",
    "train_data.set_index('id', inplace=True)\n",
    "test_data.set_index('id', inplace=True)\n",
    "\n",
    "# Get numeric and categorical columns from training data (which should be the same for test data)\n",
    "numeric_col_names = train_data.select_dtypes(include='number').columns.to_series()\n",
    "categorical_col_names = train_data.select_dtypes(include='object').columns.to_series()\n",
    "assert numeric_col_names.size + categorical_col_names.size == train_data.shape[1]\n",
    "\n",
    "# Set target column\n",
    "target_col='y'\n",
    "# Drop 'y' column from numeric column names\n",
    "numeric_col_names.drop(target_col, inplace=True)\n",
    "\n",
    "# Combined dataframe that will be used later\n",
    "train_test_combined = pd.concat([train_data.drop(target_col, axis=1), test_data], axis=0)"
   ]
  },
  {
   "cell_type": "markdown",
   "id": "7731edba",
   "metadata": {
    "papermill": {
     "duration": 0.003484,
     "end_time": "2025-08-26T05:59:26.490620",
     "exception": false,
     "start_time": "2025-08-26T05:59:26.487136",
     "status": "completed"
    },
    "tags": []
   },
   "source": [
    "# 3. Data Preprocessing"
   ]
  },
  {
   "cell_type": "code",
   "execution_count": 5,
   "id": "e00462af",
   "metadata": {
    "execution": {
     "iopub.execute_input": "2025-08-26T05:59:26.499070Z",
     "iopub.status.busy": "2025-08-26T05:59:26.498760Z",
     "iopub.status.idle": "2025-08-26T05:59:28.194682Z",
     "shell.execute_reply": "2025-08-26T05:59:28.193756Z"
    },
    "papermill": {
     "duration": 1.702135,
     "end_time": "2025-08-26T05:59:28.196330",
     "exception": false,
     "start_time": "2025-08-26T05:59:26.494195",
     "status": "completed"
    },
    "tags": []
   },
   "outputs": [],
   "source": [
    "# encode categorical features\n",
    "for col in categorical_col_names:\n",
    "    le = LabelEncoder()\n",
    "    train_data[col] = le.fit_transform(train_data[col].astype(str))\n",
    "    test_data[col] = le.fit_transform(test_data[col].astype(str))"
   ]
  },
  {
   "cell_type": "markdown",
   "id": "ce4dcb02",
   "metadata": {
    "papermill": {
     "duration": 0.003669,
     "end_time": "2025-08-26T05:59:28.203922",
     "exception": false,
     "start_time": "2025-08-26T05:59:28.200253",
     "status": "completed"
    },
    "tags": []
   },
   "source": [
    "# 4. Model"
   ]
  },
  {
   "cell_type": "code",
   "execution_count": 6,
   "id": "ea4be3bd",
   "metadata": {
    "execution": {
     "iopub.execute_input": "2025-08-26T05:59:28.213431Z",
     "iopub.status.busy": "2025-08-26T05:59:28.213107Z",
     "iopub.status.idle": "2025-08-26T05:59:28.223186Z",
     "shell.execute_reply": "2025-08-26T05:59:28.222459Z"
    },
    "papermill": {
     "duration": 0.016813,
     "end_time": "2025-08-26T05:59:28.224483",
     "exception": false,
     "start_time": "2025-08-26T05:59:28.207670",
     "status": "completed"
    },
    "tags": []
   },
   "outputs": [],
   "source": [
    "class BankModel(nn.Module):\n",
    "    def __init__(self, num_numeric_features, num_embeddings_list, embeddings_dim):\n",
    "        super().__init__()\n",
    "\n",
    "        # embedding layers for categorical features\n",
    "        self.categorical_embeddings = nn.ModuleList([\n",
    "            nn.Embedding(num_embeddings, embeddings_dim) for num_embeddings in num_embeddings_list\n",
    "        ])\n",
    "\n",
    "        # layer for projecting numeric features on to the embedding space\n",
    "        self.numeric_projection = nn.Linear(num_numeric_features, embeddings_dim)\n",
    "\n",
    "        # total number of features\n",
    "        num_total_features = 1 + len(num_embeddings_list) # num(numeric features) + num(categorical features)\n",
    "        input_size = num_total_features * embeddings_dim\n",
    "\n",
    "        # final layers\n",
    "        self.layers = nn.ModuleList()\n",
    "        self.layers.append(nn.Linear(input_size, 320))\n",
    "        self.layers.append(nn.ReLU())\n",
    "        self.layers.append(nn.BatchNorm1d(320))\n",
    "        self.layers.append(nn.Dropout(0.1))\n",
    "\n",
    "        # final output layer\n",
    "        self.output_layer = nn.Linear(input_size, 1)\n",
    "\n",
    "    def forward(self, numeric_inputs, categorical_inputs):\n",
    "        numeric_embeddings = self.numeric_projection(numeric_inputs)\n",
    "        numeric_embeddings = numeric_embeddings.unsqueeze(1)\n",
    "\n",
    "        num_categorical_features = len(categorical_inputs)\n",
    "        categorical_embeddings = [self.categorical_embeddings[i](categorical_inputs[i].unsqueeze(-1)) for i in range(num_categorical_features)]\n",
    "\n",
    "        all_features = torch.cat([numeric_embeddings] + categorical_embeddings, dim=1)\n",
    "        x = all_features\n",
    "        x = x.view(x.size(0), -1)\n",
    "\n",
    "        for layer in self.layers:\n",
    "            x = layer(x)\n",
    "\n",
    "        return self.output_layer(x)\n"
   ]
  },
  {
   "cell_type": "markdown",
   "id": "c8dcac95",
   "metadata": {
    "papermill": {
     "duration": 0.003309,
     "end_time": "2025-08-26T05:59:28.231454",
     "exception": false,
     "start_time": "2025-08-26T05:59:28.228145",
     "status": "completed"
    },
    "tags": []
   },
   "source": [
    "# 5. Helper Classes/Functions"
   ]
  },
  {
   "cell_type": "code",
   "execution_count": 7,
   "id": "6859df5d",
   "metadata": {
    "execution": {
     "iopub.execute_input": "2025-08-26T05:59:28.240532Z",
     "iopub.status.busy": "2025-08-26T05:59:28.240213Z",
     "iopub.status.idle": "2025-08-26T05:59:28.246017Z",
     "shell.execute_reply": "2025-08-26T05:59:28.245351Z"
    },
    "papermill": {
     "duration": 0.011635,
     "end_time": "2025-08-26T05:59:28.247254",
     "exception": false,
     "start_time": "2025-08-26T05:59:28.235619",
     "status": "completed"
    },
    "tags": []
   },
   "outputs": [],
   "source": [
    "class TabularDataset(Dataset):\n",
    "    def __init__(self, numeric_data, categorical_data, target_col=None):\n",
    "        self.numeric_data = torch.from_numpy(numeric_data).float()\n",
    "        self.categorical_data = torch.from_numpy(categorical_data).long()\n",
    "        self.target_col = torch.from_numpy(target_col).float() if target_col is not None else None\n",
    "\n",
    "    def __len__(self):\n",
    "        return len(self.numeric_data)\n",
    "    \n",
    "    def __getitem__(self, idx):\n",
    "        numeric_tensors = self.numeric_data[idx]\n",
    "        categorical_tensors = self.categorical_data[idx]\n",
    "        if self.target_col is not None:\n",
    "            return numeric_tensors, categorical_tensors, self.target_col[idx]\n",
    "        return numeric_tensors, categorical_tensors"
   ]
  },
  {
   "cell_type": "code",
   "execution_count": 8,
   "id": "db57dc39",
   "metadata": {
    "execution": {
     "iopub.execute_input": "2025-08-26T05:59:28.255483Z",
     "iopub.status.busy": "2025-08-26T05:59:28.255176Z",
     "iopub.status.idle": "2025-08-26T05:59:28.261546Z",
     "shell.execute_reply": "2025-08-26T05:59:28.260777Z"
    },
    "papermill": {
     "duration": 0.011982,
     "end_time": "2025-08-26T05:59:28.262904",
     "exception": false,
     "start_time": "2025-08-26T05:59:28.250922",
     "status": "completed"
    },
    "tags": []
   },
   "outputs": [],
   "source": [
    "def get_data_loaders(train_indices, validation_indices):\n",
    "    X_train_fold_numerical = train_data[numeric_col_names].iloc[train_indices]\n",
    "    X_train_fold_categorical = train_data[categorical_col_names].iloc[train_indices]\n",
    "    y_train_fold = train_data[target_col].iloc[train_indices]\n",
    "\n",
    "    X_validation_fold_numerical = train_data[numeric_col_names].iloc[validation_indices]\n",
    "    X_validation_fold_categorical = train_data[categorical_col_names].iloc[validation_indices]\n",
    "    y_validation_fold = train_data[target_col].iloc[validation_indices]\n",
    "\n",
    "    train_dataset = TabularDataset(\n",
    "        X_train_fold_numerical.values,\n",
    "        X_train_fold_categorical.values,\n",
    "        y_train_fold.values\n",
    "    )\n",
    "    validation_dataset = TabularDataset(\n",
    "        X_validation_fold_numerical.values,\n",
    "        X_validation_fold_categorical.values,\n",
    "        y_validation_fold.values\n",
    "    )\n",
    "    test_dataset = TabularDataset(\n",
    "        test_data[numeric_col_names].values,\n",
    "        test_data[categorical_col_names].values\n",
    "    )\n",
    "\n",
    "    train_loader = DataLoader(train_dataset, batch_size=batch_size, shuffle=True, num_workers=2)\n",
    "    validation_loader = DataLoader(validation_dataset, batch_size=batch_size)\n",
    "    test_loader = DataLoader(test_dataset, batch_size=batch_size)\n",
    "\n",
    "    return train_loader, validation_loader, test_loader"
   ]
  },
  {
   "cell_type": "code",
   "execution_count": 9,
   "id": "2823e8cb",
   "metadata": {
    "execution": {
     "iopub.execute_input": "2025-08-26T05:59:28.271251Z",
     "iopub.status.busy": "2025-08-26T05:59:28.270970Z",
     "iopub.status.idle": "2025-08-26T05:59:28.275450Z",
     "shell.execute_reply": "2025-08-26T05:59:28.274579Z"
    },
    "papermill": {
     "duration": 0.010461,
     "end_time": "2025-08-26T05:59:28.276971",
     "exception": false,
     "start_time": "2025-08-26T05:59:28.266510",
     "status": "completed"
    },
    "tags": []
   },
   "outputs": [],
   "source": [
    "def get_outputs(model, numeric_data, categorical_data):\n",
    "    numeric_data = numeric_data.to(device)\n",
    "    categorical_data = categorical_data.transpose(1,0).to(device)\n",
    "    return model(numeric_data, categorical_data).squeeze()"
   ]
  },
  {
   "cell_type": "code",
   "execution_count": 10,
   "id": "af69343b",
   "metadata": {
    "execution": {
     "iopub.execute_input": "2025-08-26T05:59:28.285539Z",
     "iopub.status.busy": "2025-08-26T05:59:28.285219Z",
     "iopub.status.idle": "2025-08-26T05:59:28.290764Z",
     "shell.execute_reply": "2025-08-26T05:59:28.289951Z"
    },
    "papermill": {
     "duration": 0.011305,
     "end_time": "2025-08-26T05:59:28.292051",
     "exception": false,
     "start_time": "2025-08-26T05:59:28.280746",
     "status": "completed"
    },
    "tags": []
   },
   "outputs": [],
   "source": [
    "def get_predictions(model, numeric_data, categorical_data, data_loader, is_test_data):\n",
    "    predictions = []\n",
    "\n",
    "    with torch.no_grad():\n",
    "        if is_test_data:\n",
    "            for numeric_data, categorical_data in data_loader:\n",
    "                outputs = get_outputs(model, numeric_data, categorical_data)\n",
    "                predictions.extend(torch.sigmoid(outputs).cpu().numpy())\n",
    "        else:\n",
    "            for numeric_data, categorical_data, _ in data_loader:\n",
    "                outputs = get_outputs(model, numeric_data, categorical_data)\n",
    "                predictions.extend(torch.sigmoid(outputs).cpu().numpy())\n",
    "\n",
    "    return predictions"
   ]
  },
  {
   "cell_type": "markdown",
   "id": "a538c91e",
   "metadata": {
    "papermill": {
     "duration": 0.003285,
     "end_time": "2025-08-26T05:59:28.299051",
     "exception": false,
     "start_time": "2025-08-26T05:59:28.295766",
     "status": "completed"
    },
    "tags": []
   },
   "source": [
    "# 6. Stratified K-Fold"
   ]
  },
  {
   "cell_type": "code",
   "execution_count": 11,
   "id": "a2f71c85",
   "metadata": {
    "execution": {
     "iopub.execute_input": "2025-08-26T05:59:28.307144Z",
     "iopub.status.busy": "2025-08-26T05:59:28.306856Z",
     "iopub.status.idle": "2025-08-26T05:59:28.310962Z",
     "shell.execute_reply": "2025-08-26T05:59:28.310104Z"
    },
    "papermill": {
     "duration": 0.009753,
     "end_time": "2025-08-26T05:59:28.312248",
     "exception": false,
     "start_time": "2025-08-26T05:59:28.302495",
     "status": "completed"
    },
    "tags": []
   },
   "outputs": [],
   "source": [
    "kfold_num_splits = 5\n",
    "batch_size = 1024\n",
    "max_epochs = 50\n",
    "early_stopping_threshold = 5"
   ]
  },
  {
   "cell_type": "code",
   "execution_count": 12,
   "id": "61ea9e25",
   "metadata": {
    "execution": {
     "iopub.execute_input": "2025-08-26T05:59:28.320801Z",
     "iopub.status.busy": "2025-08-26T05:59:28.320513Z",
     "iopub.status.idle": "2025-08-26T06:59:59.855554Z",
     "shell.execute_reply": "2025-08-26T06:59:59.854705Z"
    },
    "papermill": {
     "duration": 3631.541985,
     "end_time": "2025-08-26T06:59:59.857801",
     "exception": false,
     "start_time": "2025-08-26T05:59:28.315816",
     "status": "completed"
    },
    "tags": []
   },
   "outputs": [
    {
     "name": "stdout",
     "output_type": "stream",
     "text": [
      "\n",
      "##### Training Fold 1 of 5 #####\n",
      "\n",
      "(Max epochs: 50)\n",
      "[Epoch 1] Training Loss: 0.00024, Validation AUC Score: 0.93877\n",
      "[Epoch 2] Training Loss: 0.00019, Validation AUC Score: 0.94698\n",
      "[Epoch 3] Training Loss: 0.00018, Validation AUC Score: 0.95024\n",
      "[Epoch 4] Training Loss: 0.00018, Validation AUC Score: 0.95077\n",
      "[Epoch 5] Training Loss: 0.00017, Validation AUC Score: 0.95328\n",
      "[Epoch 6] Training Loss: 0.00017, Validation AUC Score: 0.95045\n",
      "[Epoch 7] Training Loss: 0.00017, Validation AUC Score: 0.95374\n",
      "[Epoch 8] Training Loss: 0.00017, Validation AUC Score: 0.95577\n",
      "[Epoch 9] Training Loss: 0.00017, Validation AUC Score: 0.95618\n",
      "[Epoch 10] Training Loss: 0.00017, Validation AUC Score: 0.95559\n",
      "[Epoch 11] Training Loss: 0.00017, Validation AUC Score: 0.95595\n",
      "[Epoch 12] Training Loss: 0.00017, Validation AUC Score: 0.95440\n",
      "[Epoch 13] Training Loss: 0.00016, Validation AUC Score: 0.95678\n",
      "[Epoch 14] Training Loss: 0.00016, Validation AUC Score: 0.95798\n",
      "[Epoch 15] Training Loss: 0.00016, Validation AUC Score: 0.95792\n",
      "[Epoch 16] Training Loss: 0.00016, Validation AUC Score: 0.95841\n",
      "[Epoch 17] Training Loss: 0.00016, Validation AUC Score: 0.95811\n",
      "[Epoch 18] Training Loss: 0.00016, Validation AUC Score: 0.95900\n",
      "[Epoch 19] Training Loss: 0.00016, Validation AUC Score: 0.95871\n",
      "[Epoch 20] Training Loss: 0.00016, Validation AUC Score: 0.95938\n",
      "[Epoch 21] Training Loss: 0.00016, Validation AUC Score: 0.95933\n",
      "[Epoch 22] Training Loss: 0.00016, Validation AUC Score: 0.95991\n",
      "[Epoch 23] Training Loss: 0.00016, Validation AUC Score: 0.95992\n",
      "[Epoch 24] Training Loss: 0.00016, Validation AUC Score: 0.95976\n",
      "[Epoch 25] Training Loss: 0.00016, Validation AUC Score: 0.96001\n",
      "[Epoch 26] Training Loss: 0.00016, Validation AUC Score: 0.96013\n",
      "[Epoch 27] Training Loss: 0.00016, Validation AUC Score: 0.96048\n",
      "[Epoch 28] Training Loss: 0.00016, Validation AUC Score: 0.96071\n",
      "[Epoch 29] Training Loss: 0.00016, Validation AUC Score: 0.96015\n",
      "[Epoch 30] Training Loss: 0.00016, Validation AUC Score: 0.96101\n",
      "[Epoch 31] Training Loss: 0.00016, Validation AUC Score: 0.96070\n",
      "[Epoch 32] Training Loss: 0.00016, Validation AUC Score: 0.96077\n",
      "[Epoch 33] Training Loss: 0.00015, Validation AUC Score: 0.96118\n",
      "[Epoch 34] Training Loss: 0.00015, Validation AUC Score: 0.96115\n",
      "[Epoch 35] Training Loss: 0.00015, Validation AUC Score: 0.96097\n",
      "[Epoch 36] Training Loss: 0.00015, Validation AUC Score: 0.96116\n",
      "[Epoch 37] Training Loss: 0.00015, Validation AUC Score: 0.96133\n",
      "[Epoch 38] Training Loss: 0.00015, Validation AUC Score: 0.96132\n",
      "[Epoch 39] Training Loss: 0.00015, Validation AUC Score: 0.96136\n",
      "[Epoch 40] Training Loss: 0.00015, Validation AUC Score: 0.96145\n",
      "[Epoch 41] Training Loss: 0.00015, Validation AUC Score: 0.96150\n",
      "[Epoch 42] Training Loss: 0.00015, Validation AUC Score: 0.96151\n",
      "[Epoch 43] Training Loss: 0.00015, Validation AUC Score: 0.96141\n",
      "[Epoch 44] Training Loss: 0.00015, Validation AUC Score: 0.96153\n",
      "[Epoch 45] Training Loss: 0.00015, Validation AUC Score: 0.96155\n",
      "[Epoch 46] Training Loss: 0.00015, Validation AUC Score: 0.96155\n",
      "[Epoch 47] Training Loss: 0.00015, Validation AUC Score: 0.96157\n",
      "[Epoch 48] Training Loss: 0.00015, Validation AUC Score: 0.96157\n",
      "[Epoch 49] Training Loss: 0.00015, Validation AUC Score: 0.96159\n",
      "[Epoch 50] Training Loss: 0.00015, Validation AUC Score: 0.96158\n",
      "Final ROC AUC score for Fold 1: 0.96159\n",
      "\n",
      "##### Training Fold 2 of 5 #####\n",
      "\n",
      "(Max epochs: 50)\n",
      "[Epoch 1] Training Loss: 0.00025, Validation AUC Score: 0.94095\n",
      "[Epoch 2] Training Loss: 0.00019, Validation AUC Score: 0.94207\n",
      "[Epoch 3] Training Loss: 0.00018, Validation AUC Score: 0.94949\n",
      "[Epoch 4] Training Loss: 0.00018, Validation AUC Score: 0.95017\n",
      "[Epoch 5] Training Loss: 0.00018, Validation AUC Score: 0.94781\n",
      "[Epoch 6] Training Loss: 0.00017, Validation AUC Score: 0.95273\n",
      "[Epoch 7] Training Loss: 0.00017, Validation AUC Score: 0.95088\n",
      "[Epoch 8] Training Loss: 0.00017, Validation AUC Score: 0.95412\n",
      "[Epoch 9] Training Loss: 0.00017, Validation AUC Score: 0.95390\n",
      "[Epoch 10] Training Loss: 0.00017, Validation AUC Score: 0.95426\n",
      "[Epoch 11] Training Loss: 0.00017, Validation AUC Score: 0.95585\n",
      "[Epoch 12] Training Loss: 0.00017, Validation AUC Score: 0.95584\n",
      "[Epoch 13] Training Loss: 0.00016, Validation AUC Score: 0.95557\n",
      "[Epoch 14] Training Loss: 0.00016, Validation AUC Score: 0.95482\n",
      "[Epoch 15] Training Loss: 0.00016, Validation AUC Score: 0.95729\n",
      "[Epoch 16] Training Loss: 0.00016, Validation AUC Score: 0.95662\n",
      "[Epoch 17] Training Loss: 0.00016, Validation AUC Score: 0.95791\n",
      "[Epoch 18] Training Loss: 0.00016, Validation AUC Score: 0.95785\n",
      "[Epoch 19] Training Loss: 0.00016, Validation AUC Score: 0.95823\n",
      "[Epoch 20] Training Loss: 0.00016, Validation AUC Score: 0.95837\n",
      "[Epoch 21] Training Loss: 0.00016, Validation AUC Score: 0.95877\n",
      "[Epoch 22] Training Loss: 0.00016, Validation AUC Score: 0.95903\n",
      "[Epoch 23] Training Loss: 0.00016, Validation AUC Score: 0.95928\n",
      "[Epoch 24] Training Loss: 0.00016, Validation AUC Score: 0.95890\n",
      "[Epoch 25] Training Loss: 0.00016, Validation AUC Score: 0.95951\n",
      "[Epoch 26] Training Loss: 0.00016, Validation AUC Score: 0.95953\n",
      "[Epoch 27] Training Loss: 0.00016, Validation AUC Score: 0.95974\n",
      "[Epoch 28] Training Loss: 0.00016, Validation AUC Score: 0.95988\n",
      "[Epoch 29] Training Loss: 0.00016, Validation AUC Score: 0.96008\n",
      "[Epoch 30] Training Loss: 0.00016, Validation AUC Score: 0.95994\n",
      "[Epoch 31] Training Loss: 0.00016, Validation AUC Score: 0.96022\n",
      "[Epoch 32] Training Loss: 0.00016, Validation AUC Score: 0.96041\n",
      "[Epoch 33] Training Loss: 0.00016, Validation AUC Score: 0.96038\n",
      "[Epoch 34] Training Loss: 0.00015, Validation AUC Score: 0.96053\n",
      "[Epoch 35] Training Loss: 0.00015, Validation AUC Score: 0.96087\n",
      "[Epoch 36] Training Loss: 0.00015, Validation AUC Score: 0.96070\n",
      "[Epoch 37] Training Loss: 0.00015, Validation AUC Score: 0.96065\n",
      "[Epoch 38] Training Loss: 0.00015, Validation AUC Score: 0.96111\n",
      "[Epoch 39] Training Loss: 0.00015, Validation AUC Score: 0.96095\n",
      "[Epoch 40] Training Loss: 0.00015, Validation AUC Score: 0.96121\n",
      "[Epoch 41] Training Loss: 0.00015, Validation AUC Score: 0.96120\n",
      "[Epoch 42] Training Loss: 0.00015, Validation AUC Score: 0.96118\n",
      "[Epoch 43] Training Loss: 0.00015, Validation AUC Score: 0.96120\n",
      "[Epoch 44] Training Loss: 0.00015, Validation AUC Score: 0.96122\n",
      "[Epoch 45] Training Loss: 0.00015, Validation AUC Score: 0.96131\n",
      "[Epoch 46] Training Loss: 0.00015, Validation AUC Score: 0.96136\n",
      "[Epoch 47] Training Loss: 0.00015, Validation AUC Score: 0.96136\n",
      "[Epoch 48] Training Loss: 0.00015, Validation AUC Score: 0.96133\n",
      "[Epoch 49] Training Loss: 0.00015, Validation AUC Score: 0.96136\n",
      "[Epoch 50] Training Loss: 0.00015, Validation AUC Score: 0.96137\n",
      "Final ROC AUC score for Fold 2: 0.96137\n",
      "\n",
      "##### Training Fold 3 of 5 #####\n",
      "\n",
      "(Max epochs: 50)\n",
      "[Epoch 1] Training Loss: 0.00025, Validation AUC Score: 0.94145\n",
      "[Epoch 2] Training Loss: 0.00019, Validation AUC Score: 0.94637\n",
      "[Epoch 3] Training Loss: 0.00018, Validation AUC Score: 0.95082\n",
      "[Epoch 4] Training Loss: 0.00018, Validation AUC Score: 0.95269\n",
      "[Epoch 5] Training Loss: 0.00017, Validation AUC Score: 0.94948\n",
      "[Epoch 6] Training Loss: 0.00017, Validation AUC Score: 0.95175\n",
      "[Epoch 7] Training Loss: 0.00017, Validation AUC Score: 0.95459\n",
      "[Epoch 8] Training Loss: 0.00017, Validation AUC Score: 0.95368\n",
      "[Epoch 9] Training Loss: 0.00017, Validation AUC Score: 0.95508\n",
      "[Epoch 10] Training Loss: 0.00017, Validation AUC Score: 0.95588\n",
      "[Epoch 11] Training Loss: 0.00016, Validation AUC Score: 0.95666\n",
      "[Epoch 12] Training Loss: 0.00016, Validation AUC Score: 0.95562\n",
      "[Epoch 13] Training Loss: 0.00016, Validation AUC Score: 0.95710\n",
      "[Epoch 14] Training Loss: 0.00016, Validation AUC Score: 0.95711\n",
      "[Epoch 15] Training Loss: 0.00016, Validation AUC Score: 0.95754\n",
      "[Epoch 16] Training Loss: 0.00016, Validation AUC Score: 0.95620\n",
      "[Epoch 17] Training Loss: 0.00016, Validation AUC Score: 0.95866\n",
      "[Epoch 18] Training Loss: 0.00016, Validation AUC Score: 0.95894\n",
      "[Epoch 19] Training Loss: 0.00016, Validation AUC Score: 0.95835\n",
      "[Epoch 20] Training Loss: 0.00016, Validation AUC Score: 0.95871\n",
      "[Epoch 21] Training Loss: 0.00016, Validation AUC Score: 0.95916\n",
      "[Epoch 22] Training Loss: 0.00016, Validation AUC Score: 0.95917\n",
      "[Epoch 23] Training Loss: 0.00016, Validation AUC Score: 0.95942\n",
      "[Epoch 24] Training Loss: 0.00016, Validation AUC Score: 0.95949\n",
      "[Epoch 25] Training Loss: 0.00016, Validation AUC Score: 0.95950\n",
      "[Epoch 26] Training Loss: 0.00016, Validation AUC Score: 0.95982\n",
      "[Epoch 27] Training Loss: 0.00016, Validation AUC Score: 0.96046\n",
      "[Epoch 28] Training Loss: 0.00016, Validation AUC Score: 0.96016\n",
      "[Epoch 29] Training Loss: 0.00016, Validation AUC Score: 0.96056\n",
      "[Epoch 30] Training Loss: 0.00015, Validation AUC Score: 0.96042\n",
      "[Epoch 31] Training Loss: 0.00015, Validation AUC Score: 0.96022\n",
      "[Epoch 32] Training Loss: 0.00015, Validation AUC Score: 0.96081\n",
      "[Epoch 33] Training Loss: 0.00015, Validation AUC Score: 0.96078\n",
      "[Epoch 34] Training Loss: 0.00015, Validation AUC Score: 0.96077\n",
      "[Epoch 35] Training Loss: 0.00015, Validation AUC Score: 0.96084\n",
      "[Epoch 36] Training Loss: 0.00015, Validation AUC Score: 0.96084\n",
      "[Epoch 37] Training Loss: 0.00015, Validation AUC Score: 0.96100\n",
      "[Epoch 38] Training Loss: 0.00015, Validation AUC Score: 0.96099\n",
      "[Epoch 39] Training Loss: 0.00015, Validation AUC Score: 0.96084\n",
      "[Epoch 40] Training Loss: 0.00015, Validation AUC Score: 0.96103\n",
      "[Epoch 41] Training Loss: 0.00015, Validation AUC Score: 0.96112\n",
      "[Epoch 42] Training Loss: 0.00015, Validation AUC Score: 0.96110\n",
      "[Epoch 43] Training Loss: 0.00015, Validation AUC Score: 0.96120\n",
      "[Epoch 44] Training Loss: 0.00015, Validation AUC Score: 0.96117\n",
      "[Epoch 45] Training Loss: 0.00015, Validation AUC Score: 0.96117\n",
      "[Epoch 46] Training Loss: 0.00015, Validation AUC Score: 0.96124\n",
      "[Epoch 47] Training Loss: 0.00015, Validation AUC Score: 0.96118\n",
      "[Epoch 48] Training Loss: 0.00015, Validation AUC Score: 0.96123\n",
      "[Epoch 49] Training Loss: 0.00015, Validation AUC Score: 0.96122\n",
      "[Epoch 50] Training Loss: 0.00015, Validation AUC Score: 0.96122\n",
      "Final ROC AUC score for Fold 3: 0.96124\n",
      "\n",
      "##### Training Fold 4 of 5 #####\n",
      "\n",
      "(Max epochs: 50)\n",
      "[Epoch 1] Training Loss: 0.00024, Validation AUC Score: 0.94284\n",
      "[Epoch 2] Training Loss: 0.00019, Validation AUC Score: 0.94712\n",
      "[Epoch 3] Training Loss: 0.00018, Validation AUC Score: 0.94462\n",
      "[Epoch 4] Training Loss: 0.00018, Validation AUC Score: 0.95150\n",
      "[Epoch 5] Training Loss: 0.00018, Validation AUC Score: 0.94785\n",
      "[Epoch 6] Training Loss: 0.00017, Validation AUC Score: 0.95225\n",
      "[Epoch 7] Training Loss: 0.00017, Validation AUC Score: 0.95280\n",
      "[Epoch 8] Training Loss: 0.00017, Validation AUC Score: 0.95182\n",
      "[Epoch 9] Training Loss: 0.00017, Validation AUC Score: 0.95090\n",
      "[Epoch 10] Training Loss: 0.00017, Validation AUC Score: 0.95645\n",
      "[Epoch 11] Training Loss: 0.00017, Validation AUC Score: 0.95510\n",
      "[Epoch 12] Training Loss: 0.00017, Validation AUC Score: 0.95709\n",
      "[Epoch 13] Training Loss: 0.00016, Validation AUC Score: 0.95714\n",
      "[Epoch 14] Training Loss: 0.00016, Validation AUC Score: 0.95769\n",
      "[Epoch 15] Training Loss: 0.00016, Validation AUC Score: 0.95728\n",
      "[Epoch 16] Training Loss: 0.00016, Validation AUC Score: 0.95690\n",
      "[Epoch 17] Training Loss: 0.00016, Validation AUC Score: 0.95797\n",
      "[Epoch 18] Training Loss: 0.00016, Validation AUC Score: 0.95767\n",
      "[Epoch 19] Training Loss: 0.00016, Validation AUC Score: 0.95870\n",
      "[Epoch 20] Training Loss: 0.00016, Validation AUC Score: 0.95810\n",
      "[Epoch 21] Training Loss: 0.00016, Validation AUC Score: 0.95846\n",
      "[Epoch 22] Training Loss: 0.00016, Validation AUC Score: 0.95878\n",
      "[Epoch 23] Training Loss: 0.00016, Validation AUC Score: 0.95978\n",
      "[Epoch 24] Training Loss: 0.00016, Validation AUC Score: 0.95955\n",
      "[Epoch 25] Training Loss: 0.00016, Validation AUC Score: 0.95980\n",
      "[Epoch 26] Training Loss: 0.00016, Validation AUC Score: 0.95963\n",
      "[Epoch 27] Training Loss: 0.00016, Validation AUC Score: 0.96024\n",
      "[Epoch 28] Training Loss: 0.00016, Validation AUC Score: 0.96039\n",
      "[Epoch 29] Training Loss: 0.00016, Validation AUC Score: 0.95987\n",
      "[Epoch 30] Training Loss: 0.00016, Validation AUC Score: 0.96047\n",
      "[Epoch 31] Training Loss: 0.00016, Validation AUC Score: 0.96051\n",
      "[Epoch 32] Training Loss: 0.00016, Validation AUC Score: 0.96034\n",
      "[Epoch 33] Training Loss: 0.00016, Validation AUC Score: 0.96043\n",
      "[Epoch 34] Training Loss: 0.00016, Validation AUC Score: 0.96087\n",
      "[Epoch 35] Training Loss: 0.00016, Validation AUC Score: 0.96083\n",
      "[Epoch 36] Training Loss: 0.00016, Validation AUC Score: 0.96083\n",
      "[Epoch 37] Training Loss: 0.00016, Validation AUC Score: 0.96092\n",
      "[Epoch 38] Training Loss: 0.00016, Validation AUC Score: 0.96103\n",
      "[Epoch 39] Training Loss: 0.00016, Validation AUC Score: 0.96097\n",
      "[Epoch 40] Training Loss: 0.00015, Validation AUC Score: 0.96108\n",
      "[Epoch 41] Training Loss: 0.00015, Validation AUC Score: 0.96117\n",
      "[Epoch 42] Training Loss: 0.00015, Validation AUC Score: 0.96103\n",
      "[Epoch 43] Training Loss: 0.00015, Validation AUC Score: 0.96112\n",
      "[Epoch 44] Training Loss: 0.00015, Validation AUC Score: 0.96124\n",
      "[Epoch 45] Training Loss: 0.00015, Validation AUC Score: 0.96125\n",
      "[Epoch 46] Training Loss: 0.00015, Validation AUC Score: 0.96119\n",
      "[Epoch 47] Training Loss: 0.00015, Validation AUC Score: 0.96118\n",
      "[Epoch 48] Training Loss: 0.00015, Validation AUC Score: 0.96125\n",
      "[Epoch 49] Training Loss: 0.00015, Validation AUC Score: 0.96125\n",
      "[Epoch 50] Training Loss: 0.00015, Validation AUC Score: 0.96127\n",
      "Final ROC AUC score for Fold 4: 0.96127\n",
      "\n",
      "##### Training Fold 5 of 5 #####\n",
      "\n",
      "(Max epochs: 50)\n",
      "[Epoch 1] Training Loss: 0.00024, Validation AUC Score: 0.94585\n",
      "[Epoch 2] Training Loss: 0.00019, Validation AUC Score: 0.95014\n",
      "[Epoch 3] Training Loss: 0.00018, Validation AUC Score: 0.95101\n",
      "[Epoch 4] Training Loss: 0.00018, Validation AUC Score: 0.94886\n",
      "[Epoch 5] Training Loss: 0.00017, Validation AUC Score: 0.95432\n",
      "[Epoch 6] Training Loss: 0.00017, Validation AUC Score: 0.95127\n",
      "[Epoch 7] Training Loss: 0.00017, Validation AUC Score: 0.95608\n",
      "[Epoch 8] Training Loss: 0.00017, Validation AUC Score: 0.95640\n",
      "[Epoch 9] Training Loss: 0.00017, Validation AUC Score: 0.95639\n",
      "[Epoch 10] Training Loss: 0.00017, Validation AUC Score: 0.95643\n",
      "[Epoch 11] Training Loss: 0.00016, Validation AUC Score: 0.95767\n",
      "[Epoch 12] Training Loss: 0.00017, Validation AUC Score: 0.95806\n",
      "[Epoch 13] Training Loss: 0.00016, Validation AUC Score: 0.95841\n",
      "[Epoch 14] Training Loss: 0.00016, Validation AUC Score: 0.95871\n",
      "[Epoch 15] Training Loss: 0.00016, Validation AUC Score: 0.95840\n",
      "[Epoch 16] Training Loss: 0.00016, Validation AUC Score: 0.95950\n",
      "[Epoch 17] Training Loss: 0.00016, Validation AUC Score: 0.95967\n",
      "[Epoch 18] Training Loss: 0.00016, Validation AUC Score: 0.95990\n",
      "[Epoch 19] Training Loss: 0.00016, Validation AUC Score: 0.95983\n",
      "[Epoch 20] Training Loss: 0.00016, Validation AUC Score: 0.96003\n",
      "[Epoch 21] Training Loss: 0.00016, Validation AUC Score: 0.96018\n",
      "[Epoch 22] Training Loss: 0.00016, Validation AUC Score: 0.95736\n",
      "[Epoch 23] Training Loss: 0.00016, Validation AUC Score: 0.96055\n",
      "[Epoch 24] Training Loss: 0.00016, Validation AUC Score: 0.96107\n",
      "[Epoch 25] Training Loss: 0.00016, Validation AUC Score: 0.96095\n",
      "[Epoch 26] Training Loss: 0.00016, Validation AUC Score: 0.96138\n",
      "[Epoch 27] Training Loss: 0.00016, Validation AUC Score: 0.96128\n",
      "[Epoch 28] Training Loss: 0.00016, Validation AUC Score: 0.96070\n",
      "[Epoch 29] Training Loss: 0.00016, Validation AUC Score: 0.96150\n",
      "[Epoch 30] Training Loss: 0.00016, Validation AUC Score: 0.96152\n",
      "[Epoch 31] Training Loss: 0.00015, Validation AUC Score: 0.96166\n",
      "[Epoch 32] Training Loss: 0.00015, Validation AUC Score: 0.96142\n",
      "[Epoch 33] Training Loss: 0.00015, Validation AUC Score: 0.96186\n",
      "[Epoch 34] Training Loss: 0.00015, Validation AUC Score: 0.96183\n",
      "[Epoch 35] Training Loss: 0.00015, Validation AUC Score: 0.96185\n",
      "[Epoch 36] Training Loss: 0.00015, Validation AUC Score: 0.96195\n",
      "[Epoch 37] Training Loss: 0.00015, Validation AUC Score: 0.96192\n",
      "[Epoch 38] Training Loss: 0.00015, Validation AUC Score: 0.96205\n",
      "[Epoch 39] Training Loss: 0.00015, Validation AUC Score: 0.96206\n",
      "[Epoch 40] Training Loss: 0.00015, Validation AUC Score: 0.96214\n",
      "[Epoch 41] Training Loss: 0.00015, Validation AUC Score: 0.96220\n",
      "[Epoch 42] Training Loss: 0.00015, Validation AUC Score: 0.96226\n",
      "[Epoch 43] Training Loss: 0.00015, Validation AUC Score: 0.96218\n",
      "[Epoch 44] Training Loss: 0.00015, Validation AUC Score: 0.96224\n",
      "[Epoch 45] Training Loss: 0.00015, Validation AUC Score: 0.96230\n",
      "[Epoch 46] Training Loss: 0.00015, Validation AUC Score: 0.96226\n",
      "[Epoch 47] Training Loss: 0.00015, Validation AUC Score: 0.96229\n",
      "[Epoch 48] Training Loss: 0.00015, Validation AUC Score: 0.96228\n",
      "[Epoch 49] Training Loss: 0.00015, Validation AUC Score: 0.96230\n",
      "[Epoch 50] Training Loss: 0.00015, Validation AUC Score: 0.96229\n",
      "Stopping early - 5 epochs passed without improvement in best validation ROC AUC score.\n",
      "Final ROC AUC score for Fold 5: 0.96230\n"
     ]
    }
   ],
   "source": [
    "kfold = StratifiedKFold(n_splits=kfold_num_splits, shuffle=True, random_state=random_seed)\n",
    "kfold_splits = kfold.split(train_data.drop(target_col, axis=1), train_data[target_col])\n",
    "kfold_splits_enumeration = enumerate(kfold_splits)\n",
    "\n",
    "oof_predictions = np.zeros(len(train_data))\n",
    "test_predictions = np.zeros(len(test_data))\n",
    "\n",
    "for fold, (train_indices, validation_indices) in kfold_splits_enumeration:\n",
    "    print(f\"\\n##### Training Fold {fold + 1} of {kfold_num_splits} #####\\n\")\n",
    "\n",
    "    # get data loaders for training, validation and test data\n",
    "    train_loader, validation_loader, test_loader = get_data_loaders(train_indices, validation_indices)\n",
    "\n",
    "    # will be used later for ROC AUC score calculation\n",
    "    y_validation_fold = train_data[target_col].iloc[validation_indices]\n",
    "\n",
    "    # PyTorch model\n",
    "    model = BankModel(\n",
    "        len(numeric_col_names),\n",
    "        train_test_combined[categorical_col_names].nunique(), # `num_embeddings` Embedding parameter\n",
    "        32 # `embedding_dim` Embedding parameter\n",
    "    ).to(device)\n",
    "\n",
    "    optimizer = torch.optim.Adam(model.parameters(), lr=0.001)\n",
    "    criterion = nn.BCEWithLogitsLoss()\n",
    "    scheduler = torch.optim.lr_scheduler.CosineAnnealingLR(optimizer, T_max=max_epochs)\n",
    "\n",
    "    best_validation_auc_score = 0\n",
    "    early_stopping_counter = 0\n",
    "\n",
    "    print(f\"(Max epochs: {max_epochs})\")\n",
    "\n",
    "    for epoch in range(max_epochs):\n",
    "        model.train()\n",
    "        loss_train = 0\n",
    "        for numeric_data, categorical_data, labels in train_loader:\n",
    "            optimizer.zero_grad()\n",
    "            outputs = get_outputs(model, numeric_data, categorical_data)\n",
    "            loss = criterion(outputs, labels.to(device))\n",
    "            loss.backward()\n",
    "            optimizer.step()\n",
    "            loss_train += loss.item()\n",
    "\n",
    "        scheduler.step()\n",
    "\n",
    "        # validation\n",
    "        model.eval()\n",
    "        validation_predictions = get_predictions(model, numeric_data, categorical_data, validation_loader, False)\n",
    "        current_validation_auc_score = roc_auc_score(y_validation_fold, validation_predictions)\n",
    "        print(f\"[Epoch {epoch + 1}] Training Loss: {loss_train / len(train_indices):.5f}, Validation AUC Score: {current_validation_auc_score:.5f}\")\n",
    "\n",
    "        if current_validation_auc_score > best_validation_auc_score:\n",
    "            best_validation_auc_score = current_validation_auc_score\n",
    "            early_stopping_counter = 0\n",
    "            torch.save(model.state_dict(), 'model.pth')\n",
    "        else:\n",
    "            early_stopping_counter += 1\n",
    "            if early_stopping_counter >= early_stopping_threshold:\n",
    "                print(f\"Stopping early - {early_stopping_threshold} epochs passed without improvement in best validation ROC AUC score.\")\n",
    "                break\n",
    "\n",
    "    model.load_state_dict(torch.load('model.pth'))\n",
    "\n",
    "    model.eval()\n",
    "    validation_predictions = get_predictions(model, numeric_data, categorical_data, validation_loader, False)\n",
    "\n",
    "    oof_predictions[validation_indices] = np.array(validation_predictions)\n",
    "    final_fold_roc_auc_score = roc_auc_score(y_validation_fold, oof_predictions[validation_indices])\n",
    "    print(f\"Final ROC AUC score for Fold {fold + 1}: {final_fold_roc_auc_score:.5f}\")\n",
    "\n",
    "    # Make predictions on test data\n",
    "    test_predictions_fold = get_predictions(model, numeric_data, categorical_data, test_loader, True)\n",
    "    test_predictions += np.array(test_predictions_fold) / kfold_num_splits"
   ]
  },
  {
   "cell_type": "code",
   "execution_count": 13,
   "id": "169c3625",
   "metadata": {
    "execution": {
     "iopub.execute_input": "2025-08-26T06:59:59.894190Z",
     "iopub.status.busy": "2025-08-26T06:59:59.893355Z",
     "iopub.status.idle": "2025-08-26T07:00:00.205219Z",
     "shell.execute_reply": "2025-08-26T07:00:00.204287Z"
    },
    "papermill": {
     "duration": 0.331017,
     "end_time": "2025-08-26T07:00:00.206763",
     "exception": false,
     "start_time": "2025-08-26T06:59:59.875746",
     "status": "completed"
    },
    "tags": []
   },
   "outputs": [
    {
     "name": "stdout",
     "output_type": "stream",
     "text": [
      "5-Fold Cross Validation ROC AUC: 0.96155\n"
     ]
    }
   ],
   "source": [
    "# calculate the ROC AUC score for all Out-Of-Fold predictions\n",
    "oof_roc_auc_score = roc_auc_score(train_data[target_col], oof_predictions)\n",
    "print(f\"{kfold_num_splits}-Fold Cross Validation ROC AUC: {oof_roc_auc_score:.5f}\")"
   ]
  },
  {
   "cell_type": "code",
   "execution_count": 14,
   "id": "5797f5c0",
   "metadata": {
    "execution": {
     "iopub.execute_input": "2025-08-26T07:00:00.239862Z",
     "iopub.status.busy": "2025-08-26T07:00:00.239073Z",
     "iopub.status.idle": "2025-08-26T07:00:00.843056Z",
     "shell.execute_reply": "2025-08-26T07:00:00.842186Z"
    },
    "papermill": {
     "duration": 0.622136,
     "end_time": "2025-08-26T07:00:00.844514",
     "exception": false,
     "start_time": "2025-08-26T07:00:00.222378",
     "status": "completed"
    },
    "tags": []
   },
   "outputs": [
    {
     "name": "stdout",
     "output_type": "stream",
     "text": [
      "Submission file prepared.\n"
     ]
    }
   ],
   "source": [
    "# Prepare submission\n",
    "submission = pd.DataFrame({'id': test_data.index, 'y': test_predictions})\n",
    "submission.to_csv('submission.csv', index=False)\n",
    "print('Submission file prepared.')"
   ]
  }
 ],
 "metadata": {
  "kaggle": {
   "accelerator": "none",
   "dataSources": [
    {
     "databundleVersionId": 12937777,
     "sourceId": 91719,
     "sourceType": "competition"
    }
   ],
   "dockerImageVersionId": 31089,
   "isGpuEnabled": false,
   "isInternetEnabled": true,
   "language": "python",
   "sourceType": "notebook"
  },
  "kernelspec": {
   "display_name": "Python 3",
   "language": "python",
   "name": "python3"
  },
  "language_info": {
   "codemirror_mode": {
    "name": "ipython",
    "version": 3
   },
   "file_extension": ".py",
   "mimetype": "text/x-python",
   "name": "python",
   "nbconvert_exporter": "python",
   "pygments_lexer": "ipython3",
   "version": "3.11.13"
  },
  "papermill": {
   "default_parameters": {},
   "duration": 3659.152682,
   "end_time": "2025-08-26T07:00:03.456954",
   "environment_variables": {},
   "exception": null,
   "input_path": "__notebook__.ipynb",
   "output_path": "__notebook__.ipynb",
   "parameters": {},
   "start_time": "2025-08-26T05:59:04.304272",
   "version": "2.6.0"
  }
 },
 "nbformat": 4,
 "nbformat_minor": 5
}
