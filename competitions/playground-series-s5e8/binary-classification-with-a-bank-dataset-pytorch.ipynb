{
 "cells": [
  {
   "cell_type": "markdown",
   "id": "43ee1fef",
   "metadata": {
    "papermill": {
     "duration": 0.004394,
     "end_time": "2025-08-27T16:44:23.035709",
     "exception": false,
     "start_time": "2025-08-27T16:44:23.031315",
     "status": "completed"
    },
    "tags": []
   },
   "source": [
    "# 1. Overview\n",
    "\n",
    "This is a notebook for training a neural network to submit predictions to the \"Binary Classification with a Bank Dataset\" Kaggle competition ([playground-series-s5e8](https://www.kaggle.com/competitions/playground-series-s5e8)).\n",
    "\n",
    "Synthetic data is used for this playground competition, and the objective is to, for each client (with a corresponding `id`) in the test set, predict the probability that the client will subscribe to a bank term deposit. Note that while the target represented by `y` is binary (i.e. the client either subscribes or does not subscribe), the predictions are about probabilities, and so their values lie between 0 and 1."
   ]
  },
  {
   "cell_type": "markdown",
   "id": "41b6d1b0",
   "metadata": {
    "papermill": {
     "duration": 0.003398,
     "end_time": "2025-08-27T16:44:23.042918",
     "exception": false,
     "start_time": "2025-08-27T16:44:23.039520",
     "status": "completed"
    },
    "tags": []
   },
   "source": [
    "# 2. Setup\n",
    "\n",
    "Let's first do some initial setup to import what we'll need."
   ]
  },
  {
   "cell_type": "code",
   "execution_count": 1,
   "id": "81a7227f",
   "metadata": {
    "execution": {
     "iopub.execute_input": "2025-08-27T16:44:23.051337Z",
     "iopub.status.busy": "2025-08-27T16:44:23.050719Z",
     "iopub.status.idle": "2025-08-27T16:44:35.455234Z",
     "shell.execute_reply": "2025-08-27T16:44:35.454584Z"
    },
    "papermill": {
     "duration": 12.410256,
     "end_time": "2025-08-27T16:44:35.456599",
     "exception": false,
     "start_time": "2025-08-27T16:44:23.046343",
     "status": "completed"
    },
    "tags": []
   },
   "outputs": [],
   "source": [
    "import numpy as np\n",
    "import pandas as pd\n",
    "from sklearn.metrics import roc_auc_score\n",
    "from sklearn.model_selection import StratifiedKFold\n",
    "from sklearn.preprocessing import LabelEncoder\n",
    "import torch\n",
    "import torch.nn as nn\n",
    "import torch.optim as optim\n",
    "from torch.utils.data import Dataset, DataLoader\n",
    "from torchvision import transforms, utils"
   ]
  },
  {
   "cell_type": "code",
   "execution_count": 2,
   "id": "42e62330",
   "metadata": {
    "execution": {
     "iopub.execute_input": "2025-08-27T16:44:35.465353Z",
     "iopub.status.busy": "2025-08-27T16:44:35.464978Z",
     "iopub.status.idle": "2025-08-27T16:44:35.526965Z",
     "shell.execute_reply": "2025-08-27T16:44:35.526116Z"
    },
    "papermill": {
     "duration": 0.068424,
     "end_time": "2025-08-27T16:44:35.528949",
     "exception": false,
     "start_time": "2025-08-27T16:44:35.460525",
     "status": "completed"
    },
    "tags": []
   },
   "outputs": [],
   "source": [
    "random_seed = 11\n",
    "np.random.seed(random_seed)\n",
    "torch.manual_seed(random_seed)\n",
    "if torch.cuda.is_available():\n",
    "    torch.cuda.manual_seed(random_seed)\n",
    "    torch.cuda.manual_seed_all(random_seed)"
   ]
  },
  {
   "cell_type": "code",
   "execution_count": 3,
   "id": "2db9439a",
   "metadata": {
    "execution": {
     "iopub.execute_input": "2025-08-27T16:44:35.538325Z",
     "iopub.status.busy": "2025-08-27T16:44:35.537659Z",
     "iopub.status.idle": "2025-08-27T16:44:35.543080Z",
     "shell.execute_reply": "2025-08-27T16:44:35.542443Z"
    },
    "papermill": {
     "duration": 0.010761,
     "end_time": "2025-08-27T16:44:35.544094",
     "exception": false,
     "start_time": "2025-08-27T16:44:35.533333",
     "status": "completed"
    },
    "tags": []
   },
   "outputs": [
    {
     "data": {
      "text/plain": [
       "'cuda'"
      ]
     },
     "execution_count": 3,
     "metadata": {},
     "output_type": "execute_result"
    }
   ],
   "source": [
    "device = 'cuda' if torch.cuda.is_available() else 'cpu'\n",
    "device"
   ]
  },
  {
   "cell_type": "code",
   "execution_count": 4,
   "id": "f2ffc91f",
   "metadata": {
    "execution": {
     "iopub.execute_input": "2025-08-27T16:44:35.552384Z",
     "iopub.status.busy": "2025-08-27T16:44:35.552173Z",
     "iopub.status.idle": "2025-08-27T16:44:38.346861Z",
     "shell.execute_reply": "2025-08-27T16:44:38.346003Z"
    },
    "papermill": {
     "duration": 2.800369,
     "end_time": "2025-08-27T16:44:38.348332",
     "exception": false,
     "start_time": "2025-08-27T16:44:35.547963",
     "status": "completed"
    },
    "tags": []
   },
   "outputs": [],
   "source": [
    "# Read data files\n",
    "input_filepath = '/kaggle/input'\n",
    "train_data = pd.read_csv(input_filepath + '/playground-series-s5e8/train.csv')\n",
    "test_data = pd.read_csv(input_filepath + '/playground-series-s5e8/test.csv')\n",
    "\n",
    "# Set index\n",
    "train_data.set_index('id', inplace=True)\n",
    "test_data.set_index('id', inplace=True)\n",
    "\n",
    "# Get numeric and categorical columns from training data (which should be the same for test data)\n",
    "numeric_col_names = train_data.select_dtypes(include='number').columns.to_series()\n",
    "categorical_col_names = train_data.select_dtypes(include='object').columns.to_series()\n",
    "assert numeric_col_names.size + categorical_col_names.size == train_data.shape[1]\n",
    "\n",
    "# Set target column\n",
    "target_col='y'\n",
    "# Drop 'y' column from numeric column names\n",
    "numeric_col_names.drop(target_col, inplace=True)"
   ]
  },
  {
   "cell_type": "markdown",
   "id": "2b11d730",
   "metadata": {
    "papermill": {
     "duration": 0.003479,
     "end_time": "2025-08-27T16:44:38.356073",
     "exception": false,
     "start_time": "2025-08-27T16:44:38.352594",
     "status": "completed"
    },
    "tags": []
   },
   "source": [
    "# 3. Data Preprocessing"
   ]
  },
  {
   "cell_type": "markdown",
   "id": "1c25d70d",
   "metadata": {
    "papermill": {
     "duration": 0.004222,
     "end_time": "2025-08-27T16:44:38.363761",
     "exception": false,
     "start_time": "2025-08-27T16:44:38.359539",
     "status": "completed"
    },
    "tags": []
   },
   "source": [
    "## 3.1 Feature Generation"
   ]
  },
  {
   "cell_type": "code",
   "execution_count": 5,
   "id": "6d89b9c7",
   "metadata": {
    "execution": {
     "iopub.execute_input": "2025-08-27T16:44:38.372193Z",
     "iopub.status.busy": "2025-08-27T16:44:38.371893Z",
     "iopub.status.idle": "2025-08-27T16:44:39.515422Z",
     "shell.execute_reply": "2025-08-27T16:44:39.514648Z"
    },
    "papermill": {
     "duration": 1.149194,
     "end_time": "2025-08-27T16:44:39.516585",
     "exception": false,
     "start_time": "2025-08-27T16:44:38.367391",
     "status": "completed"
    },
    "tags": []
   },
   "outputs": [
    {
     "name": "stdout",
     "output_type": "stream",
     "text": [
      "balance_threshold for third quartile: 1390.0\n",
      "duration_threshold for third quartile: 361.0\n",
      "campaign_threshold for third quartile: 3.0\n"
     ]
    }
   ],
   "source": [
    "# log transformation of numeric features\n",
    "\n",
    "train_data['log_balance'] = np.sign(train_data['balance']) * np.log(train_data['balance'].abs().apply(lambda x: x if x > 1 else 1))\n",
    "test_data['log_balance'] = np.sign(test_data['balance']) * np.log(test_data['balance'].abs().apply(lambda x: x if x > 1 else 1))\n",
    "\n",
    "train_data['log_duration'] = np.sign(train_data['duration']) * np.log(train_data['duration'].abs().apply(lambda x: x if x > 1 else 1))\n",
    "test_data['log_duration'] = np.sign(test_data['duration']) * np.log(test_data['duration'].abs().apply(lambda x: x if x > 1 else 1))\n",
    "\n",
    "train_data['log_pdays'] = train_data['pdays'].apply(lambda x: x if x == -1 else (0 if x < 1 else np.log(x)))\n",
    "test_data['log_pdays'] = test_data['pdays'].apply(lambda x: x if x == -1 else (0 if x < 1 else np.log(x)))\n",
    "\n",
    "# transformation of numeric features to boolean ones based on threshold or specific value\n",
    "\n",
    "balance_threshold = train_data['balance'].quantile(0.75)\n",
    "print(f\"balance_threshold for third quartile: {balance_threshold}\")\n",
    "train_data['balance_above_third_quartile'] = (train_data['balance'] > balance_threshold).astype(object)\n",
    "test_data['balance_above_third_quartile'] = (test_data['balance'] > balance_threshold).astype(object)\n",
    "\n",
    "duration_threshold = train_data['duration'].quantile(0.75)\n",
    "print(f\"duration_threshold for third quartile: {duration_threshold}\")\n",
    "train_data['duration_above_third_quartile'] = (train_data['duration'] > duration_threshold).astype(object)\n",
    "test_data['duration_above_third_quartile'] = (test_data['duration'] > duration_threshold).astype(object)\n",
    "\n",
    "campaign_threshold = train_data['campaign'].quantile(0.75)\n",
    "print(f\"campaign_threshold for third quartile: {campaign_threshold}\")\n",
    "train_data['campaign_above_third_quartile'] = (train_data['campaign'] > campaign_threshold).astype(object)\n",
    "test_data['campaign_above_third_quartile'] = (test_data['campaign'] > campaign_threshold).astype(object)\n",
    "\n",
    "train_data['client_not_previously_contacted'] = (train_data['pdays'] == -1).astype(object)\n",
    "test_data['client_not_previously_contacted'] = (test_data['pdays'] == -1).astype(object)"
   ]
  },
  {
   "cell_type": "code",
   "execution_count": 6,
   "id": "34c87e5a",
   "metadata": {
    "execution": {
     "iopub.execute_input": "2025-08-27T16:44:39.525734Z",
     "iopub.status.busy": "2025-08-27T16:44:39.525152Z",
     "iopub.status.idle": "2025-08-27T16:44:40.077405Z",
     "shell.execute_reply": "2025-08-27T16:44:40.076785Z"
    },
    "papermill": {
     "duration": 0.558198,
     "end_time": "2025-08-27T16:44:40.078837",
     "exception": false,
     "start_time": "2025-08-27T16:44:39.520639",
     "status": "completed"
    },
    "tags": []
   },
   "outputs": [],
   "source": [
    "# drop columns that are no longer necessary due to feature generation\n",
    "cols_to_drop = [\n",
    "    'balance',\n",
    "    'duration',\n",
    "    'pdays',\n",
    "]\n",
    "train_data.drop(cols_to_drop, axis=1, inplace=True)\n",
    "test_data.drop(cols_to_drop, axis=1, inplace=True)\n",
    "\n",
    "# get numeric and categorical column names for training data again, and check that\n",
    "# the total number of numeric and categorical columns is as expected\n",
    "numeric_col_names = train_data.select_dtypes(include='number').columns.to_series()\n",
    "categorical_col_names = train_data.select_dtypes(include='object').columns.to_series()\n",
    "assert numeric_col_names.size + categorical_col_names.size == train_data.shape[1]\n",
    "\n",
    "# drop 'y' column from numeric column names\n",
    "numeric_col_names.drop(target_col, inplace=True)"
   ]
  },
  {
   "cell_type": "markdown",
   "id": "182f47a5",
   "metadata": {
    "papermill": {
     "duration": 0.003439,
     "end_time": "2025-08-27T16:44:40.086274",
     "exception": false,
     "start_time": "2025-08-27T16:44:40.082835",
     "status": "completed"
    },
    "tags": []
   },
   "source": [
    "## 3.2 Categorical Encoding"
   ]
  },
  {
   "cell_type": "code",
   "execution_count": 7,
   "id": "4d8d57ba",
   "metadata": {
    "execution": {
     "iopub.execute_input": "2025-08-27T16:44:40.094348Z",
     "iopub.status.busy": "2025-08-27T16:44:40.094089Z",
     "iopub.status.idle": "2025-08-27T16:44:42.883863Z",
     "shell.execute_reply": "2025-08-27T16:44:42.883039Z"
    },
    "papermill": {
     "duration": 2.795427,
     "end_time": "2025-08-27T16:44:42.885329",
     "exception": false,
     "start_time": "2025-08-27T16:44:40.089902",
     "status": "completed"
    },
    "tags": []
   },
   "outputs": [],
   "source": [
    "# encode categorical features\n",
    "for col in categorical_col_names:\n",
    "    le = LabelEncoder()\n",
    "    train_data[col] = le.fit_transform(train_data[col].astype(str))\n",
    "    test_data[col] = le.fit_transform(test_data[col].astype(str))"
   ]
  },
  {
   "cell_type": "markdown",
   "id": "9a44439d",
   "metadata": {
    "papermill": {
     "duration": 0.003536,
     "end_time": "2025-08-27T16:44:42.892819",
     "exception": false,
     "start_time": "2025-08-27T16:44:42.889283",
     "status": "completed"
    },
    "tags": []
   },
   "source": [
    "## 3.3 Review of Features"
   ]
  },
  {
   "cell_type": "code",
   "execution_count": 8,
   "id": "927daf07",
   "metadata": {
    "execution": {
     "iopub.execute_input": "2025-08-27T16:44:42.901360Z",
     "iopub.status.busy": "2025-08-27T16:44:42.900881Z",
     "iopub.status.idle": "2025-08-27T16:44:42.905207Z",
     "shell.execute_reply": "2025-08-27T16:44:42.904529Z"
    },
    "papermill": {
     "duration": 0.009779,
     "end_time": "2025-08-27T16:44:42.906284",
     "exception": false,
     "start_time": "2025-08-27T16:44:42.896505",
     "status": "completed"
    },
    "tags": []
   },
   "outputs": [
    {
     "name": "stdout",
     "output_type": "stream",
     "text": [
      "Numeric features:\n",
      "['age' 'day' 'campaign' 'previous' 'log_balance' 'log_duration'\n",
      " 'log_pdays']\n",
      "Categorical features:\n",
      "['job' 'marital' 'education' 'default' 'housing' 'loan' 'contact' 'month'\n",
      " 'poutcome' 'balance_above_third_quartile' 'duration_above_third_quartile'\n",
      " 'campaign_above_third_quartile' 'client_not_previously_contacted']\n"
     ]
    }
   ],
   "source": [
    "print(f\"Numeric features:\\n{numeric_col_names.values}\")\n",
    "print(f\"Categorical features:\\n{categorical_col_names.values}\")"
   ]
  },
  {
   "cell_type": "markdown",
   "id": "4dbc599d",
   "metadata": {
    "papermill": {
     "duration": 0.003441,
     "end_time": "2025-08-27T16:44:42.913432",
     "exception": false,
     "start_time": "2025-08-27T16:44:42.909991",
     "status": "completed"
    },
    "tags": []
   },
   "source": [
    "# 4. Model"
   ]
  },
  {
   "cell_type": "code",
   "execution_count": 9,
   "id": "e561a995",
   "metadata": {
    "execution": {
     "iopub.execute_input": "2025-08-27T16:44:42.921999Z",
     "iopub.status.busy": "2025-08-27T16:44:42.921500Z",
     "iopub.status.idle": "2025-08-27T16:44:42.928460Z",
     "shell.execute_reply": "2025-08-27T16:44:42.927791Z"
    },
    "papermill": {
     "duration": 0.012443,
     "end_time": "2025-08-27T16:44:42.929631",
     "exception": false,
     "start_time": "2025-08-27T16:44:42.917188",
     "status": "completed"
    },
    "tags": []
   },
   "outputs": [],
   "source": [
    "class BankModel(nn.Module):\n",
    "    def __init__(self, num_numeric_features, num_embeddings_list, embeddings_dim):\n",
    "        super().__init__()\n",
    "\n",
    "        # embedding layers for categorical features\n",
    "        self.categorical_embeddings = nn.ModuleList([\n",
    "            nn.Embedding(num_embeddings, embeddings_dim) for num_embeddings in num_embeddings_list\n",
    "        ])\n",
    "\n",
    "        # layer for projecting numeric features on to the embedding space\n",
    "        self.numeric_projection = nn.Linear(num_numeric_features, embeddings_dim)\n",
    "\n",
    "        # total number of features\n",
    "        num_total_features = 1 + len(num_embeddings_list) # num(numeric features) + num(categorical features)\n",
    "        input_output_size = num_total_features * embeddings_dim\n",
    "\n",
    "        # final layers\n",
    "        self.layers = nn.ModuleList()\n",
    "        for _ in range(5):\n",
    "            self.layers.append(nn.Linear(input_output_size, input_output_size))\n",
    "            self.layers.append(nn.ReLU())\n",
    "            self.layers.append(nn.BatchNorm1d(input_output_size))\n",
    "            self.layers.append(nn.Dropout(0.1))\n",
    "\n",
    "        # final output layer\n",
    "        self.output_layer = nn.Linear(input_output_size, 1)\n",
    "\n",
    "    def forward(self, numeric_inputs, categorical_inputs):\n",
    "        numeric_embeddings = self.numeric_projection(numeric_inputs)\n",
    "        numeric_embeddings = numeric_embeddings.unsqueeze(1)\n",
    "\n",
    "        num_categorical_features = len(categorical_inputs)\n",
    "        categorical_embeddings = [self.categorical_embeddings[i](categorical_inputs[i].unsqueeze(-1)) for i in range(num_categorical_features)]\n",
    "\n",
    "        all_features = torch.cat([numeric_embeddings] + categorical_embeddings, dim=1)\n",
    "        x = all_features\n",
    "        x = x.view(x.size(0), -1)\n",
    "\n",
    "        for layer in self.layers:\n",
    "            x = layer(x)\n",
    "\n",
    "        return self.output_layer(x)\n"
   ]
  },
  {
   "cell_type": "markdown",
   "id": "be2286e4",
   "metadata": {
    "papermill": {
     "duration": 0.00347,
     "end_time": "2025-08-27T16:44:42.936875",
     "exception": false,
     "start_time": "2025-08-27T16:44:42.933405",
     "status": "completed"
    },
    "tags": []
   },
   "source": [
    "# 5. Helper Classes/Functions"
   ]
  },
  {
   "cell_type": "code",
   "execution_count": 10,
   "id": "c476eb1d",
   "metadata": {
    "execution": {
     "iopub.execute_input": "2025-08-27T16:44:42.944965Z",
     "iopub.status.busy": "2025-08-27T16:44:42.944672Z",
     "iopub.status.idle": "2025-08-27T16:44:42.949792Z",
     "shell.execute_reply": "2025-08-27T16:44:42.949126Z"
    },
    "papermill": {
     "duration": 0.01058,
     "end_time": "2025-08-27T16:44:42.951022",
     "exception": false,
     "start_time": "2025-08-27T16:44:42.940442",
     "status": "completed"
    },
    "tags": []
   },
   "outputs": [],
   "source": [
    "class TabularDataset(Dataset):\n",
    "    def __init__(self, numeric_data, categorical_data, target_col=None):\n",
    "        self.numeric_data = torch.from_numpy(numeric_data).float()\n",
    "        self.categorical_data = torch.from_numpy(categorical_data).long()\n",
    "        self.target_col = torch.from_numpy(target_col).float() if target_col is not None else None\n",
    "\n",
    "    def __len__(self):\n",
    "        return len(self.numeric_data)\n",
    "    \n",
    "    def __getitem__(self, idx):\n",
    "        numeric_tensors = self.numeric_data[idx]\n",
    "        categorical_tensors = self.categorical_data[idx]\n",
    "        if self.target_col is not None:\n",
    "            return numeric_tensors, categorical_tensors, self.target_col[idx]\n",
    "        return numeric_tensors, categorical_tensors"
   ]
  },
  {
   "cell_type": "code",
   "execution_count": 11,
   "id": "8b6d3667",
   "metadata": {
    "execution": {
     "iopub.execute_input": "2025-08-27T16:44:42.959881Z",
     "iopub.status.busy": "2025-08-27T16:44:42.959272Z",
     "iopub.status.idle": "2025-08-27T16:44:42.964565Z",
     "shell.execute_reply": "2025-08-27T16:44:42.963917Z"
    },
    "papermill": {
     "duration": 0.010765,
     "end_time": "2025-08-27T16:44:42.965707",
     "exception": false,
     "start_time": "2025-08-27T16:44:42.954942",
     "status": "completed"
    },
    "tags": []
   },
   "outputs": [],
   "source": [
    "def get_data_loaders(train_indices, validation_indices):\n",
    "    X_train_fold_numerical = train_data[numeric_col_names].iloc[train_indices]\n",
    "    X_train_fold_categorical = train_data[categorical_col_names].iloc[train_indices]\n",
    "    y_train_fold = train_data[target_col].iloc[train_indices]\n",
    "\n",
    "    X_validation_fold_numerical = train_data[numeric_col_names].iloc[validation_indices]\n",
    "    X_validation_fold_categorical = train_data[categorical_col_names].iloc[validation_indices]\n",
    "    y_validation_fold = train_data[target_col].iloc[validation_indices]\n",
    "\n",
    "    train_dataset = TabularDataset(\n",
    "        X_train_fold_numerical.values,\n",
    "        X_train_fold_categorical.values,\n",
    "        y_train_fold.values\n",
    "    )\n",
    "    validation_dataset = TabularDataset(\n",
    "        X_validation_fold_numerical.values,\n",
    "        X_validation_fold_categorical.values,\n",
    "        y_validation_fold.values\n",
    "    )\n",
    "    test_dataset = TabularDataset(\n",
    "        test_data[numeric_col_names].values,\n",
    "        test_data[categorical_col_names].values\n",
    "    )\n",
    "\n",
    "    train_loader = DataLoader(train_dataset, batch_size=batch_size, shuffle=True, num_workers=2)\n",
    "    validation_loader = DataLoader(validation_dataset, batch_size=batch_size)\n",
    "    test_loader = DataLoader(test_dataset, batch_size=batch_size)\n",
    "\n",
    "    return train_loader, validation_loader, test_loader"
   ]
  },
  {
   "cell_type": "code",
   "execution_count": 12,
   "id": "530c2c7a",
   "metadata": {
    "execution": {
     "iopub.execute_input": "2025-08-27T16:44:42.974463Z",
     "iopub.status.busy": "2025-08-27T16:44:42.974053Z",
     "iopub.status.idle": "2025-08-27T16:44:42.977886Z",
     "shell.execute_reply": "2025-08-27T16:44:42.977181Z"
    },
    "papermill": {
     "duration": 0.009471,
     "end_time": "2025-08-27T16:44:42.979069",
     "exception": false,
     "start_time": "2025-08-27T16:44:42.969598",
     "status": "completed"
    },
    "tags": []
   },
   "outputs": [],
   "source": [
    "def get_outputs(model, numeric_data, categorical_data):\n",
    "    numeric_data = numeric_data.to(device)\n",
    "    categorical_data = categorical_data.transpose(1,0).to(device)\n",
    "    return model(numeric_data, categorical_data).squeeze()"
   ]
  },
  {
   "cell_type": "code",
   "execution_count": 13,
   "id": "dae018d3",
   "metadata": {
    "execution": {
     "iopub.execute_input": "2025-08-27T16:44:42.987621Z",
     "iopub.status.busy": "2025-08-27T16:44:42.987212Z",
     "iopub.status.idle": "2025-08-27T16:44:42.991973Z",
     "shell.execute_reply": "2025-08-27T16:44:42.991216Z"
    },
    "papermill": {
     "duration": 0.010331,
     "end_time": "2025-08-27T16:44:42.993166",
     "exception": false,
     "start_time": "2025-08-27T16:44:42.982835",
     "status": "completed"
    },
    "tags": []
   },
   "outputs": [],
   "source": [
    "def get_predictions(model, numeric_data, categorical_data, data_loader, is_test_data):\n",
    "    predictions = []\n",
    "\n",
    "    with torch.no_grad():\n",
    "        if is_test_data:\n",
    "            for numeric_data, categorical_data in data_loader:\n",
    "                outputs = get_outputs(model, numeric_data, categorical_data)\n",
    "                predictions.extend(torch.sigmoid(outputs).cpu().numpy())\n",
    "        else:\n",
    "            for numeric_data, categorical_data, _ in data_loader:\n",
    "                outputs = get_outputs(model, numeric_data, categorical_data)\n",
    "                predictions.extend(torch.sigmoid(outputs).cpu().numpy())\n",
    "\n",
    "    return predictions"
   ]
  },
  {
   "cell_type": "markdown",
   "id": "bc1a90c7",
   "metadata": {
    "papermill": {
     "duration": 0.003431,
     "end_time": "2025-08-27T16:44:43.000494",
     "exception": false,
     "start_time": "2025-08-27T16:44:42.997063",
     "status": "completed"
    },
    "tags": []
   },
   "source": [
    "# 6. Stratified K-Fold"
   ]
  },
  {
   "cell_type": "code",
   "execution_count": 14,
   "id": "22bd5d46",
   "metadata": {
    "execution": {
     "iopub.execute_input": "2025-08-27T16:44:43.008917Z",
     "iopub.status.busy": "2025-08-27T16:44:43.008274Z",
     "iopub.status.idle": "2025-08-27T16:44:43.012070Z",
     "shell.execute_reply": "2025-08-27T16:44:43.011356Z"
    },
    "papermill": {
     "duration": 0.009224,
     "end_time": "2025-08-27T16:44:43.013255",
     "exception": false,
     "start_time": "2025-08-27T16:44:43.004031",
     "status": "completed"
    },
    "tags": []
   },
   "outputs": [],
   "source": [
    "kfold_num_splits = 10\n",
    "batch_size = 1024\n",
    "max_epochs = 1000\n",
    "patience = 50"
   ]
  },
  {
   "cell_type": "code",
   "execution_count": 15,
   "id": "9d4bc783",
   "metadata": {
    "execution": {
     "iopub.execute_input": "2025-08-27T16:44:43.022243Z",
     "iopub.status.busy": "2025-08-27T16:44:43.021620Z",
     "iopub.status.idle": "2025-08-27T18:16:59.229449Z",
     "shell.execute_reply": "2025-08-27T18:16:59.228795Z"
    },
    "papermill": {
     "duration": 5536.213919,
     "end_time": "2025-08-27T18:16:59.231061",
     "exception": false,
     "start_time": "2025-08-27T16:44:43.017142",
     "status": "completed"
    },
    "tags": []
   },
   "outputs": [
    {
     "name": "stdout",
     "output_type": "stream",
     "text": [
      "\n",
      "##### Training Fold 1 of 10 #####\n",
      "\n",
      "(Max epochs: 1000)\n",
      "[Epoch 1] Training Loss: 0.00022, Validation AUC Score: 0.95620\n",
      "[Epoch 26] Training Loss: 0.00015, Validation AUC Score: 0.96312\n",
      "[Epoch 51] Training Loss: 0.00014, Validation AUC Score: 0.96227\n",
      "Stopping early - 50 epochs passed without improvement in best validation ROC AUC score.\n",
      "Final ROC AUC score for Fold 1: 0.96417\n",
      "\n",
      "##### Training Fold 2 of 10 #####\n",
      "\n",
      "(Max epochs: 1000)\n",
      "[Epoch 1] Training Loss: 0.00022, Validation AUC Score: 0.95668\n",
      "[Epoch 26] Training Loss: 0.00015, Validation AUC Score: 0.96227\n",
      "[Epoch 51] Training Loss: 0.00014, Validation AUC Score: 0.96240\n",
      "Stopping early - 50 epochs passed without improvement in best validation ROC AUC score.\n",
      "Final ROC AUC score for Fold 2: 0.96388\n",
      "\n",
      "##### Training Fold 3 of 10 #####\n",
      "\n",
      "(Max epochs: 1000)\n",
      "[Epoch 1] Training Loss: 0.00022, Validation AUC Score: 0.95334\n",
      "[Epoch 26] Training Loss: 0.00015, Validation AUC Score: 0.96286\n",
      "[Epoch 51] Training Loss: 0.00014, Validation AUC Score: 0.96145\n",
      "Stopping early - 50 epochs passed without improvement in best validation ROC AUC score.\n",
      "Final ROC AUC score for Fold 3: 0.96301\n",
      "\n",
      "##### Training Fold 4 of 10 #####\n",
      "\n",
      "(Max epochs: 1000)\n",
      "[Epoch 1] Training Loss: 0.00022, Validation AUC Score: 0.95510\n",
      "[Epoch 26] Training Loss: 0.00015, Validation AUC Score: 0.96280\n",
      "[Epoch 51] Training Loss: 0.00014, Validation AUC Score: 0.96308\n",
      "Stopping early - 50 epochs passed without improvement in best validation ROC AUC score.\n",
      "Final ROC AUC score for Fold 4: 0.96444\n",
      "\n",
      "##### Training Fold 5 of 10 #####\n",
      "\n",
      "(Max epochs: 1000)\n",
      "[Epoch 1] Training Loss: 0.00022, Validation AUC Score: 0.95282\n",
      "[Epoch 26] Training Loss: 0.00015, Validation AUC Score: 0.96316\n",
      "[Epoch 51] Training Loss: 0.00014, Validation AUC Score: 0.96063\n",
      "[Epoch 76] Training Loss: 0.00013, Validation AUC Score: 0.95891\n",
      "Stopping early - 50 epochs passed without improvement in best validation ROC AUC score.\n",
      "Final ROC AUC score for Fold 5: 0.96366\n",
      "\n",
      "##### Training Fold 6 of 10 #####\n",
      "\n",
      "(Max epochs: 1000)\n",
      "[Epoch 1] Training Loss: 0.00022, Validation AUC Score: 0.95568\n",
      "[Epoch 26] Training Loss: 0.00015, Validation AUC Score: 0.96333\n",
      "[Epoch 51] Training Loss: 0.00014, Validation AUC Score: 0.96116\n",
      "Stopping early - 50 epochs passed without improvement in best validation ROC AUC score.\n",
      "Final ROC AUC score for Fold 6: 0.96359\n",
      "\n",
      "##### Training Fold 7 of 10 #####\n",
      "\n",
      "(Max epochs: 1000)\n",
      "[Epoch 1] Training Loss: 0.00022, Validation AUC Score: 0.95535\n",
      "[Epoch 26] Training Loss: 0.00015, Validation AUC Score: 0.96268\n",
      "[Epoch 51] Training Loss: 0.00014, Validation AUC Score: 0.96026\n",
      "[Epoch 76] Training Loss: 0.00013, Validation AUC Score: 0.95764\n",
      "Stopping early - 50 epochs passed without improvement in best validation ROC AUC score.\n",
      "Final ROC AUC score for Fold 7: 0.96268\n",
      "\n",
      "##### Training Fold 8 of 10 #####\n",
      "\n",
      "(Max epochs: 1000)\n",
      "[Epoch 1] Training Loss: 0.00022, Validation AUC Score: 0.95411\n",
      "[Epoch 26] Training Loss: 0.00015, Validation AUC Score: 0.96391\n",
      "[Epoch 51] Training Loss: 0.00014, Validation AUC Score: 0.96294\n",
      "Stopping early - 50 epochs passed without improvement in best validation ROC AUC score.\n",
      "Final ROC AUC score for Fold 8: 0.96433\n",
      "\n",
      "##### Training Fold 9 of 10 #####\n",
      "\n",
      "(Max epochs: 1000)\n",
      "[Epoch 1] Training Loss: 0.00022, Validation AUC Score: 0.95531\n",
      "[Epoch 26] Training Loss: 0.00015, Validation AUC Score: 0.96443\n",
      "[Epoch 51] Training Loss: 0.00014, Validation AUC Score: 0.96225\n",
      "[Epoch 76] Training Loss: 0.00013, Validation AUC Score: 0.95935\n",
      "Stopping early - 50 epochs passed without improvement in best validation ROC AUC score.\n",
      "Final ROC AUC score for Fold 9: 0.96443\n",
      "\n",
      "##### Training Fold 10 of 10 #####\n",
      "\n",
      "(Max epochs: 1000)\n",
      "[Epoch 1] Training Loss: 0.00022, Validation AUC Score: 0.95686\n",
      "[Epoch 26] Training Loss: 0.00015, Validation AUC Score: 0.96238\n",
      "[Epoch 51] Training Loss: 0.00014, Validation AUC Score: 0.96083\n",
      "Stopping early - 50 epochs passed without improvement in best validation ROC AUC score.\n",
      "Final ROC AUC score for Fold 10: 0.96377\n"
     ]
    }
   ],
   "source": [
    "kfold = StratifiedKFold(n_splits=kfold_num_splits, shuffle=True, random_state=random_seed)\n",
    "kfold_splits = kfold.split(train_data.drop(target_col, axis=1), train_data[target_col])\n",
    "kfold_splits_enumeration = enumerate(kfold_splits)\n",
    "\n",
    "oof_predictions = np.zeros(len(train_data))\n",
    "test_predictions = np.zeros(len(test_data))\n",
    "\n",
    "# will be used later for getting values for 'num_embeddings'\n",
    "train_test_combined = pd.concat([train_data.drop(target_col, axis=1), test_data], axis=0)\n",
    "\n",
    "for fold, (train_indices, validation_indices) in kfold_splits_enumeration:\n",
    "    print(f\"\\n##### Training Fold {fold + 1} of {kfold_num_splits} #####\\n\")\n",
    "\n",
    "    # get data loaders for training, validation and test data\n",
    "    train_loader, validation_loader, test_loader = get_data_loaders(train_indices, validation_indices)\n",
    "\n",
    "    # will be used later for ROC AUC score calculation\n",
    "    y_validation_fold = train_data[target_col].iloc[validation_indices]\n",
    "\n",
    "    # PyTorch model\n",
    "    model = BankModel(\n",
    "        len(numeric_col_names),\n",
    "        train_test_combined[categorical_col_names].nunique(), # `num_embeddings` Embedding parameter\n",
    "        32 # `embedding_dim` Embedding parameter\n",
    "    ).to(device)\n",
    "\n",
    "    optimizer = torch.optim.Adam(model.parameters(), lr=0.001)\n",
    "    criterion = nn.BCEWithLogitsLoss()\n",
    "    scheduler = torch.optim.lr_scheduler.CosineAnnealingLR(optimizer, T_max=max_epochs)\n",
    "\n",
    "    best_validation_auc_score = 0\n",
    "    early_stopping_counter = 0\n",
    "\n",
    "    print(f\"(Max epochs: {max_epochs})\")\n",
    "\n",
    "    for epoch in range(max_epochs):\n",
    "        model.train()\n",
    "        loss_train = 0\n",
    "        for numeric_data, categorical_data, labels in train_loader:\n",
    "            optimizer.zero_grad()\n",
    "            outputs = get_outputs(model, numeric_data, categorical_data)\n",
    "            loss = criterion(outputs, labels.to(device))\n",
    "            loss.backward()\n",
    "            optimizer.step()\n",
    "            loss_train += loss.item()\n",
    "\n",
    "        scheduler.step()\n",
    "\n",
    "        # validation\n",
    "        model.eval()\n",
    "        validation_predictions = get_predictions(model, numeric_data, categorical_data, validation_loader, False)\n",
    "        current_validation_auc_score = roc_auc_score(y_validation_fold, validation_predictions)\n",
    "        if epoch % 25 == 0:\n",
    "            print(f\"[Epoch {epoch + 1}] Training Loss: {loss_train / len(train_indices):.5f}, Validation AUC Score: {current_validation_auc_score:.5f}\")\n",
    "\n",
    "        if current_validation_auc_score > best_validation_auc_score:\n",
    "            best_validation_auc_score = current_validation_auc_score\n",
    "            early_stopping_counter = 0\n",
    "            torch.save(model.state_dict(), 'model.pth')\n",
    "        else:\n",
    "            early_stopping_counter += 1\n",
    "            if early_stopping_counter >= patience:\n",
    "                print(f\"Stopping early - {patience} epochs passed without improvement in best validation ROC AUC score.\")\n",
    "                break\n",
    "\n",
    "    model.load_state_dict(torch.load('model.pth'))\n",
    "\n",
    "    model.eval()\n",
    "    validation_predictions = get_predictions(model, numeric_data, categorical_data, validation_loader, False)\n",
    "\n",
    "    oof_predictions[validation_indices] = np.array(validation_predictions)\n",
    "    final_fold_roc_auc_score = roc_auc_score(y_validation_fold, oof_predictions[validation_indices])\n",
    "    print(f\"Final ROC AUC score for Fold {fold + 1}: {final_fold_roc_auc_score:.5f}\")\n",
    "\n",
    "    # Make predictions on test data\n",
    "    test_predictions_fold = get_predictions(model, numeric_data, categorical_data, test_loader, True)\n",
    "    test_predictions += np.array(test_predictions_fold) / kfold_num_splits"
   ]
  },
  {
   "cell_type": "code",
   "execution_count": 16,
   "id": "0254f9c0",
   "metadata": {
    "execution": {
     "iopub.execute_input": "2025-08-27T18:16:59.245544Z",
     "iopub.status.busy": "2025-08-27T18:16:59.245299Z",
     "iopub.status.idle": "2025-08-27T18:16:59.642043Z",
     "shell.execute_reply": "2025-08-27T18:16:59.641243Z"
    },
    "papermill": {
     "duration": 0.40519,
     "end_time": "2025-08-27T18:16:59.643247",
     "exception": false,
     "start_time": "2025-08-27T18:16:59.238057",
     "status": "completed"
    },
    "tags": []
   },
   "outputs": [
    {
     "name": "stdout",
     "output_type": "stream",
     "text": [
      "10-Fold Cross Validation ROC AUC: 0.96343\n"
     ]
    }
   ],
   "source": [
    "# calculate the ROC AUC score for all Out-Of-Fold predictions\n",
    "oof_roc_auc_score = roc_auc_score(train_data[target_col], oof_predictions)\n",
    "print(f\"{kfold_num_splits}-Fold Cross Validation ROC AUC: {oof_roc_auc_score:.5f}\")"
   ]
  },
  {
   "cell_type": "markdown",
   "id": "74ff3a14",
   "metadata": {
    "papermill": {
     "duration": 0.006547,
     "end_time": "2025-08-27T18:16:59.656433",
     "exception": false,
     "start_time": "2025-08-27T18:16:59.649886",
     "status": "completed"
    },
    "tags": []
   },
   "source": [
    "# 7. Submission"
   ]
  },
  {
   "cell_type": "code",
   "execution_count": 17,
   "id": "31d37a5c",
   "metadata": {
    "execution": {
     "iopub.execute_input": "2025-08-27T18:16:59.670900Z",
     "iopub.status.busy": "2025-08-27T18:16:59.670186Z",
     "iopub.status.idle": "2025-08-27T18:17:00.185667Z",
     "shell.execute_reply": "2025-08-27T18:17:00.184857Z"
    },
    "papermill": {
     "duration": 0.523903,
     "end_time": "2025-08-27T18:17:00.186981",
     "exception": false,
     "start_time": "2025-08-27T18:16:59.663078",
     "status": "completed"
    },
    "tags": []
   },
   "outputs": [
    {
     "name": "stdout",
     "output_type": "stream",
     "text": [
      "Submission file prepared.\n"
     ]
    }
   ],
   "source": [
    "# Prepare submission\n",
    "submission = pd.DataFrame({'id': test_data.index, 'y': test_predictions})\n",
    "submission.to_csv('submission.csv', index=False)\n",
    "print('Submission file prepared.')"
   ]
  }
 ],
 "metadata": {
  "kaggle": {
   "accelerator": "gpu",
   "dataSources": [
    {
     "databundleVersionId": 12937777,
     "sourceId": 91719,
     "sourceType": "competition"
    }
   ],
   "dockerImageVersionId": 31089,
   "isGpuEnabled": true,
   "isInternetEnabled": true,
   "language": "python",
   "sourceType": "notebook"
  },
  "kernelspec": {
   "display_name": "Python 3",
   "language": "python",
   "name": "python3"
  },
  "language_info": {
   "codemirror_mode": {
    "name": "ipython",
    "version": 3
   },
   "file_extension": ".py",
   "mimetype": "text/x-python",
   "name": "python",
   "nbconvert_exporter": "python",
   "pygments_lexer": "ipython3",
   "version": "3.11.13"
  },
  "papermill": {
   "default_parameters": {},
   "duration": 5563.388543,
   "end_time": "2025-08-27T18:17:02.120983",
   "environment_variables": {},
   "exception": null,
   "input_path": "__notebook__.ipynb",
   "output_path": "__notebook__.ipynb",
   "parameters": {},
   "start_time": "2025-08-27T16:44:18.732440",
   "version": "2.6.0"
  }
 },
 "nbformat": 4,
 "nbformat_minor": 5
}
