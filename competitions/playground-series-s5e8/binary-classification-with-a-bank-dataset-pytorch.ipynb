{
 "cells": [
  {
   "cell_type": "markdown",
   "id": "8248cf39",
   "metadata": {
    "papermill": {
     "duration": 0.004553,
     "end_time": "2025-08-28T07:36:30.199854",
     "exception": false,
     "start_time": "2025-08-28T07:36:30.195301",
     "status": "completed"
    },
    "tags": []
   },
   "source": [
    "# 1. Overview\n",
    "\n",
    "This is a notebook for training a neural network to submit predictions to the \"Binary Classification with a Bank Dataset\" Kaggle competition ([playground-series-s5e8](https://www.kaggle.com/competitions/playground-series-s5e8)).\n",
    "\n",
    "Synthetic data is used for this playground competition, and the objective is to, for each client (with a corresponding `id`) in the test set, predict the probability that the client will subscribe to a bank term deposit. Note that while the target represented by `y` is binary (i.e. the client either subscribes or does not subscribe), the predictions are about probabilities, and so their values lie between 0 and 1."
   ]
  },
  {
   "cell_type": "markdown",
   "id": "b21f0909",
   "metadata": {
    "papermill": {
     "duration": 0.003443,
     "end_time": "2025-08-28T07:36:30.207177",
     "exception": false,
     "start_time": "2025-08-28T07:36:30.203734",
     "status": "completed"
    },
    "tags": []
   },
   "source": [
    "# 2. Setup\n",
    "\n",
    "First, let's import what we'll need."
   ]
  },
  {
   "cell_type": "code",
   "execution_count": 1,
   "id": "df13c9d0",
   "metadata": {
    "execution": {
     "iopub.execute_input": "2025-08-28T07:36:30.215321Z",
     "iopub.status.busy": "2025-08-28T07:36:30.215024Z",
     "iopub.status.idle": "2025-08-28T07:36:41.798824Z",
     "shell.execute_reply": "2025-08-28T07:36:41.797865Z"
    },
    "papermill": {
     "duration": 11.590076,
     "end_time": "2025-08-28T07:36:41.800780",
     "exception": false,
     "start_time": "2025-08-28T07:36:30.210704",
     "status": "completed"
    },
    "tags": []
   },
   "outputs": [],
   "source": [
    "import numpy as np\n",
    "import pandas as pd\n",
    "from sklearn.metrics import roc_auc_score\n",
    "from sklearn.model_selection import StratifiedKFold\n",
    "from sklearn.preprocessing import LabelEncoder\n",
    "import torch\n",
    "import torch.nn as nn\n",
    "import torch.optim as optim\n",
    "from torch.utils.data import Dataset, DataLoader\n",
    "from torchvision import transforms, utils"
   ]
  },
  {
   "cell_type": "markdown",
   "id": "4ea37b12",
   "metadata": {
    "papermill": {
     "duration": 0.006232,
     "end_time": "2025-08-28T07:36:41.811717",
     "exception": false,
     "start_time": "2025-08-28T07:36:41.805485",
     "status": "completed"
    },
    "tags": []
   },
   "source": [
    "For reproducibility of results, an arbitrary number will be used for the random seed."
   ]
  },
  {
   "cell_type": "code",
   "execution_count": 2,
   "id": "04f7167e",
   "metadata": {
    "execution": {
     "iopub.execute_input": "2025-08-28T07:36:41.820684Z",
     "iopub.status.busy": "2025-08-28T07:36:41.820025Z",
     "iopub.status.idle": "2025-08-28T07:36:41.884615Z",
     "shell.execute_reply": "2025-08-28T07:36:41.883816Z"
    },
    "papermill": {
     "duration": 0.070545,
     "end_time": "2025-08-28T07:36:41.886034",
     "exception": false,
     "start_time": "2025-08-28T07:36:41.815489",
     "status": "completed"
    },
    "tags": []
   },
   "outputs": [],
   "source": [
    "random_seed = 11\n",
    "np.random.seed(random_seed)\n",
    "torch.manual_seed(random_seed)\n",
    "if torch.cuda.is_available():\n",
    "    torch.cuda.manual_seed(random_seed)\n",
    "    torch.cuda.manual_seed_all(random_seed)"
   ]
  },
  {
   "cell_type": "markdown",
   "id": "9b71a1e8",
   "metadata": {
    "papermill": {
     "duration": 0.00357,
     "end_time": "2025-08-28T07:36:41.893548",
     "exception": false,
     "start_time": "2025-08-28T07:36:41.889978",
     "status": "completed"
    },
    "tags": []
   },
   "source": [
    "`device` will indicate whether CUDA or CPU has to be used. While the CPU can be sufficient for some minor tasks like debugging, training of the neural network that will be done in subsequent sections will require an accelerator (GPU) to allow it to complete in a timely fashion."
   ]
  },
  {
   "cell_type": "code",
   "execution_count": 3,
   "id": "b780dd46",
   "metadata": {
    "execution": {
     "iopub.execute_input": "2025-08-28T07:36:41.901645Z",
     "iopub.status.busy": "2025-08-28T07:36:41.901385Z",
     "iopub.status.idle": "2025-08-28T07:36:41.906809Z",
     "shell.execute_reply": "2025-08-28T07:36:41.906065Z"
    },
    "papermill": {
     "duration": 0.010827,
     "end_time": "2025-08-28T07:36:41.907884",
     "exception": false,
     "start_time": "2025-08-28T07:36:41.897057",
     "status": "completed"
    },
    "tags": []
   },
   "outputs": [
    {
     "data": {
      "text/plain": [
       "'cuda'"
      ]
     },
     "execution_count": 3,
     "metadata": {},
     "output_type": "execute_result"
    }
   ],
   "source": [
    "device = 'cuda' if torch.cuda.is_available() else 'cpu'\n",
    "device"
   ]
  },
  {
   "cell_type": "markdown",
   "id": "0ad66129",
   "metadata": {
    "papermill": {
     "duration": 0.003403,
     "end_time": "2025-08-28T07:36:41.915038",
     "exception": false,
     "start_time": "2025-08-28T07:36:41.911635",
     "status": "completed"
    },
    "tags": []
   },
   "source": [
    "Next, the data provided for the competition will be read into dataframes."
   ]
  },
  {
   "cell_type": "code",
   "execution_count": 4,
   "id": "f6606cb0",
   "metadata": {
    "execution": {
     "iopub.execute_input": "2025-08-28T07:36:41.923655Z",
     "iopub.status.busy": "2025-08-28T07:36:41.923432Z",
     "iopub.status.idle": "2025-08-28T07:36:44.596024Z",
     "shell.execute_reply": "2025-08-28T07:36:44.595435Z"
    },
    "papermill": {
     "duration": 2.678252,
     "end_time": "2025-08-28T07:36:44.597503",
     "exception": false,
     "start_time": "2025-08-28T07:36:41.919251",
     "status": "completed"
    },
    "tags": []
   },
   "outputs": [],
   "source": [
    "# Read data files\n",
    "input_filepath = '/kaggle/input'\n",
    "train_data = pd.read_csv(input_filepath + '/playground-series-s5e8/train.csv')\n",
    "test_data = pd.read_csv(input_filepath + '/playground-series-s5e8/test.csv')\n",
    "\n",
    "# Set index\n",
    "train_data.set_index('id', inplace=True)\n",
    "test_data.set_index('id', inplace=True)\n",
    "\n",
    "# Get numeric and categorical columns from training data (which should be the same for test data)\n",
    "numeric_col_names = train_data.select_dtypes(include='number').columns.to_series()\n",
    "categorical_col_names = train_data.select_dtypes(include='object').columns.to_series()\n",
    "assert numeric_col_names.size + categorical_col_names.size == train_data.shape[1]\n",
    "\n",
    "# Set target column\n",
    "target_col='y'\n",
    "# Drop 'y' column from numeric column names\n",
    "numeric_col_names.drop(target_col, inplace=True)"
   ]
  },
  {
   "cell_type": "markdown",
   "id": "3f1d6f7f",
   "metadata": {
    "papermill": {
     "duration": 0.003524,
     "end_time": "2025-08-28T07:36:44.605186",
     "exception": false,
     "start_time": "2025-08-28T07:36:44.601662",
     "status": "completed"
    },
    "tags": []
   },
   "source": [
    "# 3. Data Preprocessing\n",
    "\n",
    "## 3.1 Feature Generation"
   ]
  },
  {
   "cell_type": "code",
   "execution_count": 5,
   "id": "2f3df409",
   "metadata": {
    "execution": {
     "iopub.execute_input": "2025-08-28T07:36:44.613332Z",
     "iopub.status.busy": "2025-08-28T07:36:44.613056Z",
     "iopub.status.idle": "2025-08-28T07:36:45.727021Z",
     "shell.execute_reply": "2025-08-28T07:36:45.726166Z"
    },
    "papermill": {
     "duration": 1.119712,
     "end_time": "2025-08-28T07:36:45.728390",
     "exception": false,
     "start_time": "2025-08-28T07:36:44.608678",
     "status": "completed"
    },
    "tags": []
   },
   "outputs": [
    {
     "name": "stdout",
     "output_type": "stream",
     "text": [
      "balance_threshold for third quartile: 1390.0\n",
      "duration_threshold for third quartile: 361.0\n",
      "campaign_threshold for third quartile: 3.0\n"
     ]
    }
   ],
   "source": [
    "# log transformation of numeric features\n",
    "\n",
    "train_data['log_balance'] = np.sign(train_data['balance']) * np.log(train_data['balance'].abs().apply(lambda x: x if x > 1 else 1))\n",
    "test_data['log_balance'] = np.sign(test_data['balance']) * np.log(test_data['balance'].abs().apply(lambda x: x if x > 1 else 1))\n",
    "\n",
    "train_data['log_duration'] = np.sign(train_data['duration']) * np.log(train_data['duration'].abs().apply(lambda x: x if x > 1 else 1))\n",
    "test_data['log_duration'] = np.sign(test_data['duration']) * np.log(test_data['duration'].abs().apply(lambda x: x if x > 1 else 1))\n",
    "\n",
    "train_data['log_pdays'] = train_data['pdays'].apply(lambda x: x if x == -1 else (0 if x < 1 else np.log(x)))\n",
    "test_data['log_pdays'] = test_data['pdays'].apply(lambda x: x if x == -1 else (0 if x < 1 else np.log(x)))\n",
    "\n",
    "# transformation of numeric features to boolean ones based on threshold or specific value\n",
    "\n",
    "balance_threshold = train_data['balance'].quantile(0.75)\n",
    "print(f\"balance_threshold for third quartile: {balance_threshold}\")\n",
    "train_data['balance_above_third_quartile'] = (train_data['balance'] > balance_threshold).astype(object)\n",
    "test_data['balance_above_third_quartile'] = (test_data['balance'] > balance_threshold).astype(object)\n",
    "\n",
    "duration_threshold = train_data['duration'].quantile(0.75)\n",
    "print(f\"duration_threshold for third quartile: {duration_threshold}\")\n",
    "train_data['duration_above_third_quartile'] = (train_data['duration'] > duration_threshold).astype(object)\n",
    "test_data['duration_above_third_quartile'] = (test_data['duration'] > duration_threshold).astype(object)\n",
    "\n",
    "campaign_threshold = train_data['campaign'].quantile(0.75)\n",
    "print(f\"campaign_threshold for third quartile: {campaign_threshold}\")\n",
    "train_data['campaign_above_third_quartile'] = (train_data['campaign'] > campaign_threshold).astype(object)\n",
    "test_data['campaign_above_third_quartile'] = (test_data['campaign'] > campaign_threshold).astype(object)\n",
    "\n",
    "train_data['client_not_previously_contacted'] = (train_data['pdays'] == -1).astype(object)\n",
    "test_data['client_not_previously_contacted'] = (test_data['pdays'] == -1).astype(object)"
   ]
  },
  {
   "cell_type": "code",
   "execution_count": 6,
   "id": "bcd455a0",
   "metadata": {
    "execution": {
     "iopub.execute_input": "2025-08-28T07:36:45.737019Z",
     "iopub.status.busy": "2025-08-28T07:36:45.736603Z",
     "iopub.status.idle": "2025-08-28T07:36:46.279351Z",
     "shell.execute_reply": "2025-08-28T07:36:46.278721Z"
    },
    "papermill": {
     "duration": 0.548524,
     "end_time": "2025-08-28T07:36:46.280787",
     "exception": false,
     "start_time": "2025-08-28T07:36:45.732263",
     "status": "completed"
    },
    "tags": []
   },
   "outputs": [],
   "source": [
    "# drop columns that are no longer necessary due to feature generation\n",
    "cols_to_drop = [\n",
    "    'balance',\n",
    "    'duration',\n",
    "    'pdays',\n",
    "]\n",
    "train_data.drop(cols_to_drop, axis=1, inplace=True)\n",
    "test_data.drop(cols_to_drop, axis=1, inplace=True)\n",
    "\n",
    "# get numeric and categorical column names for training data again, and check that\n",
    "# the total number of numeric and categorical columns is as expected\n",
    "numeric_col_names = train_data.select_dtypes(include='number').columns.to_series()\n",
    "categorical_col_names = train_data.select_dtypes(include='object').columns.to_series()\n",
    "assert numeric_col_names.size + categorical_col_names.size == train_data.shape[1]\n",
    "\n",
    "# drop 'y' column from numeric column names\n",
    "numeric_col_names.drop(target_col, inplace=True)"
   ]
  },
  {
   "cell_type": "markdown",
   "id": "f80b4382",
   "metadata": {
    "papermill": {
     "duration": 0.003565,
     "end_time": "2025-08-28T07:36:46.288354",
     "exception": false,
     "start_time": "2025-08-28T07:36:46.284789",
     "status": "completed"
    },
    "tags": []
   },
   "source": [
    "## 3.2 Categorical Encoding"
   ]
  },
  {
   "cell_type": "code",
   "execution_count": 7,
   "id": "216e9c8b",
   "metadata": {
    "execution": {
     "iopub.execute_input": "2025-08-28T07:36:46.297215Z",
     "iopub.status.busy": "2025-08-28T07:36:46.296659Z",
     "iopub.status.idle": "2025-08-28T07:36:49.013360Z",
     "shell.execute_reply": "2025-08-28T07:36:49.012801Z"
    },
    "papermill": {
     "duration": 2.722699,
     "end_time": "2025-08-28T07:36:49.014735",
     "exception": false,
     "start_time": "2025-08-28T07:36:46.292036",
     "status": "completed"
    },
    "tags": []
   },
   "outputs": [],
   "source": [
    "# encode categorical features\n",
    "for col in categorical_col_names:\n",
    "    le = LabelEncoder()\n",
    "    train_data[col] = le.fit_transform(train_data[col].astype(str))\n",
    "    test_data[col] = le.fit_transform(test_data[col].astype(str))"
   ]
  },
  {
   "cell_type": "markdown",
   "id": "302bbc93",
   "metadata": {
    "papermill": {
     "duration": 0.00425,
     "end_time": "2025-08-28T07:36:49.022989",
     "exception": false,
     "start_time": "2025-08-28T07:36:49.018739",
     "status": "completed"
    },
    "tags": []
   },
   "source": [
    "## 3.3 Review of Features"
   ]
  },
  {
   "cell_type": "code",
   "execution_count": 8,
   "id": "d5da612c",
   "metadata": {
    "execution": {
     "iopub.execute_input": "2025-08-28T07:36:49.032088Z",
     "iopub.status.busy": "2025-08-28T07:36:49.031863Z",
     "iopub.status.idle": "2025-08-28T07:36:49.036250Z",
     "shell.execute_reply": "2025-08-28T07:36:49.035289Z"
    },
    "papermill": {
     "duration": 0.01039,
     "end_time": "2025-08-28T07:36:49.037395",
     "exception": false,
     "start_time": "2025-08-28T07:36:49.027005",
     "status": "completed"
    },
    "tags": []
   },
   "outputs": [
    {
     "name": "stdout",
     "output_type": "stream",
     "text": [
      "Numeric features:\n",
      "['age' 'day' 'campaign' 'previous' 'log_balance' 'log_duration'\n",
      " 'log_pdays']\n",
      "Categorical features:\n",
      "['job' 'marital' 'education' 'default' 'housing' 'loan' 'contact' 'month'\n",
      " 'poutcome' 'balance_above_third_quartile' 'duration_above_third_quartile'\n",
      " 'campaign_above_third_quartile' 'client_not_previously_contacted']\n"
     ]
    }
   ],
   "source": [
    "print(f\"Numeric features:\\n{numeric_col_names.values}\")\n",
    "print(f\"Categorical features:\\n{categorical_col_names.values}\")"
   ]
  },
  {
   "cell_type": "markdown",
   "id": "185a06ea",
   "metadata": {
    "papermill": {
     "duration": 0.003572,
     "end_time": "2025-08-28T07:36:49.044827",
     "exception": false,
     "start_time": "2025-08-28T07:36:49.041255",
     "status": "completed"
    },
    "tags": []
   },
   "source": [
    "# 4. Model"
   ]
  },
  {
   "cell_type": "code",
   "execution_count": 9,
   "id": "2b60ba9f",
   "metadata": {
    "execution": {
     "iopub.execute_input": "2025-08-28T07:36:49.053813Z",
     "iopub.status.busy": "2025-08-28T07:36:49.053166Z",
     "iopub.status.idle": "2025-08-28T07:36:49.060562Z",
     "shell.execute_reply": "2025-08-28T07:36:49.059822Z"
    },
    "papermill": {
     "duration": 0.013236,
     "end_time": "2025-08-28T07:36:49.061805",
     "exception": false,
     "start_time": "2025-08-28T07:36:49.048569",
     "status": "completed"
    },
    "tags": []
   },
   "outputs": [],
   "source": [
    "class BankModel(nn.Module):\n",
    "    def __init__(self, num_numeric_features, num_embeddings_list, embeddings_dim):\n",
    "        super().__init__()\n",
    "\n",
    "        # embedding layers for categorical features\n",
    "        self.categorical_embeddings = nn.ModuleList([\n",
    "            nn.Embedding(num_embeddings, embeddings_dim) for num_embeddings in num_embeddings_list\n",
    "        ])\n",
    "\n",
    "        # layer for projecting numeric features on to the embedding space\n",
    "        self.numeric_projection = nn.Linear(num_numeric_features, embeddings_dim)\n",
    "\n",
    "        num_total_features = 1 + len(num_embeddings_list) # num(numeric features) + num(categorical features)\n",
    "        current_input_size = num_total_features * embeddings_dim\n",
    "\n",
    "        self.layers = nn.ModuleList()\n",
    "        for i in range(5):\n",
    "            linear_output_size = int(2 * current_input_size) if i < 2 else current_input_size\n",
    "            self.layers.append(nn.Linear(current_input_size, linear_output_size))\n",
    "            self.layers.append(nn.ReLU())\n",
    "            self.layers.append(nn.BatchNorm1d(linear_output_size))\n",
    "            self.layers.append(nn.Dropout(0.1))\n",
    "            current_input_size = linear_output_size\n",
    "\n",
    "        # final output layer\n",
    "        self.output_layer = nn.Linear(current_input_size, 1)\n",
    "\n",
    "    def forward(self, numeric_inputs, categorical_inputs):\n",
    "        numeric_embeddings = self.numeric_projection(numeric_inputs)\n",
    "        numeric_embeddings = numeric_embeddings.unsqueeze(1)\n",
    "\n",
    "        num_categorical_features = len(categorical_inputs)\n",
    "        categorical_embeddings = [self.categorical_embeddings[i](categorical_inputs[i].unsqueeze(-1)) for i in range(num_categorical_features)]\n",
    "\n",
    "        all_features = torch.cat([numeric_embeddings] + categorical_embeddings, dim=1)\n",
    "        x = all_features\n",
    "        x = x.view(x.size(0), -1)\n",
    "\n",
    "        for layer in self.layers:\n",
    "            x = layer(x)\n",
    "\n",
    "        return self.output_layer(x)\n"
   ]
  },
  {
   "cell_type": "markdown",
   "id": "45ddb1ef",
   "metadata": {
    "papermill": {
     "duration": 0.003824,
     "end_time": "2025-08-28T07:36:49.069763",
     "exception": false,
     "start_time": "2025-08-28T07:36:49.065939",
     "status": "completed"
    },
    "tags": []
   },
   "source": [
    "# 5. Helper Classes/Functions"
   ]
  },
  {
   "cell_type": "code",
   "execution_count": 10,
   "id": "f018c75f",
   "metadata": {
    "execution": {
     "iopub.execute_input": "2025-08-28T07:36:49.079564Z",
     "iopub.status.busy": "2025-08-28T07:36:49.078890Z",
     "iopub.status.idle": "2025-08-28T07:36:49.083873Z",
     "shell.execute_reply": "2025-08-28T07:36:49.083336Z"
    },
    "papermill": {
     "duration": 0.010933,
     "end_time": "2025-08-28T07:36:49.084992",
     "exception": false,
     "start_time": "2025-08-28T07:36:49.074059",
     "status": "completed"
    },
    "tags": []
   },
   "outputs": [],
   "source": [
    "class TabularDataset(Dataset):\n",
    "    def __init__(self, numeric_data, categorical_data, target_col=None):\n",
    "        self.numeric_data = torch.from_numpy(numeric_data).float()\n",
    "        self.categorical_data = torch.from_numpy(categorical_data).long()\n",
    "        self.target_col = torch.from_numpy(target_col).float() if target_col is not None else None\n",
    "\n",
    "    def __len__(self):\n",
    "        return len(self.numeric_data)\n",
    "    \n",
    "    def __getitem__(self, idx):\n",
    "        numeric_tensors = self.numeric_data[idx]\n",
    "        categorical_tensors = self.categorical_data[idx]\n",
    "        if self.target_col is not None:\n",
    "            return numeric_tensors, categorical_tensors, self.target_col[idx]\n",
    "        return numeric_tensors, categorical_tensors"
   ]
  },
  {
   "cell_type": "code",
   "execution_count": 11,
   "id": "94bd4b33",
   "metadata": {
    "execution": {
     "iopub.execute_input": "2025-08-28T07:36:49.094010Z",
     "iopub.status.busy": "2025-08-28T07:36:49.093567Z",
     "iopub.status.idle": "2025-08-28T07:36:49.098699Z",
     "shell.execute_reply": "2025-08-28T07:36:49.098147Z"
    },
    "papermill": {
     "duration": 0.010787,
     "end_time": "2025-08-28T07:36:49.099825",
     "exception": false,
     "start_time": "2025-08-28T07:36:49.089038",
     "status": "completed"
    },
    "tags": []
   },
   "outputs": [],
   "source": [
    "def get_data_loaders(train_indices, validation_indices):\n",
    "    X_train_fold_numerical = train_data[numeric_col_names].iloc[train_indices]\n",
    "    X_train_fold_categorical = train_data[categorical_col_names].iloc[train_indices]\n",
    "    y_train_fold = train_data[target_col].iloc[train_indices]\n",
    "\n",
    "    X_validation_fold_numerical = train_data[numeric_col_names].iloc[validation_indices]\n",
    "    X_validation_fold_categorical = train_data[categorical_col_names].iloc[validation_indices]\n",
    "    y_validation_fold = train_data[target_col].iloc[validation_indices]\n",
    "\n",
    "    train_dataset = TabularDataset(\n",
    "        X_train_fold_numerical.values,\n",
    "        X_train_fold_categorical.values,\n",
    "        y_train_fold.values\n",
    "    )\n",
    "    validation_dataset = TabularDataset(\n",
    "        X_validation_fold_numerical.values,\n",
    "        X_validation_fold_categorical.values,\n",
    "        y_validation_fold.values\n",
    "    )\n",
    "    test_dataset = TabularDataset(\n",
    "        test_data[numeric_col_names].values,\n",
    "        test_data[categorical_col_names].values\n",
    "    )\n",
    "\n",
    "    train_loader = DataLoader(train_dataset, batch_size=batch_size, shuffle=True, num_workers=2)\n",
    "    validation_loader = DataLoader(validation_dataset, batch_size=batch_size)\n",
    "    test_loader = DataLoader(test_dataset, batch_size=batch_size)\n",
    "\n",
    "    return train_loader, validation_loader, test_loader"
   ]
  },
  {
   "cell_type": "code",
   "execution_count": 12,
   "id": "2e62b3a6",
   "metadata": {
    "execution": {
     "iopub.execute_input": "2025-08-28T07:36:49.108702Z",
     "iopub.status.busy": "2025-08-28T07:36:49.108432Z",
     "iopub.status.idle": "2025-08-28T07:36:49.112280Z",
     "shell.execute_reply": "2025-08-28T07:36:49.111579Z"
    },
    "papermill": {
     "duration": 0.009521,
     "end_time": "2025-08-28T07:36:49.113409",
     "exception": false,
     "start_time": "2025-08-28T07:36:49.103888",
     "status": "completed"
    },
    "tags": []
   },
   "outputs": [],
   "source": [
    "def get_outputs(model, numeric_data, categorical_data):\n",
    "    numeric_data = numeric_data.to(device)\n",
    "    categorical_data = categorical_data.transpose(1,0).to(device)\n",
    "    return model(numeric_data, categorical_data).squeeze()"
   ]
  },
  {
   "cell_type": "code",
   "execution_count": 13,
   "id": "3b11a4da",
   "metadata": {
    "execution": {
     "iopub.execute_input": "2025-08-28T07:36:49.122048Z",
     "iopub.status.busy": "2025-08-28T07:36:49.121813Z",
     "iopub.status.idle": "2025-08-28T07:36:49.126539Z",
     "shell.execute_reply": "2025-08-28T07:36:49.125835Z"
    },
    "papermill": {
     "duration": 0.010289,
     "end_time": "2025-08-28T07:36:49.127647",
     "exception": false,
     "start_time": "2025-08-28T07:36:49.117358",
     "status": "completed"
    },
    "tags": []
   },
   "outputs": [],
   "source": [
    "def get_predictions(model, numeric_data, categorical_data, data_loader, is_test_data):\n",
    "    predictions = []\n",
    "\n",
    "    with torch.no_grad():\n",
    "        if is_test_data:\n",
    "            for numeric_data, categorical_data in data_loader:\n",
    "                outputs = get_outputs(model, numeric_data, categorical_data)\n",
    "                predictions.extend(torch.sigmoid(outputs).cpu().numpy())\n",
    "        else:\n",
    "            for numeric_data, categorical_data, _ in data_loader:\n",
    "                outputs = get_outputs(model, numeric_data, categorical_data)\n",
    "                predictions.extend(torch.sigmoid(outputs).cpu().numpy())\n",
    "\n",
    "    return predictions"
   ]
  },
  {
   "cell_type": "markdown",
   "id": "34c4f12f",
   "metadata": {
    "papermill": {
     "duration": 0.003797,
     "end_time": "2025-08-28T07:36:49.135320",
     "exception": false,
     "start_time": "2025-08-28T07:36:49.131523",
     "status": "completed"
    },
    "tags": []
   },
   "source": [
    "# 6. Stratified K-Fold"
   ]
  },
  {
   "cell_type": "code",
   "execution_count": 14,
   "id": "9a8b6b01",
   "metadata": {
    "execution": {
     "iopub.execute_input": "2025-08-28T07:36:49.144426Z",
     "iopub.status.busy": "2025-08-28T07:36:49.143802Z",
     "iopub.status.idle": "2025-08-28T07:36:49.147758Z",
     "shell.execute_reply": "2025-08-28T07:36:49.146980Z"
    },
    "papermill": {
     "duration": 0.009718,
     "end_time": "2025-08-28T07:36:49.148948",
     "exception": false,
     "start_time": "2025-08-28T07:36:49.139230",
     "status": "completed"
    },
    "tags": []
   },
   "outputs": [],
   "source": [
    "kfold_num_splits = 10\n",
    "batch_size = 1024\n",
    "max_epochs = 1000\n",
    "patience = 50"
   ]
  },
  {
   "cell_type": "code",
   "execution_count": 15,
   "id": "45b4a74e",
   "metadata": {
    "execution": {
     "iopub.execute_input": "2025-08-28T07:36:49.158231Z",
     "iopub.status.busy": "2025-08-28T07:36:49.157714Z",
     "iopub.status.idle": "2025-08-28T10:19:17.646168Z",
     "shell.execute_reply": "2025-08-28T10:19:17.645461Z"
    },
    "papermill": {
     "duration": 9748.494635,
     "end_time": "2025-08-28T10:19:17.647655",
     "exception": false,
     "start_time": "2025-08-28T07:36:49.153020",
     "status": "completed"
    },
    "tags": []
   },
   "outputs": [
    {
     "name": "stdout",
     "output_type": "stream",
     "text": [
      "\n",
      "##### Training Fold 1 of 10 #####\n",
      "\n",
      "(Max epochs: 1000)\n",
      "[Epoch 1] Training Loss: 0.00023, Validation AUC Score: 0.95425\n",
      "[Epoch 26] Training Loss: 0.00014, Validation AUC Score: 0.96344\n",
      "[Epoch 51] Training Loss: 0.00012, Validation AUC Score: 0.95616\n",
      "Stopping early - 50 epochs passed without improvement in best validation ROC AUC score.\n",
      "Final ROC AUC score for Fold 1: 0.96382\n",
      "\n",
      "##### Training Fold 2 of 10 #####\n",
      "\n",
      "(Max epochs: 1000)\n",
      "[Epoch 1] Training Loss: 0.00022, Validation AUC Score: 0.95328\n",
      "[Epoch 26] Training Loss: 0.00014, Validation AUC Score: 0.96297\n",
      "[Epoch 51] Training Loss: 0.00012, Validation AUC Score: 0.95643\n",
      "[Epoch 76] Training Loss: 0.00009, Validation AUC Score: 0.94696\n",
      "Stopping early - 50 epochs passed without improvement in best validation ROC AUC score.\n",
      "Final ROC AUC score for Fold 2: 0.96346\n",
      "\n",
      "##### Training Fold 3 of 10 #####\n",
      "\n",
      "(Max epochs: 1000)\n",
      "[Epoch 1] Training Loss: 0.00023, Validation AUC Score: 0.95203\n",
      "[Epoch 26] Training Loss: 0.00014, Validation AUC Score: 0.96136\n",
      "[Epoch 51] Training Loss: 0.00012, Validation AUC Score: 0.95411\n",
      "Stopping early - 50 epochs passed without improvement in best validation ROC AUC score.\n",
      "Final ROC AUC score for Fold 3: 0.96261\n",
      "\n",
      "##### Training Fold 4 of 10 #####\n",
      "\n",
      "(Max epochs: 1000)\n",
      "[Epoch 1] Training Loss: 0.00022, Validation AUC Score: 0.95609\n",
      "[Epoch 26] Training Loss: 0.00015, Validation AUC Score: 0.96384\n",
      "[Epoch 51] Training Loss: 0.00012, Validation AUC Score: 0.95664\n",
      "Stopping early - 50 epochs passed without improvement in best validation ROC AUC score.\n",
      "Final ROC AUC score for Fold 4: 0.96418\n",
      "\n",
      "##### Training Fold 5 of 10 #####\n",
      "\n",
      "(Max epochs: 1000)\n",
      "[Epoch 1] Training Loss: 0.00022, Validation AUC Score: 0.95517\n",
      "[Epoch 26] Training Loss: 0.00014, Validation AUC Score: 0.96267\n",
      "[Epoch 51] Training Loss: 0.00011, Validation AUC Score: 0.95204\n",
      "Stopping early - 50 epochs passed without improvement in best validation ROC AUC score.\n",
      "Final ROC AUC score for Fold 5: 0.96327\n",
      "\n",
      "##### Training Fold 6 of 10 #####\n",
      "\n",
      "(Max epochs: 1000)\n",
      "[Epoch 1] Training Loss: 0.00023, Validation AUC Score: 0.95195\n",
      "[Epoch 26] Training Loss: 0.00014, Validation AUC Score: 0.96230\n",
      "[Epoch 51] Training Loss: 0.00012, Validation AUC Score: 0.95529\n",
      "Stopping early - 50 epochs passed without improvement in best validation ROC AUC score.\n",
      "Final ROC AUC score for Fold 6: 0.96312\n",
      "\n",
      "##### Training Fold 7 of 10 #####\n",
      "\n",
      "(Max epochs: 1000)\n",
      "[Epoch 1] Training Loss: 0.00023, Validation AUC Score: 0.95276\n",
      "[Epoch 26] Training Loss: 0.00014, Validation AUC Score: 0.96109\n",
      "[Epoch 51] Training Loss: 0.00012, Validation AUC Score: 0.95205\n",
      "Stopping early - 50 epochs passed without improvement in best validation ROC AUC score.\n",
      "Final ROC AUC score for Fold 7: 0.96258\n",
      "\n",
      "##### Training Fold 8 of 10 #####\n",
      "\n",
      "(Max epochs: 1000)\n",
      "[Epoch 1] Training Loss: 0.00023, Validation AUC Score: 0.95353\n",
      "[Epoch 26] Training Loss: 0.00014, Validation AUC Score: 0.96368\n",
      "[Epoch 51] Training Loss: 0.00012, Validation AUC Score: 0.95568\n",
      "Stopping early - 50 epochs passed without improvement in best validation ROC AUC score.\n",
      "Final ROC AUC score for Fold 8: 0.96429\n",
      "\n",
      "##### Training Fold 9 of 10 #####\n",
      "\n",
      "(Max epochs: 1000)\n",
      "[Epoch 1] Training Loss: 0.00022, Validation AUC Score: 0.95469\n",
      "[Epoch 26] Training Loss: 0.00014, Validation AUC Score: 0.96300\n",
      "[Epoch 51] Training Loss: 0.00012, Validation AUC Score: 0.95399\n",
      "Stopping early - 50 epochs passed without improvement in best validation ROC AUC score.\n",
      "Final ROC AUC score for Fold 9: 0.96383\n",
      "\n",
      "##### Training Fold 10 of 10 #####\n",
      "\n",
      "(Max epochs: 1000)\n",
      "[Epoch 1] Training Loss: 0.00023, Validation AUC Score: 0.95402\n",
      "[Epoch 26] Training Loss: 0.00014, Validation AUC Score: 0.96240\n",
      "[Epoch 51] Training Loss: 0.00012, Validation AUC Score: 0.95312\n",
      "Stopping early - 50 epochs passed without improvement in best validation ROC AUC score.\n",
      "Final ROC AUC score for Fold 10: 0.96321\n"
     ]
    }
   ],
   "source": [
    "kfold = StratifiedKFold(n_splits=kfold_num_splits, shuffle=True, random_state=random_seed)\n",
    "kfold_splits = kfold.split(train_data.drop(target_col, axis=1), train_data[target_col])\n",
    "kfold_splits_enumeration = enumerate(kfold_splits)\n",
    "\n",
    "oof_predictions = np.zeros(len(train_data))\n",
    "test_predictions = np.zeros(len(test_data))\n",
    "\n",
    "# will be used later for getting values for 'num_embeddings'\n",
    "train_test_combined = pd.concat([train_data.drop(target_col, axis=1), test_data], axis=0)\n",
    "\n",
    "for fold, (train_indices, validation_indices) in kfold_splits_enumeration:\n",
    "    print(f\"\\n##### Training Fold {fold + 1} of {kfold_num_splits} #####\\n\")\n",
    "\n",
    "    # get data loaders for training, validation and test data\n",
    "    train_loader, validation_loader, test_loader = get_data_loaders(train_indices, validation_indices)\n",
    "\n",
    "    # will be used later for ROC AUC score calculation\n",
    "    y_validation_fold = train_data[target_col].iloc[validation_indices]\n",
    "\n",
    "    # PyTorch model\n",
    "    model = BankModel(\n",
    "        len(numeric_col_names),\n",
    "        train_test_combined[categorical_col_names].nunique(), # `num_embeddings` Embedding parameter\n",
    "        32 # `embedding_dim` Embedding parameter\n",
    "    ).to(device)\n",
    "\n",
    "    optimizer = torch.optim.Adam(model.parameters(), lr=0.001)\n",
    "    criterion = nn.BCEWithLogitsLoss()\n",
    "    scheduler = torch.optim.lr_scheduler.CosineAnnealingLR(optimizer, T_max=max_epochs)\n",
    "\n",
    "    best_validation_auc_score = 0\n",
    "    early_stopping_counter = 0\n",
    "\n",
    "    print(f\"(Max epochs: {max_epochs})\")\n",
    "\n",
    "    for epoch in range(max_epochs):\n",
    "        model.train()\n",
    "        loss_train = 0\n",
    "        for numeric_data, categorical_data, labels in train_loader:\n",
    "            optimizer.zero_grad()\n",
    "            outputs = get_outputs(model, numeric_data, categorical_data)\n",
    "            loss = criterion(outputs, labels.to(device))\n",
    "            loss.backward()\n",
    "            optimizer.step()\n",
    "            loss_train += loss.item()\n",
    "\n",
    "        scheduler.step()\n",
    "\n",
    "        # validation\n",
    "        model.eval()\n",
    "        validation_predictions = get_predictions(model, numeric_data, categorical_data, validation_loader, False)\n",
    "        current_validation_auc_score = roc_auc_score(y_validation_fold, validation_predictions)\n",
    "        if epoch % 25 == 0:\n",
    "            print(f\"[Epoch {epoch + 1}] Training Loss: {loss_train / len(train_indices):.5f}, Validation AUC Score: {current_validation_auc_score:.5f}\")\n",
    "\n",
    "        if current_validation_auc_score > best_validation_auc_score:\n",
    "            best_validation_auc_score = current_validation_auc_score\n",
    "            early_stopping_counter = 0\n",
    "            torch.save(model.state_dict(), 'model.pth')\n",
    "        else:\n",
    "            early_stopping_counter += 1\n",
    "            if early_stopping_counter >= patience:\n",
    "                print(f\"Stopping early - {patience} epochs passed without improvement in best validation ROC AUC score.\")\n",
    "                break\n",
    "\n",
    "    model.load_state_dict(torch.load('model.pth'))\n",
    "\n",
    "    model.eval()\n",
    "    validation_predictions = get_predictions(model, numeric_data, categorical_data, validation_loader, False)\n",
    "\n",
    "    oof_predictions[validation_indices] = np.array(validation_predictions)\n",
    "    final_fold_roc_auc_score = roc_auc_score(y_validation_fold, oof_predictions[validation_indices])\n",
    "    print(f\"Final ROC AUC score for Fold {fold + 1}: {final_fold_roc_auc_score:.5f}\")\n",
    "\n",
    "    # Make predictions on test data\n",
    "    test_predictions_fold = get_predictions(model, numeric_data, categorical_data, test_loader, True)\n",
    "    test_predictions += np.array(test_predictions_fold) / kfold_num_splits"
   ]
  },
  {
   "cell_type": "code",
   "execution_count": 16,
   "id": "89013779",
   "metadata": {
    "execution": {
     "iopub.execute_input": "2025-08-28T10:19:17.662705Z",
     "iopub.status.busy": "2025-08-28T10:19:17.662183Z",
     "iopub.status.idle": "2025-08-28T10:19:18.013793Z",
     "shell.execute_reply": "2025-08-28T10:19:18.012803Z"
    },
    "papermill": {
     "duration": 0.360591,
     "end_time": "2025-08-28T10:19:18.015295",
     "exception": false,
     "start_time": "2025-08-28T10:19:17.654704",
     "status": "completed"
    },
    "tags": []
   },
   "outputs": [
    {
     "name": "stdout",
     "output_type": "stream",
     "text": [
      "10-Fold Cross Validation ROC AUC: 0.96320\n"
     ]
    }
   ],
   "source": [
    "# calculate the ROC AUC score for all Out-Of-Fold predictions\n",
    "oof_roc_auc_score = roc_auc_score(train_data[target_col], oof_predictions)\n",
    "print(f\"{kfold_num_splits}-Fold Cross Validation ROC AUC: {oof_roc_auc_score:.5f}\")"
   ]
  },
  {
   "cell_type": "markdown",
   "id": "064d2b56",
   "metadata": {
    "papermill": {
     "duration": 0.006178,
     "end_time": "2025-08-28T10:19:18.028989",
     "exception": false,
     "start_time": "2025-08-28T10:19:18.022811",
     "status": "completed"
    },
    "tags": []
   },
   "source": [
    "# 7. Submission"
   ]
  },
  {
   "cell_type": "code",
   "execution_count": 17,
   "id": "34053b1c",
   "metadata": {
    "execution": {
     "iopub.execute_input": "2025-08-28T10:19:18.042837Z",
     "iopub.status.busy": "2025-08-28T10:19:18.042412Z",
     "iopub.status.idle": "2025-08-28T10:19:18.556219Z",
     "shell.execute_reply": "2025-08-28T10:19:18.555388Z"
    },
    "papermill": {
     "duration": 0.522146,
     "end_time": "2025-08-28T10:19:18.557508",
     "exception": false,
     "start_time": "2025-08-28T10:19:18.035362",
     "status": "completed"
    },
    "tags": []
   },
   "outputs": [
    {
     "name": "stdout",
     "output_type": "stream",
     "text": [
      "Submission file prepared.\n"
     ]
    }
   ],
   "source": [
    "# Prepare submission\n",
    "submission = pd.DataFrame({'id': test_data.index, 'y': test_predictions})\n",
    "submission.to_csv('submission.csv', index=False)\n",
    "print('Submission file prepared.')"
   ]
  }
 ],
 "metadata": {
  "kaggle": {
   "accelerator": "gpu",
   "dataSources": [
    {
     "databundleVersionId": 12937777,
     "sourceId": 91719,
     "sourceType": "competition"
    }
   ],
   "dockerImageVersionId": 31089,
   "isGpuEnabled": true,
   "isInternetEnabled": true,
   "language": "python",
   "sourceType": "notebook"
  },
  "kernelspec": {
   "display_name": "Python 3",
   "language": "python",
   "name": "python3"
  },
  "language_info": {
   "codemirror_mode": {
    "name": "ipython",
    "version": 3
   },
   "file_extension": ".py",
   "mimetype": "text/x-python",
   "name": "python",
   "nbconvert_exporter": "python",
   "pygments_lexer": "ipython3",
   "version": "3.11.13"
  },
  "papermill": {
   "default_parameters": {},
   "duration": 9774.810076,
   "end_time": "2025-08-28T10:19:20.892831",
   "environment_variables": {},
   "exception": null,
   "input_path": "__notebook__.ipynb",
   "output_path": "__notebook__.ipynb",
   "parameters": {},
   "start_time": "2025-08-28T07:36:26.082755",
   "version": "2.6.0"
  }
 },
 "nbformat": 4,
 "nbformat_minor": 5
}
