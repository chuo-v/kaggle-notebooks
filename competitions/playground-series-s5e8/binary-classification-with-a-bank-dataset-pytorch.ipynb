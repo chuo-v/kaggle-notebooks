{
 "cells": [
  {
   "cell_type": "markdown",
   "id": "2340195c",
   "metadata": {
    "papermill": {
     "duration": 0.004825,
     "end_time": "2025-08-28T13:37:04.217139",
     "exception": false,
     "start_time": "2025-08-28T13:37:04.212314",
     "status": "completed"
    },
    "tags": []
   },
   "source": [
    "# 1. Overview\n",
    "\n",
    "This is a notebook for training a neural network to submit predictions to the \"Binary Classification with a Bank Dataset\" Kaggle competition ([playground-series-s5e8](https://www.kaggle.com/competitions/playground-series-s5e8)).\n",
    "\n",
    "Synthetic data is used for this playground competition, and the objective is to, for each client (with a corresponding `id`) in the test set, predict the probability that the client will subscribe to a bank term deposit. Note that while the target represented by `y` is binary (i.e. the client either subscribes or does not subscribe), the predictions are about probabilities, and so their values lie between 0 and 1."
   ]
  },
  {
   "cell_type": "markdown",
   "id": "0c6210cc",
   "metadata": {
    "papermill": {
     "duration": 0.003726,
     "end_time": "2025-08-28T13:37:04.225294",
     "exception": false,
     "start_time": "2025-08-28T13:37:04.221568",
     "status": "completed"
    },
    "tags": []
   },
   "source": [
    "# 2. Setup\n",
    "\n",
    "## 2.1 Imports"
   ]
  },
  {
   "cell_type": "code",
   "execution_count": 1,
   "id": "4ae1e39c",
   "metadata": {
    "execution": {
     "iopub.execute_input": "2025-08-28T13:37:04.234220Z",
     "iopub.status.busy": "2025-08-28T13:37:04.233928Z",
     "iopub.status.idle": "2025-08-28T13:37:18.934953Z",
     "shell.execute_reply": "2025-08-28T13:37:18.934061Z"
    },
    "papermill": {
     "duration": 14.707374,
     "end_time": "2025-08-28T13:37:18.936577",
     "exception": false,
     "start_time": "2025-08-28T13:37:04.229203",
     "status": "completed"
    },
    "tags": []
   },
   "outputs": [],
   "source": [
    "import numpy as np\n",
    "import pandas as pd\n",
    "from sklearn.metrics import roc_auc_score\n",
    "from sklearn.model_selection import StratifiedKFold\n",
    "from sklearn.preprocessing import LabelEncoder\n",
    "import torch\n",
    "import torch.nn as nn\n",
    "import torch.optim as optim\n",
    "from torch.utils.data import Dataset, DataLoader\n",
    "from torchvision import transforms, utils"
   ]
  },
  {
   "cell_type": "markdown",
   "id": "679be250",
   "metadata": {
    "papermill": {
     "duration": 0.003493,
     "end_time": "2025-08-28T13:37:18.944214",
     "exception": false,
     "start_time": "2025-08-28T13:37:18.940721",
     "status": "completed"
    },
    "tags": []
   },
   "source": [
    "## 2.2 Reproducibility\n",
    "\n",
    "For reproducibility of results, an arbitrary number will be used for the random seed."
   ]
  },
  {
   "cell_type": "code",
   "execution_count": 2,
   "id": "ecef4670",
   "metadata": {
    "execution": {
     "iopub.execute_input": "2025-08-28T13:37:18.953173Z",
     "iopub.status.busy": "2025-08-28T13:37:18.952279Z",
     "iopub.status.idle": "2025-08-28T13:37:19.022467Z",
     "shell.execute_reply": "2025-08-28T13:37:19.021809Z"
    },
    "papermill": {
     "duration": 0.076013,
     "end_time": "2025-08-28T13:37:19.023869",
     "exception": false,
     "start_time": "2025-08-28T13:37:18.947856",
     "status": "completed"
    },
    "tags": []
   },
   "outputs": [],
   "source": [
    "random_seed = 11\n",
    "np.random.seed(random_seed)\n",
    "torch.manual_seed(random_seed)\n",
    "if torch.cuda.is_available():\n",
    "    torch.cuda.manual_seed(random_seed)\n",
    "    torch.cuda.manual_seed_all(random_seed)"
   ]
  },
  {
   "cell_type": "markdown",
   "id": "2749a948",
   "metadata": {
    "papermill": {
     "duration": 0.003722,
     "end_time": "2025-08-28T13:37:19.031630",
     "exception": false,
     "start_time": "2025-08-28T13:37:19.027908",
     "status": "completed"
    },
    "tags": []
   },
   "source": [
    "## 2.3 Device\n",
    "\n",
    "`device` will indicate whether CUDA or CPU has to be used. While the CPU can be sufficient for some minor tasks like debugging, training of the neural network that will be done in subsequent sections will require an accelerator (GPU) to allow it to complete in a timely fashion."
   ]
  },
  {
   "cell_type": "code",
   "execution_count": 3,
   "id": "ca9ad3b1",
   "metadata": {
    "execution": {
     "iopub.execute_input": "2025-08-28T13:37:19.040281Z",
     "iopub.status.busy": "2025-08-28T13:37:19.039968Z",
     "iopub.status.idle": "2025-08-28T13:37:19.045365Z",
     "shell.execute_reply": "2025-08-28T13:37:19.044623Z"
    },
    "papermill": {
     "duration": 0.011092,
     "end_time": "2025-08-28T13:37:19.046471",
     "exception": false,
     "start_time": "2025-08-28T13:37:19.035379",
     "status": "completed"
    },
    "tags": []
   },
   "outputs": [
    {
     "data": {
      "text/plain": [
       "'cuda'"
      ]
     },
     "execution_count": 3,
     "metadata": {},
     "output_type": "execute_result"
    }
   ],
   "source": [
    "device = 'cuda' if torch.cuda.is_available() else 'cpu'\n",
    "device"
   ]
  },
  {
   "cell_type": "markdown",
   "id": "d27879f1",
   "metadata": {
    "papermill": {
     "duration": 0.00372,
     "end_time": "2025-08-28T13:37:19.054252",
     "exception": false,
     "start_time": "2025-08-28T13:37:19.050532",
     "status": "completed"
    },
    "tags": []
   },
   "source": [
    "## 2.4 DataFrames\n",
    "\n",
    "Next, the data provided for the competition will be read into dataframes."
   ]
  },
  {
   "cell_type": "code",
   "execution_count": 4,
   "id": "71ccb9b6",
   "metadata": {
    "execution": {
     "iopub.execute_input": "2025-08-28T13:37:19.064314Z",
     "iopub.status.busy": "2025-08-28T13:37:19.063766Z",
     "iopub.status.idle": "2025-08-28T13:37:22.107110Z",
     "shell.execute_reply": "2025-08-28T13:37:22.106414Z"
    },
    "papermill": {
     "duration": 3.049713,
     "end_time": "2025-08-28T13:37:22.108567",
     "exception": false,
     "start_time": "2025-08-28T13:37:19.058854",
     "status": "completed"
    },
    "tags": []
   },
   "outputs": [],
   "source": [
    "# Read data files\n",
    "input_filepath = '/kaggle/input'\n",
    "train_data = pd.read_csv(input_filepath + '/playground-series-s5e8/train.csv')\n",
    "test_data = pd.read_csv(input_filepath + '/playground-series-s5e8/test.csv')\n",
    "\n",
    "# Set index\n",
    "train_data.set_index('id', inplace=True)\n",
    "test_data.set_index('id', inplace=True)\n",
    "\n",
    "# Get numeric and categorical columns from training data (which should be the same for test data)\n",
    "numeric_col_names = train_data.select_dtypes(include='number').columns.to_series()\n",
    "categorical_col_names = train_data.select_dtypes(include='object').columns.to_series()\n",
    "assert numeric_col_names.size + categorical_col_names.size == train_data.shape[1]\n",
    "\n",
    "# Set target column\n",
    "target_col='y'\n",
    "# Drop 'y' column from numeric column names\n",
    "numeric_col_names.drop(target_col, inplace=True)"
   ]
  },
  {
   "cell_type": "markdown",
   "id": "ee18cf58",
   "metadata": {
    "papermill": {
     "duration": 0.004217,
     "end_time": "2025-08-28T13:37:22.117615",
     "exception": false,
     "start_time": "2025-08-28T13:37:22.113398",
     "status": "completed"
    },
    "tags": []
   },
   "source": [
    "# 3. Data Preprocessing\n",
    "\n",
    "## 3.1 Feature Generation"
   ]
  },
  {
   "cell_type": "code",
   "execution_count": 5,
   "id": "5149b020",
   "metadata": {
    "execution": {
     "iopub.execute_input": "2025-08-28T13:37:22.127359Z",
     "iopub.status.busy": "2025-08-28T13:37:22.126526Z",
     "iopub.status.idle": "2025-08-28T13:37:23.381852Z",
     "shell.execute_reply": "2025-08-28T13:37:23.380792Z"
    },
    "papermill": {
     "duration": 1.261536,
     "end_time": "2025-08-28T13:37:23.383176",
     "exception": false,
     "start_time": "2025-08-28T13:37:22.121640",
     "status": "completed"
    },
    "tags": []
   },
   "outputs": [
    {
     "name": "stdout",
     "output_type": "stream",
     "text": [
      "balance_threshold for third quartile: 1390.0\n",
      "duration_threshold for third quartile: 361.0\n",
      "campaign_threshold for third quartile: 3.0\n"
     ]
    }
   ],
   "source": [
    "# log transformation of numeric features\n",
    "\n",
    "train_data['log_balance'] = np.sign(train_data['balance']) * np.log(train_data['balance'].abs().apply(lambda x: x if x > 1 else 1))\n",
    "test_data['log_balance'] = np.sign(test_data['balance']) * np.log(test_data['balance'].abs().apply(lambda x: x if x > 1 else 1))\n",
    "\n",
    "train_data['log_duration'] = np.sign(train_data['duration']) * np.log(train_data['duration'].abs().apply(lambda x: x if x > 1 else 1))\n",
    "test_data['log_duration'] = np.sign(test_data['duration']) * np.log(test_data['duration'].abs().apply(lambda x: x if x > 1 else 1))\n",
    "\n",
    "train_data['log_pdays'] = train_data['pdays'].apply(lambda x: x if x == -1 else (0 if x < 1 else np.log(x)))\n",
    "test_data['log_pdays'] = test_data['pdays'].apply(lambda x: x if x == -1 else (0 if x < 1 else np.log(x)))\n",
    "\n",
    "# sine transformation of numeric features\n",
    "\n",
    "train_data['sine_balance'] = np.sin(2 * np.pi * train_data['balance'] / 1000)\n",
    "test_data['sine_balance'] = np.sin(2 * np.pi * test_data['balance'] / 1000)\n",
    "\n",
    "train_data['sine_duration'] = np.sin(2 * np.pi * train_data['duration'] / 720)\n",
    "test_data['sine_duration'] = np.sin(2 * np.pi * test_data['duration'] / 720)\n",
    "\n",
    "train_data['sine_pdays'] = np.sin(2 * np.pi * train_data['pdays'] / 7)\n",
    "test_data['sine_pdays'] = np.sin(2 * np.pi * test_data['pdays'] / 7)\n",
    "\n",
    "# transformation of numeric features to boolean ones based on threshold or specific value\n",
    "\n",
    "balance_threshold = train_data['balance'].quantile(0.75)\n",
    "print(f\"balance_threshold for third quartile: {balance_threshold}\")\n",
    "train_data['balance_above_third_quartile'] = (train_data['balance'] > balance_threshold).astype(object)\n",
    "test_data['balance_above_third_quartile'] = (test_data['balance'] > balance_threshold).astype(object)\n",
    "\n",
    "duration_threshold = train_data['duration'].quantile(0.75)\n",
    "print(f\"duration_threshold for third quartile: {duration_threshold}\")\n",
    "train_data['duration_above_third_quartile'] = (train_data['duration'] > duration_threshold).astype(object)\n",
    "test_data['duration_above_third_quartile'] = (test_data['duration'] > duration_threshold).astype(object)\n",
    "\n",
    "campaign_threshold = train_data['campaign'].quantile(0.75)\n",
    "print(f\"campaign_threshold for third quartile: {campaign_threshold}\")\n",
    "train_data['campaign_above_third_quartile'] = (train_data['campaign'] > campaign_threshold).astype(object)\n",
    "test_data['campaign_above_third_quartile'] = (test_data['campaign'] > campaign_threshold).astype(object)\n",
    "\n",
    "train_data['client_not_previously_contacted'] = (train_data['pdays'] == -1).astype(object)\n",
    "test_data['client_not_previously_contacted'] = (test_data['pdays'] == -1).astype(object)"
   ]
  },
  {
   "cell_type": "code",
   "execution_count": 6,
   "id": "4c34e774",
   "metadata": {
    "execution": {
     "iopub.execute_input": "2025-08-28T13:37:23.392471Z",
     "iopub.status.busy": "2025-08-28T13:37:23.392199Z",
     "iopub.status.idle": "2025-08-28T13:37:24.023279Z",
     "shell.execute_reply": "2025-08-28T13:37:24.022637Z"
    },
    "papermill": {
     "duration": 0.637234,
     "end_time": "2025-08-28T13:37:24.024581",
     "exception": false,
     "start_time": "2025-08-28T13:37:23.387347",
     "status": "completed"
    },
    "tags": []
   },
   "outputs": [],
   "source": [
    "# drop columns that are no longer necessary due to feature generation\n",
    "cols_to_drop = [\n",
    "    'balance',\n",
    "    'duration',\n",
    "    'pdays',\n",
    "]\n",
    "train_data.drop(cols_to_drop, axis=1, inplace=True)\n",
    "test_data.drop(cols_to_drop, axis=1, inplace=True)\n",
    "\n",
    "# get numeric and categorical column names for training data again, and check that\n",
    "# the total number of numeric and categorical columns is as expected\n",
    "numeric_col_names = train_data.select_dtypes(include='number').columns.to_series()\n",
    "categorical_col_names = train_data.select_dtypes(include='object').columns.to_series()\n",
    "assert numeric_col_names.size + categorical_col_names.size == train_data.shape[1]\n",
    "\n",
    "# drop 'y' column from numeric column names\n",
    "numeric_col_names.drop(target_col, inplace=True)"
   ]
  },
  {
   "cell_type": "markdown",
   "id": "9d1b1f20",
   "metadata": {
    "papermill": {
     "duration": 0.004597,
     "end_time": "2025-08-28T13:37:24.033723",
     "exception": false,
     "start_time": "2025-08-28T13:37:24.029126",
     "status": "completed"
    },
    "tags": []
   },
   "source": [
    "## 3.2 Categorical Encoding"
   ]
  },
  {
   "cell_type": "code",
   "execution_count": 7,
   "id": "2a4b1e5e",
   "metadata": {
    "execution": {
     "iopub.execute_input": "2025-08-28T13:37:24.043160Z",
     "iopub.status.busy": "2025-08-28T13:37:24.042880Z",
     "iopub.status.idle": "2025-08-28T13:37:26.888409Z",
     "shell.execute_reply": "2025-08-28T13:37:26.887771Z"
    },
    "papermill": {
     "duration": 2.851724,
     "end_time": "2025-08-28T13:37:26.889858",
     "exception": false,
     "start_time": "2025-08-28T13:37:24.038134",
     "status": "completed"
    },
    "tags": []
   },
   "outputs": [],
   "source": [
    "# encode categorical features\n",
    "for col in categorical_col_names:\n",
    "    le = LabelEncoder()\n",
    "    train_data[col] = le.fit_transform(train_data[col].astype(str))\n",
    "    test_data[col] = le.fit_transform(test_data[col].astype(str))"
   ]
  },
  {
   "cell_type": "markdown",
   "id": "c7a1ce85",
   "metadata": {
    "papermill": {
     "duration": 0.003755,
     "end_time": "2025-08-28T13:37:26.898173",
     "exception": false,
     "start_time": "2025-08-28T13:37:26.894418",
     "status": "completed"
    },
    "tags": []
   },
   "source": [
    "## 3.3 Review of Features"
   ]
  },
  {
   "cell_type": "code",
   "execution_count": 8,
   "id": "1ffd89be",
   "metadata": {
    "execution": {
     "iopub.execute_input": "2025-08-28T13:37:26.907389Z",
     "iopub.status.busy": "2025-08-28T13:37:26.906802Z",
     "iopub.status.idle": "2025-08-28T13:37:26.911351Z",
     "shell.execute_reply": "2025-08-28T13:37:26.910526Z"
    },
    "papermill": {
     "duration": 0.010382,
     "end_time": "2025-08-28T13:37:26.912394",
     "exception": false,
     "start_time": "2025-08-28T13:37:26.902012",
     "status": "completed"
    },
    "tags": []
   },
   "outputs": [
    {
     "name": "stdout",
     "output_type": "stream",
     "text": [
      "Numeric features:\n",
      "['age' 'day' 'campaign' 'previous' 'log_balance' 'log_duration'\n",
      " 'log_pdays' 'sine_balance' 'sine_duration' 'sine_pdays']\n",
      "Categorical features:\n",
      "['job' 'marital' 'education' 'default' 'housing' 'loan' 'contact' 'month'\n",
      " 'poutcome' 'balance_above_third_quartile' 'duration_above_third_quartile'\n",
      " 'campaign_above_third_quartile' 'client_not_previously_contacted']\n"
     ]
    }
   ],
   "source": [
    "print(f\"Numeric features:\\n{numeric_col_names.values}\")\n",
    "print(f\"Categorical features:\\n{categorical_col_names.values}\")"
   ]
  },
  {
   "cell_type": "markdown",
   "id": "373d913a",
   "metadata": {
    "papermill": {
     "duration": 0.003802,
     "end_time": "2025-08-28T13:37:26.920535",
     "exception": false,
     "start_time": "2025-08-28T13:37:26.916733",
     "status": "completed"
    },
    "tags": []
   },
   "source": [
    "# 4. Model"
   ]
  },
  {
   "cell_type": "code",
   "execution_count": 9,
   "id": "02e19220",
   "metadata": {
    "execution": {
     "iopub.execute_input": "2025-08-28T13:37:26.930143Z",
     "iopub.status.busy": "2025-08-28T13:37:26.929683Z",
     "iopub.status.idle": "2025-08-28T13:37:26.936937Z",
     "shell.execute_reply": "2025-08-28T13:37:26.936388Z"
    },
    "papermill": {
     "duration": 0.013294,
     "end_time": "2025-08-28T13:37:26.938063",
     "exception": false,
     "start_time": "2025-08-28T13:37:26.924769",
     "status": "completed"
    },
    "tags": []
   },
   "outputs": [],
   "source": [
    "class BankModel(nn.Module):\n",
    "    def __init__(self, num_numeric_features, num_embeddings_list, embeddings_dim):\n",
    "        super().__init__()\n",
    "\n",
    "        # embedding layers for categorical features\n",
    "        self.categorical_embeddings = nn.ModuleList([\n",
    "            nn.Embedding(num_embeddings, embeddings_dim) for num_embeddings in num_embeddings_list\n",
    "        ])\n",
    "\n",
    "        # layer for projecting numeric features on to the embedding space\n",
    "        self.numeric_projection = nn.Linear(num_numeric_features, embeddings_dim)\n",
    "\n",
    "        num_total_features = 1 + len(num_embeddings_list) # num(numeric features) + num(categorical features)\n",
    "        input_size = num_total_features * embeddings_dim\n",
    "        output_size = input_size\n",
    "\n",
    "        self.layers = nn.ModuleList()\n",
    "        for i in range(5):\n",
    "            self.layers.append(nn.Linear(input_size, output_size))\n",
    "            self.layers.append(nn.ReLU())\n",
    "            self.layers.append(nn.BatchNorm1d(output_size))\n",
    "            self.layers.append(nn.Dropout(0.1))\n",
    "\n",
    "        # final output layer\n",
    "        self.output_layer = nn.Linear(input_size, 1)\n",
    "\n",
    "    def forward(self, numeric_inputs, categorical_inputs):\n",
    "        numeric_embeddings = self.numeric_projection(numeric_inputs)\n",
    "        numeric_embeddings = numeric_embeddings.unsqueeze(1)\n",
    "\n",
    "        num_categorical_features = len(categorical_inputs)\n",
    "        categorical_embeddings = [self.categorical_embeddings[i](categorical_inputs[i].unsqueeze(-1)) for i in range(num_categorical_features)]\n",
    "\n",
    "        all_features = torch.cat([numeric_embeddings] + categorical_embeddings, dim=1)\n",
    "        x = all_features\n",
    "        x = x.view(x.size(0), -1)\n",
    "\n",
    "        for layer in self.layers:\n",
    "            x = layer(x)\n",
    "\n",
    "        return self.output_layer(x)\n"
   ]
  },
  {
   "cell_type": "markdown",
   "id": "079178dd",
   "metadata": {
    "papermill": {
     "duration": 0.003662,
     "end_time": "2025-08-28T13:37:26.945855",
     "exception": false,
     "start_time": "2025-08-28T13:37:26.942193",
     "status": "completed"
    },
    "tags": []
   },
   "source": [
    "# 5. Helper Classes/Functions"
   ]
  },
  {
   "cell_type": "code",
   "execution_count": 10,
   "id": "9702fa5e",
   "metadata": {
    "execution": {
     "iopub.execute_input": "2025-08-28T13:37:26.955254Z",
     "iopub.status.busy": "2025-08-28T13:37:26.954537Z",
     "iopub.status.idle": "2025-08-28T13:37:26.959877Z",
     "shell.execute_reply": "2025-08-28T13:37:26.959126Z"
    },
    "papermill": {
     "duration": 0.011378,
     "end_time": "2025-08-28T13:37:26.961125",
     "exception": false,
     "start_time": "2025-08-28T13:37:26.949747",
     "status": "completed"
    },
    "tags": []
   },
   "outputs": [],
   "source": [
    "class TabularDataset(Dataset):\n",
    "    def __init__(self, numeric_data, categorical_data, target_col=None):\n",
    "        self.numeric_data = torch.from_numpy(numeric_data).float()\n",
    "        self.categorical_data = torch.from_numpy(categorical_data).long()\n",
    "        self.target_col = torch.from_numpy(target_col).float() if target_col is not None else None\n",
    "\n",
    "    def __len__(self):\n",
    "        return len(self.numeric_data)\n",
    "    \n",
    "    def __getitem__(self, idx):\n",
    "        numeric_tensors = self.numeric_data[idx]\n",
    "        categorical_tensors = self.categorical_data[idx]\n",
    "        if self.target_col is not None:\n",
    "            return numeric_tensors, categorical_tensors, self.target_col[idx]\n",
    "        return numeric_tensors, categorical_tensors"
   ]
  },
  {
   "cell_type": "code",
   "execution_count": 11,
   "id": "40d16e37",
   "metadata": {
    "execution": {
     "iopub.execute_input": "2025-08-28T13:37:26.970713Z",
     "iopub.status.busy": "2025-08-28T13:37:26.970091Z",
     "iopub.status.idle": "2025-08-28T13:37:26.975988Z",
     "shell.execute_reply": "2025-08-28T13:37:26.975200Z"
    },
    "papermill": {
     "duration": 0.011753,
     "end_time": "2025-08-28T13:37:26.977164",
     "exception": false,
     "start_time": "2025-08-28T13:37:26.965411",
     "status": "completed"
    },
    "tags": []
   },
   "outputs": [],
   "source": [
    "def get_data_loaders(train_indices, validation_indices):\n",
    "    X_train_fold_numerical = train_data[numeric_col_names].iloc[train_indices]\n",
    "    X_train_fold_categorical = train_data[categorical_col_names].iloc[train_indices]\n",
    "    y_train_fold = train_data[target_col].iloc[train_indices]\n",
    "\n",
    "    X_validation_fold_numerical = train_data[numeric_col_names].iloc[validation_indices]\n",
    "    X_validation_fold_categorical = train_data[categorical_col_names].iloc[validation_indices]\n",
    "    y_validation_fold = train_data[target_col].iloc[validation_indices]\n",
    "\n",
    "    train_dataset = TabularDataset(\n",
    "        X_train_fold_numerical.values,\n",
    "        X_train_fold_categorical.values,\n",
    "        y_train_fold.values\n",
    "    )\n",
    "    validation_dataset = TabularDataset(\n",
    "        X_validation_fold_numerical.values,\n",
    "        X_validation_fold_categorical.values,\n",
    "        y_validation_fold.values\n",
    "    )\n",
    "    test_dataset = TabularDataset(\n",
    "        test_data[numeric_col_names].values,\n",
    "        test_data[categorical_col_names].values\n",
    "    )\n",
    "\n",
    "    train_loader = DataLoader(train_dataset, batch_size=batch_size, shuffle=True, num_workers=2)\n",
    "    validation_loader = DataLoader(validation_dataset, batch_size=batch_size)\n",
    "    test_loader = DataLoader(test_dataset, batch_size=batch_size)\n",
    "\n",
    "    return train_loader, validation_loader, test_loader"
   ]
  },
  {
   "cell_type": "code",
   "execution_count": 12,
   "id": "df5936dd",
   "metadata": {
    "execution": {
     "iopub.execute_input": "2025-08-28T13:37:26.986498Z",
     "iopub.status.busy": "2025-08-28T13:37:26.986203Z",
     "iopub.status.idle": "2025-08-28T13:37:26.990910Z",
     "shell.execute_reply": "2025-08-28T13:37:26.990324Z"
    },
    "papermill": {
     "duration": 0.010938,
     "end_time": "2025-08-28T13:37:26.992066",
     "exception": false,
     "start_time": "2025-08-28T13:37:26.981128",
     "status": "completed"
    },
    "tags": []
   },
   "outputs": [],
   "source": [
    "def get_outputs(model, numeric_data, categorical_data):\n",
    "    numeric_data = numeric_data.to(device)\n",
    "    categorical_data = categorical_data.transpose(1,0).to(device)\n",
    "    return model(numeric_data, categorical_data).squeeze()"
   ]
  },
  {
   "cell_type": "code",
   "execution_count": 13,
   "id": "c497d763",
   "metadata": {
    "execution": {
     "iopub.execute_input": "2025-08-28T13:37:27.001779Z",
     "iopub.status.busy": "2025-08-28T13:37:27.001056Z",
     "iopub.status.idle": "2025-08-28T13:37:27.006021Z",
     "shell.execute_reply": "2025-08-28T13:37:27.005435Z"
    },
    "papermill": {
     "duration": 0.010894,
     "end_time": "2025-08-28T13:37:27.007201",
     "exception": false,
     "start_time": "2025-08-28T13:37:26.996307",
     "status": "completed"
    },
    "tags": []
   },
   "outputs": [],
   "source": [
    "def get_predictions(model, numeric_data, categorical_data, data_loader, is_test_data):\n",
    "    predictions = []\n",
    "\n",
    "    with torch.no_grad():\n",
    "        if is_test_data:\n",
    "            for numeric_data, categorical_data in data_loader:\n",
    "                outputs = get_outputs(model, numeric_data, categorical_data)\n",
    "                predictions.extend(torch.sigmoid(outputs).cpu().numpy())\n",
    "        else:\n",
    "            for numeric_data, categorical_data, _ in data_loader:\n",
    "                outputs = get_outputs(model, numeric_data, categorical_data)\n",
    "                predictions.extend(torch.sigmoid(outputs).cpu().numpy())\n",
    "\n",
    "    return predictions"
   ]
  },
  {
   "cell_type": "markdown",
   "id": "e119cbce",
   "metadata": {
    "papermill": {
     "duration": 0.004167,
     "end_time": "2025-08-28T13:37:27.015721",
     "exception": false,
     "start_time": "2025-08-28T13:37:27.011554",
     "status": "completed"
    },
    "tags": []
   },
   "source": [
    "# 6. Stratified K-Fold"
   ]
  },
  {
   "cell_type": "code",
   "execution_count": 14,
   "id": "ce481567",
   "metadata": {
    "execution": {
     "iopub.execute_input": "2025-08-28T13:37:27.024981Z",
     "iopub.status.busy": "2025-08-28T13:37:27.024374Z",
     "iopub.status.idle": "2025-08-28T13:37:27.028385Z",
     "shell.execute_reply": "2025-08-28T13:37:27.027632Z"
    },
    "papermill": {
     "duration": 0.009798,
     "end_time": "2025-08-28T13:37:27.029540",
     "exception": false,
     "start_time": "2025-08-28T13:37:27.019742",
     "status": "completed"
    },
    "tags": []
   },
   "outputs": [],
   "source": [
    "kfold_num_splits = 10\n",
    "batch_size = 1024\n",
    "max_epochs = 500\n",
    "patience = 50"
   ]
  },
  {
   "cell_type": "code",
   "execution_count": 15,
   "id": "89a4bce8",
   "metadata": {
    "execution": {
     "iopub.execute_input": "2025-08-28T13:37:27.038853Z",
     "iopub.status.busy": "2025-08-28T13:37:27.038571Z",
     "iopub.status.idle": "2025-08-28T15:16:59.086341Z",
     "shell.execute_reply": "2025-08-28T15:16:59.085644Z"
    },
    "papermill": {
     "duration": 5972.054193,
     "end_time": "2025-08-28T15:16:59.087985",
     "exception": false,
     "start_time": "2025-08-28T13:37:27.033792",
     "status": "completed"
    },
    "tags": []
   },
   "outputs": [
    {
     "name": "stdout",
     "output_type": "stream",
     "text": [
      "\n",
      "##### Training Fold 1 of 10 #####\n",
      "\n",
      "(Max epochs: 500)\n",
      "[Epoch 1] Training Loss: 0.00022, Validation AUC Score: 0.95400\n",
      "[Epoch 26] Training Loss: 0.00015, Validation AUC Score: 0.96343\n",
      "[Epoch 51] Training Loss: 0.00014, Validation AUC Score: 0.96188\n",
      "[Epoch 76] Training Loss: 0.00012, Validation AUC Score: 0.95883\n",
      "Stopping early - 50 epochs passed without improvement in best validation ROC AUC score.\n",
      "Final ROC AUC score for Fold 1: 0.96385\n",
      "\n",
      "##### Training Fold 2 of 10 #####\n",
      "\n",
      "(Max epochs: 500)\n",
      "[Epoch 1] Training Loss: 0.00022, Validation AUC Score: 0.95452\n",
      "[Epoch 26] Training Loss: 0.00015, Validation AUC Score: 0.96357\n",
      "[Epoch 51] Training Loss: 0.00014, Validation AUC Score: 0.96147\n",
      "Stopping early - 50 epochs passed without improvement in best validation ROC AUC score.\n",
      "Final ROC AUC score for Fold 2: 0.96411\n",
      "\n",
      "##### Training Fold 3 of 10 #####\n",
      "\n",
      "(Max epochs: 500)\n",
      "[Epoch 1] Training Loss: 0.00022, Validation AUC Score: 0.95430\n",
      "[Epoch 26] Training Loss: 0.00015, Validation AUC Score: 0.96213\n",
      "[Epoch 51] Training Loss: 0.00014, Validation AUC Score: 0.96050\n",
      "Stopping early - 50 epochs passed without improvement in best validation ROC AUC score.\n",
      "Final ROC AUC score for Fold 3: 0.96325\n",
      "\n",
      "##### Training Fold 4 of 10 #####\n",
      "\n",
      "(Max epochs: 500)\n",
      "[Epoch 1] Training Loss: 0.00022, Validation AUC Score: 0.95612\n",
      "[Epoch 26] Training Loss: 0.00015, Validation AUC Score: 0.96411\n",
      "[Epoch 51] Training Loss: 0.00014, Validation AUC Score: 0.96171\n",
      "[Epoch 76] Training Loss: 0.00013, Validation AUC Score: 0.96025\n",
      "Stopping early - 50 epochs passed without improvement in best validation ROC AUC score.\n",
      "Final ROC AUC score for Fold 4: 0.96461\n",
      "\n",
      "##### Training Fold 5 of 10 #####\n",
      "\n",
      "(Max epochs: 500)\n",
      "[Epoch 1] Training Loss: 0.00022, Validation AUC Score: 0.95515\n",
      "[Epoch 26] Training Loss: 0.00015, Validation AUC Score: 0.96314\n",
      "[Epoch 51] Training Loss: 0.00014, Validation AUC Score: 0.96103\n",
      "Stopping early - 50 epochs passed without improvement in best validation ROC AUC score.\n",
      "Final ROC AUC score for Fold 5: 0.96362\n",
      "\n",
      "##### Training Fold 6 of 10 #####\n",
      "\n",
      "(Max epochs: 500)\n",
      "[Epoch 1] Training Loss: 0.00022, Validation AUC Score: 0.95449\n",
      "[Epoch 26] Training Loss: 0.00015, Validation AUC Score: 0.96329\n",
      "[Epoch 51] Training Loss: 0.00014, Validation AUC Score: 0.96156\n",
      "Stopping early - 50 epochs passed without improvement in best validation ROC AUC score.\n",
      "Final ROC AUC score for Fold 6: 0.96374\n",
      "\n",
      "##### Training Fold 7 of 10 #####\n",
      "\n",
      "(Max epochs: 500)\n",
      "[Epoch 1] Training Loss: 0.00022, Validation AUC Score: 0.95503\n",
      "[Epoch 26] Training Loss: 0.00015, Validation AUC Score: 0.96232\n",
      "[Epoch 51] Training Loss: 0.00014, Validation AUC Score: 0.96028\n",
      "Stopping early - 50 epochs passed without improvement in best validation ROC AUC score.\n",
      "Final ROC AUC score for Fold 7: 0.96299\n",
      "\n",
      "##### Training Fold 8 of 10 #####\n",
      "\n",
      "(Max epochs: 500)\n",
      "[Epoch 1] Training Loss: 0.00022, Validation AUC Score: 0.95607\n",
      "[Epoch 26] Training Loss: 0.00015, Validation AUC Score: 0.96423\n",
      "[Epoch 51] Training Loss: 0.00014, Validation AUC Score: 0.96202\n",
      "Stopping early - 50 epochs passed without improvement in best validation ROC AUC score.\n",
      "Final ROC AUC score for Fold 8: 0.96439\n",
      "\n",
      "##### Training Fold 9 of 10 #####\n",
      "\n",
      "(Max epochs: 500)\n",
      "[Epoch 1] Training Loss: 0.00022, Validation AUC Score: 0.95765\n",
      "[Epoch 26] Training Loss: 0.00015, Validation AUC Score: 0.96437\n",
      "[Epoch 51] Training Loss: 0.00014, Validation AUC Score: 0.96138\n",
      "[Epoch 76] Training Loss: 0.00012, Validation AUC Score: 0.95890\n",
      "Stopping early - 50 epochs passed without improvement in best validation ROC AUC score.\n",
      "Final ROC AUC score for Fold 9: 0.96437\n",
      "\n",
      "##### Training Fold 10 of 10 #####\n",
      "\n",
      "(Max epochs: 500)\n",
      "[Epoch 1] Training Loss: 0.00022, Validation AUC Score: 0.95606\n",
      "[Epoch 26] Training Loss: 0.00015, Validation AUC Score: 0.96311\n",
      "[Epoch 51] Training Loss: 0.00014, Validation AUC Score: 0.96129\n",
      "Stopping early - 50 epochs passed without improvement in best validation ROC AUC score.\n",
      "Final ROC AUC score for Fold 10: 0.96375\n"
     ]
    }
   ],
   "source": [
    "kfold = StratifiedKFold(n_splits=kfold_num_splits, shuffle=True, random_state=random_seed)\n",
    "kfold_splits = kfold.split(train_data.drop(target_col, axis=1), train_data[target_col])\n",
    "kfold_splits_enumeration = enumerate(kfold_splits)\n",
    "\n",
    "oof_predictions = np.zeros(len(train_data))\n",
    "test_predictions = np.zeros(len(test_data))\n",
    "\n",
    "# will be used later for getting values for 'num_embeddings'\n",
    "train_test_combined = pd.concat([train_data.drop(target_col, axis=1), test_data], axis=0)\n",
    "\n",
    "for fold, (train_indices, validation_indices) in kfold_splits_enumeration:\n",
    "    print(f\"\\n##### Training Fold {fold + 1} of {kfold_num_splits} #####\\n\")\n",
    "\n",
    "    # get data loaders for training, validation and test data\n",
    "    train_loader, validation_loader, test_loader = get_data_loaders(train_indices, validation_indices)\n",
    "\n",
    "    # will be used later for ROC AUC score calculation\n",
    "    y_validation_fold = train_data[target_col].iloc[validation_indices]\n",
    "\n",
    "    # PyTorch model\n",
    "    model = BankModel(\n",
    "        len(numeric_col_names),\n",
    "        train_test_combined[categorical_col_names].nunique(), # `num_embeddings` Embedding parameter\n",
    "        32 # `embedding_dim` Embedding parameter\n",
    "    ).to(device)\n",
    "\n",
    "    optimizer = torch.optim.Adam(model.parameters(), lr=0.001)\n",
    "    criterion = nn.BCEWithLogitsLoss()\n",
    "    scheduler = torch.optim.lr_scheduler.CosineAnnealingLR(optimizer, T_max=max_epochs)\n",
    "\n",
    "    best_validation_auc_score = 0\n",
    "    early_stopping_counter = 0\n",
    "\n",
    "    print(f\"(Max epochs: {max_epochs})\")\n",
    "\n",
    "    for epoch in range(max_epochs):\n",
    "        model.train()\n",
    "        loss_train = 0\n",
    "        for numeric_data, categorical_data, labels in train_loader:\n",
    "            optimizer.zero_grad()\n",
    "            outputs = get_outputs(model, numeric_data, categorical_data)\n",
    "            loss = criterion(outputs, labels.to(device))\n",
    "            loss.backward()\n",
    "            optimizer.step()\n",
    "            loss_train += loss.item()\n",
    "\n",
    "        scheduler.step()\n",
    "\n",
    "        # validation\n",
    "        model.eval()\n",
    "        validation_predictions = get_predictions(model, numeric_data, categorical_data, validation_loader, False)\n",
    "        current_validation_auc_score = roc_auc_score(y_validation_fold, validation_predictions)\n",
    "        if epoch % 25 == 0:\n",
    "            print(f\"[Epoch {epoch + 1}] Training Loss: {loss_train / len(train_indices):.5f}, Validation AUC Score: {current_validation_auc_score:.5f}\")\n",
    "\n",
    "        if current_validation_auc_score > best_validation_auc_score:\n",
    "            best_validation_auc_score = current_validation_auc_score\n",
    "            early_stopping_counter = 0\n",
    "            torch.save(model.state_dict(), 'model.pth')\n",
    "        else:\n",
    "            early_stopping_counter += 1\n",
    "            if early_stopping_counter >= patience:\n",
    "                print(f\"Stopping early - {patience} epochs passed without improvement in best validation ROC AUC score.\")\n",
    "                break\n",
    "\n",
    "    model.load_state_dict(torch.load('model.pth'))\n",
    "\n",
    "    model.eval()\n",
    "    validation_predictions = get_predictions(model, numeric_data, categorical_data, validation_loader, False)\n",
    "\n",
    "    oof_predictions[validation_indices] = np.array(validation_predictions)\n",
    "    final_fold_roc_auc_score = roc_auc_score(y_validation_fold, oof_predictions[validation_indices])\n",
    "    print(f\"Final ROC AUC score for Fold {fold + 1}: {final_fold_roc_auc_score:.5f}\")\n",
    "\n",
    "    # Make predictions on test data\n",
    "    test_predictions_fold = get_predictions(model, numeric_data, categorical_data, test_loader, True)\n",
    "    test_predictions += np.array(test_predictions_fold) / kfold_num_splits"
   ]
  },
  {
   "cell_type": "code",
   "execution_count": 16,
   "id": "c438666e",
   "metadata": {
    "execution": {
     "iopub.execute_input": "2025-08-28T15:16:59.103712Z",
     "iopub.status.busy": "2025-08-28T15:16:59.103375Z",
     "iopub.status.idle": "2025-08-28T15:16:59.502239Z",
     "shell.execute_reply": "2025-08-28T15:16:59.501433Z"
    },
    "papermill": {
     "duration": 0.408018,
     "end_time": "2025-08-28T15:16:59.503492",
     "exception": false,
     "start_time": "2025-08-28T15:16:59.095474",
     "status": "completed"
    },
    "tags": []
   },
   "outputs": [
    {
     "name": "stdout",
     "output_type": "stream",
     "text": [
      "10-Fold Cross Validation ROC AUC: 0.96375\n"
     ]
    }
   ],
   "source": [
    "# calculate the ROC AUC score for all Out-Of-Fold predictions\n",
    "oof_roc_auc_score = roc_auc_score(train_data[target_col], oof_predictions)\n",
    "print(f\"{kfold_num_splits}-Fold Cross Validation ROC AUC: {oof_roc_auc_score:.5f}\")"
   ]
  },
  {
   "cell_type": "markdown",
   "id": "97937508",
   "metadata": {
    "papermill": {
     "duration": 0.006793,
     "end_time": "2025-08-28T15:16:59.517281",
     "exception": false,
     "start_time": "2025-08-28T15:16:59.510488",
     "status": "completed"
    },
    "tags": []
   },
   "source": [
    "# 7. Submission"
   ]
  },
  {
   "cell_type": "code",
   "execution_count": 17,
   "id": "5035bc0c",
   "metadata": {
    "execution": {
     "iopub.execute_input": "2025-08-28T15:16:59.532289Z",
     "iopub.status.busy": "2025-08-28T15:16:59.532007Z",
     "iopub.status.idle": "2025-08-28T15:17:00.059612Z",
     "shell.execute_reply": "2025-08-28T15:17:00.058881Z"
    },
    "papermill": {
     "duration": 0.53647,
     "end_time": "2025-08-28T15:17:00.060837",
     "exception": false,
     "start_time": "2025-08-28T15:16:59.524367",
     "status": "completed"
    },
    "tags": []
   },
   "outputs": [
    {
     "name": "stdout",
     "output_type": "stream",
     "text": [
      "Submission file prepared.\n"
     ]
    }
   ],
   "source": [
    "# Prepare submission\n",
    "submission = pd.DataFrame({'id': test_data.index, 'y': test_predictions})\n",
    "submission.to_csv('submission.csv', index=False)\n",
    "print('Submission file prepared.')"
   ]
  }
 ],
 "metadata": {
  "kaggle": {
   "accelerator": "gpu",
   "dataSources": [
    {
     "databundleVersionId": 12937777,
     "sourceId": 91719,
     "sourceType": "competition"
    }
   ],
   "dockerImageVersionId": 31089,
   "isGpuEnabled": true,
   "isInternetEnabled": true,
   "language": "python",
   "sourceType": "notebook"
  },
  "kernelspec": {
   "display_name": "Python 3",
   "language": "python",
   "name": "python3"
  },
  "language_info": {
   "codemirror_mode": {
    "name": "ipython",
    "version": 3
   },
   "file_extension": ".py",
   "mimetype": "text/x-python",
   "name": "python",
   "nbconvert_exporter": "python",
   "pygments_lexer": "ipython3",
   "version": "3.11.13"
  },
  "papermill": {
   "default_parameters": {},
   "duration": 6004.21273,
   "end_time": "2025-08-28T15:17:03.389769",
   "environment_variables": {},
   "exception": null,
   "input_path": "__notebook__.ipynb",
   "output_path": "__notebook__.ipynb",
   "parameters": {},
   "start_time": "2025-08-28T13:36:59.177039",
   "version": "2.6.0"
  }
 },
 "nbformat": 4,
 "nbformat_minor": 5
}
