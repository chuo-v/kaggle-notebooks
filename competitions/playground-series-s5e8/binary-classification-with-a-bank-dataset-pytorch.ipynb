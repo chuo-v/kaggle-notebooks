{
 "cells": [
  {
   "cell_type": "markdown",
   "id": "51d2e325",
   "metadata": {
    "papermill": {
     "duration": 0.004898,
     "end_time": "2025-08-27T05:43:40.605359",
     "exception": false,
     "start_time": "2025-08-27T05:43:40.600461",
     "status": "completed"
    },
    "tags": []
   },
   "source": [
    "# 1. Overview\n",
    "\n",
    "This is a notebook for training a neural network to submit predictions to the \"Binary Classification with a Bank Dataset\" Kaggle competition ([playground-series-s5e8](https://www.kaggle.com/competitions/playground-series-s5e8)).\n",
    "\n",
    "Synthetic data is used for this playground competition, and the objective is to, for each client (with a corresponding `id`) in the test set, predict the probability that the client will subscribe to a bank term deposit. Note that while the target represented by `y` is binary (i.e. the client either subscribes or does not subscribe), the predictions are about probabilities, and so their values lie between 0 and 1."
   ]
  },
  {
   "cell_type": "markdown",
   "id": "17ebecdc",
   "metadata": {
    "papermill": {
     "duration": 0.003575,
     "end_time": "2025-08-27T05:43:40.613171",
     "exception": false,
     "start_time": "2025-08-27T05:43:40.609596",
     "status": "completed"
    },
    "tags": []
   },
   "source": [
    "# 2. Setup\n",
    "\n",
    "Let's first do some initial setup to import what we'll need."
   ]
  },
  {
   "cell_type": "code",
   "execution_count": 1,
   "id": "f4623e2b",
   "metadata": {
    "execution": {
     "iopub.execute_input": "2025-08-27T05:43:40.622606Z",
     "iopub.status.busy": "2025-08-27T05:43:40.622230Z",
     "iopub.status.idle": "2025-08-27T05:43:58.437412Z",
     "shell.execute_reply": "2025-08-27T05:43:58.436487Z"
    },
    "papermill": {
     "duration": 17.82221,
     "end_time": "2025-08-27T05:43:58.439485",
     "exception": false,
     "start_time": "2025-08-27T05:43:40.617275",
     "status": "completed"
    },
    "tags": []
   },
   "outputs": [],
   "source": [
    "import numpy as np\n",
    "import pandas as pd\n",
    "from sklearn.metrics import roc_auc_score\n",
    "from sklearn.model_selection import StratifiedKFold\n",
    "from sklearn.preprocessing import LabelEncoder\n",
    "import torch\n",
    "import torch.nn as nn\n",
    "import torch.optim as optim\n",
    "from torch.utils.data import Dataset, DataLoader\n",
    "from torchvision import transforms, utils"
   ]
  },
  {
   "cell_type": "code",
   "execution_count": 2,
   "id": "2dd196a2",
   "metadata": {
    "execution": {
     "iopub.execute_input": "2025-08-27T05:43:58.451501Z",
     "iopub.status.busy": "2025-08-27T05:43:58.450230Z",
     "iopub.status.idle": "2025-08-27T05:43:58.466388Z",
     "shell.execute_reply": "2025-08-27T05:43:58.465321Z"
    },
    "papermill": {
     "duration": 0.023981,
     "end_time": "2025-08-27T05:43:58.468296",
     "exception": false,
     "start_time": "2025-08-27T05:43:58.444315",
     "status": "completed"
    },
    "tags": []
   },
   "outputs": [],
   "source": [
    "random_seed = 11\n",
    "np.random.seed(random_seed)\n",
    "torch.manual_seed(random_seed)\n",
    "if torch.cuda.is_available():\n",
    "    torch.cuda.manual_seed(random_seed)\n",
    "    torch.cuda.manual_seed_all(random_seed)"
   ]
  },
  {
   "cell_type": "code",
   "execution_count": 3,
   "id": "136aff7b",
   "metadata": {
    "execution": {
     "iopub.execute_input": "2025-08-27T05:43:58.477803Z",
     "iopub.status.busy": "2025-08-27T05:43:58.477492Z",
     "iopub.status.idle": "2025-08-27T05:43:58.484186Z",
     "shell.execute_reply": "2025-08-27T05:43:58.483332Z"
    },
    "papermill": {
     "duration": 0.013401,
     "end_time": "2025-08-27T05:43:58.485819",
     "exception": false,
     "start_time": "2025-08-27T05:43:58.472418",
     "status": "completed"
    },
    "tags": []
   },
   "outputs": [
    {
     "data": {
      "text/plain": [
       "'cpu'"
      ]
     },
     "execution_count": 3,
     "metadata": {},
     "output_type": "execute_result"
    }
   ],
   "source": [
    "device = 'cuda' if torch.cuda.is_available() else 'cpu'\n",
    "device"
   ]
  },
  {
   "cell_type": "code",
   "execution_count": 4,
   "id": "eff91390",
   "metadata": {
    "execution": {
     "iopub.execute_input": "2025-08-27T05:43:58.495668Z",
     "iopub.status.busy": "2025-08-27T05:43:58.495334Z",
     "iopub.status.idle": "2025-08-27T05:44:04.333040Z",
     "shell.execute_reply": "2025-08-27T05:44:04.330835Z"
    },
    "papermill": {
     "duration": 5.8469,
     "end_time": "2025-08-27T05:44:04.337179",
     "exception": false,
     "start_time": "2025-08-27T05:43:58.490279",
     "status": "completed"
    },
    "tags": []
   },
   "outputs": [],
   "source": [
    "# Read data files\n",
    "input_filepath = '/kaggle/input'\n",
    "train_data = pd.read_csv(input_filepath + '/playground-series-s5e8/train.csv')\n",
    "test_data = pd.read_csv(input_filepath + '/playground-series-s5e8/test.csv')\n",
    "\n",
    "# Set index\n",
    "train_data.set_index('id', inplace=True)\n",
    "test_data.set_index('id', inplace=True)\n",
    "\n",
    "# Get numeric and categorical columns from training data (which should be the same for test data)\n",
    "numeric_col_names = train_data.select_dtypes(include='number').columns.to_series()\n",
    "categorical_col_names = train_data.select_dtypes(include='object').columns.to_series()\n",
    "assert numeric_col_names.size + categorical_col_names.size == train_data.shape[1]\n",
    "\n",
    "# Set target column\n",
    "target_col='y'\n",
    "# Drop 'y' column from numeric column names\n",
    "numeric_col_names.drop(target_col, inplace=True)\n",
    "\n",
    "# Combined dataframe that will be used later\n",
    "train_test_combined = pd.concat([train_data.drop(target_col, axis=1), test_data], axis=0)"
   ]
  },
  {
   "cell_type": "markdown",
   "id": "cec0f15f",
   "metadata": {
    "papermill": {
     "duration": 0.011864,
     "end_time": "2025-08-27T05:44:04.358891",
     "exception": false,
     "start_time": "2025-08-27T05:44:04.347027",
     "status": "completed"
    },
    "tags": []
   },
   "source": [
    "# 3. Data Preprocessing"
   ]
  },
  {
   "cell_type": "code",
   "execution_count": 5,
   "id": "3bdac260",
   "metadata": {
    "execution": {
     "iopub.execute_input": "2025-08-27T05:44:04.392517Z",
     "iopub.status.busy": "2025-08-27T05:44:04.390720Z",
     "iopub.status.idle": "2025-08-27T05:44:06.151567Z",
     "shell.execute_reply": "2025-08-27T05:44:06.150645Z"
    },
    "papermill": {
     "duration": 1.783459,
     "end_time": "2025-08-27T05:44:06.153347",
     "exception": false,
     "start_time": "2025-08-27T05:44:04.369888",
     "status": "completed"
    },
    "tags": []
   },
   "outputs": [],
   "source": [
    "# encode categorical features\n",
    "for col in categorical_col_names:\n",
    "    le = LabelEncoder()\n",
    "    train_data[col] = le.fit_transform(train_data[col].astype(str))\n",
    "    test_data[col] = le.fit_transform(test_data[col].astype(str))"
   ]
  },
  {
   "cell_type": "markdown",
   "id": "6f520f18",
   "metadata": {
    "papermill": {
     "duration": 0.003727,
     "end_time": "2025-08-27T05:44:06.163762",
     "exception": false,
     "start_time": "2025-08-27T05:44:06.160035",
     "status": "completed"
    },
    "tags": []
   },
   "source": [
    "# 4. Model"
   ]
  },
  {
   "cell_type": "code",
   "execution_count": 6,
   "id": "d0133ab9",
   "metadata": {
    "execution": {
     "iopub.execute_input": "2025-08-27T05:44:06.173088Z",
     "iopub.status.busy": "2025-08-27T05:44:06.172724Z",
     "iopub.status.idle": "2025-08-27T05:44:06.182915Z",
     "shell.execute_reply": "2025-08-27T05:44:06.181893Z"
    },
    "papermill": {
     "duration": 0.016872,
     "end_time": "2025-08-27T05:44:06.184460",
     "exception": false,
     "start_time": "2025-08-27T05:44:06.167588",
     "status": "completed"
    },
    "tags": []
   },
   "outputs": [],
   "source": [
    "class BankModel(nn.Module):\n",
    "    def __init__(self, num_numeric_features, num_embeddings_list, embeddings_dim):\n",
    "        super().__init__()\n",
    "\n",
    "        # embedding layers for categorical features\n",
    "        self.categorical_embeddings = nn.ModuleList([\n",
    "            nn.Embedding(num_embeddings, embeddings_dim) for num_embeddings in num_embeddings_list\n",
    "        ])\n",
    "\n",
    "        # layer for projecting numeric features on to the embedding space\n",
    "        self.numeric_projection = nn.Linear(num_numeric_features, embeddings_dim)\n",
    "\n",
    "        # total number of features\n",
    "        num_total_features = 1 + len(num_embeddings_list) # num(numeric features) + num(categorical features)\n",
    "        input_size = num_total_features * embeddings_dim\n",
    "\n",
    "        # final layers\n",
    "        self.layers = nn.ModuleList()\n",
    "        for _ in range(5):\n",
    "            self.layers.append(nn.Linear(input_size, 320))\n",
    "            self.layers.append(nn.ReLU())\n",
    "            self.layers.append(nn.BatchNorm1d(320))\n",
    "            self.layers.append(nn.Dropout(0.1))\n",
    "\n",
    "        # final output layer\n",
    "        self.output_layer = nn.Linear(input_size, 1)\n",
    "\n",
    "    def forward(self, numeric_inputs, categorical_inputs):\n",
    "        numeric_embeddings = self.numeric_projection(numeric_inputs)\n",
    "        numeric_embeddings = numeric_embeddings.unsqueeze(1)\n",
    "\n",
    "        num_categorical_features = len(categorical_inputs)\n",
    "        categorical_embeddings = [self.categorical_embeddings[i](categorical_inputs[i].unsqueeze(-1)) for i in range(num_categorical_features)]\n",
    "\n",
    "        all_features = torch.cat([numeric_embeddings] + categorical_embeddings, dim=1)\n",
    "        x = all_features\n",
    "        x = x.view(x.size(0), -1)\n",
    "\n",
    "        for layer in self.layers:\n",
    "            x = layer(x)\n",
    "\n",
    "        return self.output_layer(x)\n"
   ]
  },
  {
   "cell_type": "markdown",
   "id": "e4368087",
   "metadata": {
    "papermill": {
     "duration": 0.003915,
     "end_time": "2025-08-27T05:44:06.192799",
     "exception": false,
     "start_time": "2025-08-27T05:44:06.188884",
     "status": "completed"
    },
    "tags": []
   },
   "source": [
    "# 5. Helper Classes/Functions"
   ]
  },
  {
   "cell_type": "code",
   "execution_count": 7,
   "id": "dce8b583",
   "metadata": {
    "execution": {
     "iopub.execute_input": "2025-08-27T05:44:06.202735Z",
     "iopub.status.busy": "2025-08-27T05:44:06.202359Z",
     "iopub.status.idle": "2025-08-27T05:44:06.209042Z",
     "shell.execute_reply": "2025-08-27T05:44:06.207995Z"
    },
    "papermill": {
     "duration": 0.013627,
     "end_time": "2025-08-27T05:44:06.210706",
     "exception": false,
     "start_time": "2025-08-27T05:44:06.197079",
     "status": "completed"
    },
    "tags": []
   },
   "outputs": [],
   "source": [
    "class TabularDataset(Dataset):\n",
    "    def __init__(self, numeric_data, categorical_data, target_col=None):\n",
    "        self.numeric_data = torch.from_numpy(numeric_data).float()\n",
    "        self.categorical_data = torch.from_numpy(categorical_data).long()\n",
    "        self.target_col = torch.from_numpy(target_col).float() if target_col is not None else None\n",
    "\n",
    "    def __len__(self):\n",
    "        return len(self.numeric_data)\n",
    "    \n",
    "    def __getitem__(self, idx):\n",
    "        numeric_tensors = self.numeric_data[idx]\n",
    "        categorical_tensors = self.categorical_data[idx]\n",
    "        if self.target_col is not None:\n",
    "            return numeric_tensors, categorical_tensors, self.target_col[idx]\n",
    "        return numeric_tensors, categorical_tensors"
   ]
  },
  {
   "cell_type": "code",
   "execution_count": 8,
   "id": "502d4a45",
   "metadata": {
    "execution": {
     "iopub.execute_input": "2025-08-27T05:44:06.220610Z",
     "iopub.status.busy": "2025-08-27T05:44:06.220183Z",
     "iopub.status.idle": "2025-08-27T05:44:06.227417Z",
     "shell.execute_reply": "2025-08-27T05:44:06.226324Z"
    },
    "papermill": {
     "duration": 0.014103,
     "end_time": "2025-08-27T05:44:06.229138",
     "exception": false,
     "start_time": "2025-08-27T05:44:06.215035",
     "status": "completed"
    },
    "tags": []
   },
   "outputs": [],
   "source": [
    "def get_data_loaders(train_indices, validation_indices):\n",
    "    X_train_fold_numerical = train_data[numeric_col_names].iloc[train_indices]\n",
    "    X_train_fold_categorical = train_data[categorical_col_names].iloc[train_indices]\n",
    "    y_train_fold = train_data[target_col].iloc[train_indices]\n",
    "\n",
    "    X_validation_fold_numerical = train_data[numeric_col_names].iloc[validation_indices]\n",
    "    X_validation_fold_categorical = train_data[categorical_col_names].iloc[validation_indices]\n",
    "    y_validation_fold = train_data[target_col].iloc[validation_indices]\n",
    "\n",
    "    train_dataset = TabularDataset(\n",
    "        X_train_fold_numerical.values,\n",
    "        X_train_fold_categorical.values,\n",
    "        y_train_fold.values\n",
    "    )\n",
    "    validation_dataset = TabularDataset(\n",
    "        X_validation_fold_numerical.values,\n",
    "        X_validation_fold_categorical.values,\n",
    "        y_validation_fold.values\n",
    "    )\n",
    "    test_dataset = TabularDataset(\n",
    "        test_data[numeric_col_names].values,\n",
    "        test_data[categorical_col_names].values\n",
    "    )\n",
    "\n",
    "    train_loader = DataLoader(train_dataset, batch_size=batch_size, shuffle=True, num_workers=2)\n",
    "    validation_loader = DataLoader(validation_dataset, batch_size=batch_size)\n",
    "    test_loader = DataLoader(test_dataset, batch_size=batch_size)\n",
    "\n",
    "    return train_loader, validation_loader, test_loader"
   ]
  },
  {
   "cell_type": "code",
   "execution_count": 9,
   "id": "16957db3",
   "metadata": {
    "execution": {
     "iopub.execute_input": "2025-08-27T05:44:06.238750Z",
     "iopub.status.busy": "2025-08-27T05:44:06.238394Z",
     "iopub.status.idle": "2025-08-27T05:44:06.243501Z",
     "shell.execute_reply": "2025-08-27T05:44:06.242496Z"
    },
    "papermill": {
     "duration": 0.011835,
     "end_time": "2025-08-27T05:44:06.245182",
     "exception": false,
     "start_time": "2025-08-27T05:44:06.233347",
     "status": "completed"
    },
    "tags": []
   },
   "outputs": [],
   "source": [
    "def get_outputs(model, numeric_data, categorical_data):\n",
    "    numeric_data = numeric_data.to(device)\n",
    "    categorical_data = categorical_data.transpose(1,0).to(device)\n",
    "    return model(numeric_data, categorical_data).squeeze()"
   ]
  },
  {
   "cell_type": "code",
   "execution_count": 10,
   "id": "12036df4",
   "metadata": {
    "execution": {
     "iopub.execute_input": "2025-08-27T05:44:06.254944Z",
     "iopub.status.busy": "2025-08-27T05:44:06.254616Z",
     "iopub.status.idle": "2025-08-27T05:44:06.260644Z",
     "shell.execute_reply": "2025-08-27T05:44:06.259790Z"
    },
    "papermill": {
     "duration": 0.01264,
     "end_time": "2025-08-27T05:44:06.262069",
     "exception": false,
     "start_time": "2025-08-27T05:44:06.249429",
     "status": "completed"
    },
    "tags": []
   },
   "outputs": [],
   "source": [
    "def get_predictions(model, numeric_data, categorical_data, data_loader, is_test_data):\n",
    "    predictions = []\n",
    "\n",
    "    with torch.no_grad():\n",
    "        if is_test_data:\n",
    "            for numeric_data, categorical_data in data_loader:\n",
    "                outputs = get_outputs(model, numeric_data, categorical_data)\n",
    "                predictions.extend(torch.sigmoid(outputs).cpu().numpy())\n",
    "        else:\n",
    "            for numeric_data, categorical_data, _ in data_loader:\n",
    "                outputs = get_outputs(model, numeric_data, categorical_data)\n",
    "                predictions.extend(torch.sigmoid(outputs).cpu().numpy())\n",
    "\n",
    "    return predictions"
   ]
  },
  {
   "cell_type": "markdown",
   "id": "6fc74b28",
   "metadata": {
    "papermill": {
     "duration": 0.003727,
     "end_time": "2025-08-27T05:44:06.270118",
     "exception": false,
     "start_time": "2025-08-27T05:44:06.266391",
     "status": "completed"
    },
    "tags": []
   },
   "source": [
    "# 6. Stratified K-Fold"
   ]
  },
  {
   "cell_type": "code",
   "execution_count": 11,
   "id": "419085f9",
   "metadata": {
    "execution": {
     "iopub.execute_input": "2025-08-27T05:44:06.279270Z",
     "iopub.status.busy": "2025-08-27T05:44:06.278877Z",
     "iopub.status.idle": "2025-08-27T05:44:06.283929Z",
     "shell.execute_reply": "2025-08-27T05:44:06.283090Z"
    },
    "papermill": {
     "duration": 0.011484,
     "end_time": "2025-08-27T05:44:06.285436",
     "exception": false,
     "start_time": "2025-08-27T05:44:06.273952",
     "status": "completed"
    },
    "tags": []
   },
   "outputs": [],
   "source": [
    "kfold_num_splits = 10\n",
    "batch_size = 1024\n",
    "max_epochs = 1000\n",
    "patience = 50"
   ]
  },
  {
   "cell_type": "code",
   "execution_count": 12,
   "id": "9292a0dd",
   "metadata": {
    "execution": {
     "iopub.execute_input": "2025-08-27T05:44:06.295824Z",
     "iopub.status.busy": "2025-08-27T05:44:06.294631Z",
     "iopub.status.idle": "2025-08-27T16:16:31.131729Z",
     "shell.execute_reply": "2025-08-27T16:16:31.130284Z"
    },
    "papermill": {
     "duration": 37944.844453,
     "end_time": "2025-08-27T16:16:31.134033",
     "exception": false,
     "start_time": "2025-08-27T05:44:06.289580",
     "status": "completed"
    },
    "tags": []
   },
   "outputs": [
    {
     "name": "stdout",
     "output_type": "stream",
     "text": [
      "\n",
      "##### Training Fold 1 of 10 #####\n",
      "\n",
      "(Max epochs: 1000)\n",
      "[Epoch 1] Training Loss: 0.00023, Validation AUC Score: 0.95203\n",
      "[Epoch 26] Training Loss: 0.00015, Validation AUC Score: 0.96303\n",
      "[Epoch 51] Training Loss: 0.00015, Validation AUC Score: 0.96287\n",
      "[Epoch 76] Training Loss: 0.00014, Validation AUC Score: 0.96193\n",
      "Stopping early - 50 epochs passed without improvement in best validation ROC AUC score.\n",
      "Final ROC AUC score for Fold 1: 0.96368\n",
      "\n",
      "##### Training Fold 2 of 10 #####\n",
      "\n",
      "(Max epochs: 1000)\n",
      "[Epoch 1] Training Loss: 0.00023, Validation AUC Score: 0.95012\n",
      "[Epoch 26] Training Loss: 0.00015, Validation AUC Score: 0.95923\n",
      "[Epoch 51] Training Loss: 0.00014, Validation AUC Score: 0.96250\n",
      "[Epoch 76] Training Loss: 0.00014, Validation AUC Score: 0.96178\n",
      "Stopping early - 50 epochs passed without improvement in best validation ROC AUC score.\n",
      "Final ROC AUC score for Fold 2: 0.96384\n",
      "\n",
      "##### Training Fold 3 of 10 #####\n",
      "\n",
      "(Max epochs: 1000)\n",
      "[Epoch 1] Training Loss: 0.00023, Validation AUC Score: 0.94534\n",
      "[Epoch 26] Training Loss: 0.00015, Validation AUC Score: 0.96222\n",
      "[Epoch 51] Training Loss: 0.00014, Validation AUC Score: 0.96234\n",
      "[Epoch 76] Training Loss: 0.00014, Validation AUC Score: 0.96172\n",
      "[Epoch 101] Training Loss: 0.00014, Validation AUC Score: 0.96078\n",
      "Stopping early - 50 epochs passed without improvement in best validation ROC AUC score.\n",
      "Final ROC AUC score for Fold 3: 0.96313\n",
      "\n",
      "##### Training Fold 4 of 10 #####\n",
      "\n",
      "(Max epochs: 1000)\n",
      "[Epoch 1] Training Loss: 0.00023, Validation AUC Score: 0.94731\n",
      "[Epoch 26] Training Loss: 0.00015, Validation AUC Score: 0.96269\n",
      "[Epoch 51] Training Loss: 0.00015, Validation AUC Score: 0.96353\n",
      "[Epoch 76] Training Loss: 0.00014, Validation AUC Score: 0.96116\n",
      "Stopping early - 50 epochs passed without improvement in best validation ROC AUC score.\n",
      "Final ROC AUC score for Fold 4: 0.96429\n",
      "\n",
      "##### Training Fold 5 of 10 #####\n",
      "\n",
      "(Max epochs: 1000)\n",
      "[Epoch 1] Training Loss: 0.00023, Validation AUC Score: 0.95031\n",
      "[Epoch 26] Training Loss: 0.00015, Validation AUC Score: 0.96237\n",
      "[Epoch 51] Training Loss: 0.00014, Validation AUC Score: 0.96259\n",
      "[Epoch 76] Training Loss: 0.00014, Validation AUC Score: 0.96125\n",
      "Stopping early - 50 epochs passed without improvement in best validation ROC AUC score.\n",
      "Final ROC AUC score for Fold 5: 0.96317\n",
      "\n",
      "##### Training Fold 6 of 10 #####\n",
      "\n",
      "(Max epochs: 1000)\n",
      "[Epoch 1] Training Loss: 0.00023, Validation AUC Score: 0.94639\n",
      "[Epoch 26] Training Loss: 0.00015, Validation AUC Score: 0.96252\n",
      "[Epoch 51] Training Loss: 0.00015, Validation AUC Score: 0.96320\n",
      "[Epoch 76] Training Loss: 0.00014, Validation AUC Score: 0.96103\n",
      "[Epoch 101] Training Loss: 0.00014, Validation AUC Score: 0.96072\n",
      "Stopping early - 50 epochs passed without improvement in best validation ROC AUC score.\n",
      "Final ROC AUC score for Fold 6: 0.96320\n",
      "\n",
      "##### Training Fold 7 of 10 #####\n",
      "\n",
      "(Max epochs: 1000)\n",
      "[Epoch 1] Training Loss: 0.00023, Validation AUC Score: 0.94923\n",
      "[Epoch 26] Training Loss: 0.00015, Validation AUC Score: 0.96175\n",
      "[Epoch 51] Training Loss: 0.00014, Validation AUC Score: 0.96282\n",
      "[Epoch 76] Training Loss: 0.00014, Validation AUC Score: 0.96120\n",
      "Stopping early - 50 epochs passed without improvement in best validation ROC AUC score.\n",
      "Final ROC AUC score for Fold 7: 0.96284\n",
      "\n",
      "##### Training Fold 8 of 10 #####\n",
      "\n",
      "(Max epochs: 1000)\n",
      "[Epoch 1] Training Loss: 0.00023, Validation AUC Score: 0.94702\n",
      "[Epoch 26] Training Loss: 0.00015, Validation AUC Score: 0.96216\n",
      "[Epoch 51] Training Loss: 0.00015, Validation AUC Score: 0.96362\n",
      "[Epoch 76] Training Loss: 0.00014, Validation AUC Score: 0.96306\n",
      "Stopping early - 50 epochs passed without improvement in best validation ROC AUC score.\n",
      "Final ROC AUC score for Fold 8: 0.96396\n",
      "\n",
      "##### Training Fold 9 of 10 #####\n",
      "\n",
      "(Max epochs: 1000)\n",
      "[Epoch 1] Training Loss: 0.00023, Validation AUC Score: 0.94850\n",
      "[Epoch 26] Training Loss: 0.00015, Validation AUC Score: 0.96316\n",
      "[Epoch 51] Training Loss: 0.00015, Validation AUC Score: 0.96404\n",
      "[Epoch 76] Training Loss: 0.00014, Validation AUC Score: 0.96278\n",
      "Stopping early - 50 epochs passed without improvement in best validation ROC AUC score.\n",
      "Final ROC AUC score for Fold 9: 0.96469\n",
      "\n",
      "##### Training Fold 10 of 10 #####\n",
      "\n",
      "(Max epochs: 1000)\n",
      "[Epoch 1] Training Loss: 0.00023, Validation AUC Score: 0.94767\n",
      "[Epoch 26] Training Loss: 0.00015, Validation AUC Score: 0.96212\n",
      "[Epoch 51] Training Loss: 0.00014, Validation AUC Score: 0.96205\n",
      "[Epoch 76] Training Loss: 0.00014, Validation AUC Score: 0.96169\n",
      "Stopping early - 50 epochs passed without improvement in best validation ROC AUC score.\n",
      "Final ROC AUC score for Fold 10: 0.96377\n"
     ]
    }
   ],
   "source": [
    "kfold = StratifiedKFold(n_splits=kfold_num_splits, shuffle=True, random_state=random_seed)\n",
    "kfold_splits = kfold.split(train_data.drop(target_col, axis=1), train_data[target_col])\n",
    "kfold_splits_enumeration = enumerate(kfold_splits)\n",
    "\n",
    "oof_predictions = np.zeros(len(train_data))\n",
    "test_predictions = np.zeros(len(test_data))\n",
    "\n",
    "for fold, (train_indices, validation_indices) in kfold_splits_enumeration:\n",
    "    print(f\"\\n##### Training Fold {fold + 1} of {kfold_num_splits} #####\\n\")\n",
    "\n",
    "    # get data loaders for training, validation and test data\n",
    "    train_loader, validation_loader, test_loader = get_data_loaders(train_indices, validation_indices)\n",
    "\n",
    "    # will be used later for ROC AUC score calculation\n",
    "    y_validation_fold = train_data[target_col].iloc[validation_indices]\n",
    "\n",
    "    # PyTorch model\n",
    "    model = BankModel(\n",
    "        len(numeric_col_names),\n",
    "        train_test_combined[categorical_col_names].nunique(), # `num_embeddings` Embedding parameter\n",
    "        32 # `embedding_dim` Embedding parameter\n",
    "    ).to(device)\n",
    "\n",
    "    optimizer = torch.optim.Adam(model.parameters(), lr=0.001)\n",
    "    criterion = nn.BCEWithLogitsLoss()\n",
    "    scheduler = torch.optim.lr_scheduler.CosineAnnealingLR(optimizer, T_max=max_epochs)\n",
    "\n",
    "    best_validation_auc_score = 0\n",
    "    early_stopping_counter = 0\n",
    "\n",
    "    print(f\"(Max epochs: {max_epochs})\")\n",
    "\n",
    "    for epoch in range(max_epochs):\n",
    "        model.train()\n",
    "        loss_train = 0\n",
    "        for numeric_data, categorical_data, labels in train_loader:\n",
    "            optimizer.zero_grad()\n",
    "            outputs = get_outputs(model, numeric_data, categorical_data)\n",
    "            loss = criterion(outputs, labels.to(device))\n",
    "            loss.backward()\n",
    "            optimizer.step()\n",
    "            loss_train += loss.item()\n",
    "\n",
    "        scheduler.step()\n",
    "\n",
    "        # validation\n",
    "        model.eval()\n",
    "        validation_predictions = get_predictions(model, numeric_data, categorical_data, validation_loader, False)\n",
    "        current_validation_auc_score = roc_auc_score(y_validation_fold, validation_predictions)\n",
    "        if epoch % 25 == 0:\n",
    "            print(f\"[Epoch {epoch + 1}] Training Loss: {loss_train / len(train_indices):.5f}, Validation AUC Score: {current_validation_auc_score:.5f}\")\n",
    "\n",
    "        if current_validation_auc_score > best_validation_auc_score:\n",
    "            best_validation_auc_score = current_validation_auc_score\n",
    "            early_stopping_counter = 0\n",
    "            torch.save(model.state_dict(), 'model.pth')\n",
    "        else:\n",
    "            early_stopping_counter += 1\n",
    "            if early_stopping_counter >= patience:\n",
    "                print(f\"Stopping early - {patience} epochs passed without improvement in best validation ROC AUC score.\")\n",
    "                break\n",
    "\n",
    "    model.load_state_dict(torch.load('model.pth'))\n",
    "\n",
    "    model.eval()\n",
    "    validation_predictions = get_predictions(model, numeric_data, categorical_data, validation_loader, False)\n",
    "\n",
    "    oof_predictions[validation_indices] = np.array(validation_predictions)\n",
    "    final_fold_roc_auc_score = roc_auc_score(y_validation_fold, oof_predictions[validation_indices])\n",
    "    print(f\"Final ROC AUC score for Fold {fold + 1}: {final_fold_roc_auc_score:.5f}\")\n",
    "\n",
    "    # Make predictions on test data\n",
    "    test_predictions_fold = get_predictions(model, numeric_data, categorical_data, test_loader, True)\n",
    "    test_predictions += np.array(test_predictions_fold) / kfold_num_splits"
   ]
  },
  {
   "cell_type": "code",
   "execution_count": 13,
   "id": "f9342fa0",
   "metadata": {
    "execution": {
     "iopub.execute_input": "2025-08-27T16:16:31.153165Z",
     "iopub.status.busy": "2025-08-27T16:16:31.152211Z",
     "iopub.status.idle": "2025-08-27T16:16:31.519665Z",
     "shell.execute_reply": "2025-08-27T16:16:31.518728Z"
    },
    "papermill": {
     "duration": 0.378949,
     "end_time": "2025-08-27T16:16:31.521194",
     "exception": false,
     "start_time": "2025-08-27T16:16:31.142245",
     "status": "completed"
    },
    "tags": []
   },
   "outputs": [
    {
     "name": "stdout",
     "output_type": "stream",
     "text": [
      "10-Fold Cross Validation ROC AUC: 0.96352\n"
     ]
    }
   ],
   "source": [
    "# calculate the ROC AUC score for all Out-Of-Fold predictions\n",
    "oof_roc_auc_score = roc_auc_score(train_data[target_col], oof_predictions)\n",
    "print(f\"{kfold_num_splits}-Fold Cross Validation ROC AUC: {oof_roc_auc_score:.5f}\")"
   ]
  },
  {
   "cell_type": "markdown",
   "id": "98e0cf1e",
   "metadata": {
    "papermill": {
     "duration": 0.006857,
     "end_time": "2025-08-27T16:16:31.536035",
     "exception": false,
     "start_time": "2025-08-27T16:16:31.529178",
     "status": "completed"
    },
    "tags": []
   },
   "source": [
    "# 7. Submission"
   ]
  },
  {
   "cell_type": "code",
   "execution_count": 14,
   "id": "f0a8969c",
   "metadata": {
    "execution": {
     "iopub.execute_input": "2025-08-27T16:16:31.552091Z",
     "iopub.status.busy": "2025-08-27T16:16:31.551217Z",
     "iopub.status.idle": "2025-08-27T16:16:32.169895Z",
     "shell.execute_reply": "2025-08-27T16:16:32.168791Z"
    },
    "papermill": {
     "duration": 0.628323,
     "end_time": "2025-08-27T16:16:32.171418",
     "exception": false,
     "start_time": "2025-08-27T16:16:31.543095",
     "status": "completed"
    },
    "tags": []
   },
   "outputs": [
    {
     "name": "stdout",
     "output_type": "stream",
     "text": [
      "Submission file prepared.\n"
     ]
    }
   ],
   "source": [
    "# Prepare submission\n",
    "submission = pd.DataFrame({'id': test_data.index, 'y': test_predictions})\n",
    "submission.to_csv('submission.csv', index=False)\n",
    "print('Submission file prepared.')"
   ]
  }
 ],
 "metadata": {
  "kaggle": {
   "accelerator": "none",
   "dataSources": [
    {
     "databundleVersionId": 12937777,
     "sourceId": 91719,
     "sourceType": "competition"
    }
   ],
   "dockerImageVersionId": 31089,
   "isGpuEnabled": false,
   "isInternetEnabled": true,
   "language": "python",
   "sourceType": "notebook"
  },
  "kernelspec": {
   "display_name": "Python 3",
   "language": "python",
   "name": "python3"
  },
  "language_info": {
   "codemirror_mode": {
    "name": "ipython",
    "version": 3
   },
   "file_extension": ".py",
   "mimetype": "text/x-python",
   "name": "python",
   "nbconvert_exporter": "python",
   "pygments_lexer": "ipython3",
   "version": "3.11.13"
  },
  "papermill": {
   "default_parameters": {},
   "duration": 37980.283363,
   "end_time": "2025-08-27T16:16:35.074178",
   "environment_variables": {},
   "exception": null,
   "input_path": "__notebook__.ipynb",
   "output_path": "__notebook__.ipynb",
   "parameters": {},
   "start_time": "2025-08-27T05:43:34.790815",
   "version": "2.6.0"
  }
 },
 "nbformat": 4,
 "nbformat_minor": 5
}
