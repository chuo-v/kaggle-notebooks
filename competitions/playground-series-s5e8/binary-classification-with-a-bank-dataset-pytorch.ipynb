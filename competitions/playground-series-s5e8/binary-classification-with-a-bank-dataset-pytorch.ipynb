{
 "cells": [
  {
   "cell_type": "markdown",
   "id": "634980cb",
   "metadata": {
    "papermill": {
     "duration": 0.00392,
     "end_time": "2025-08-26T17:23:15.674747",
     "exception": false,
     "start_time": "2025-08-26T17:23:15.670827",
     "status": "completed"
    },
    "tags": []
   },
   "source": [
    "# 1. Overview\n",
    "\n",
    "This is a notebook for training a neural network to submit predictions to the \"Binary Classification with a Bank Dataset\" Kaggle competition ([playground-series-s5e8](https://www.kaggle.com/competitions/playground-series-s5e8)).\n",
    "\n",
    "Synthetic data is used for this playground competition, and the objective is to, for each client (with a corresponding `id`) in the test set, predict the probability that the client will subscribe to a bank term deposit. Note that while the target represented by `y` is binary (i.e. the client either subscribes or does not subscribe), the predictions are about probabilities, and so their values lie between 0 and 1."
   ]
  },
  {
   "cell_type": "markdown",
   "id": "b3424faa",
   "metadata": {
    "papermill": {
     "duration": 0.00261,
     "end_time": "2025-08-26T17:23:15.680473",
     "exception": false,
     "start_time": "2025-08-26T17:23:15.677863",
     "status": "completed"
    },
    "tags": []
   },
   "source": [
    "# 2. Setup\n",
    "\n",
    "Let's first do some initial setup to import what we'll need."
   ]
  },
  {
   "cell_type": "code",
   "execution_count": 1,
   "id": "51d1c83d",
   "metadata": {
    "execution": {
     "iopub.execute_input": "2025-08-26T17:23:15.687172Z",
     "iopub.status.busy": "2025-08-26T17:23:15.686857Z",
     "iopub.status.idle": "2025-08-26T17:23:26.971599Z",
     "shell.execute_reply": "2025-08-26T17:23:26.970766Z"
    },
    "papermill": {
     "duration": 11.289686,
     "end_time": "2025-08-26T17:23:26.973014",
     "exception": false,
     "start_time": "2025-08-26T17:23:15.683328",
     "status": "completed"
    },
    "tags": []
   },
   "outputs": [],
   "source": [
    "import numpy as np\n",
    "import pandas as pd\n",
    "from sklearn.metrics import roc_auc_score\n",
    "from sklearn.model_selection import StratifiedKFold\n",
    "from sklearn.preprocessing import LabelEncoder\n",
    "import torch\n",
    "import torch.nn as nn\n",
    "import torch.optim as optim\n",
    "from torch.utils.data import Dataset, DataLoader\n",
    "from torchvision import transforms, utils"
   ]
  },
  {
   "cell_type": "code",
   "execution_count": 2,
   "id": "d944e1c7",
   "metadata": {
    "execution": {
     "iopub.execute_input": "2025-08-26T17:23:26.980043Z",
     "iopub.status.busy": "2025-08-26T17:23:26.979717Z",
     "iopub.status.idle": "2025-08-26T17:23:27.052916Z",
     "shell.execute_reply": "2025-08-26T17:23:27.052391Z"
    },
    "papermill": {
     "duration": 0.078059,
     "end_time": "2025-08-26T17:23:27.054235",
     "exception": false,
     "start_time": "2025-08-26T17:23:26.976176",
     "status": "completed"
    },
    "tags": []
   },
   "outputs": [],
   "source": [
    "random_seed = 11\n",
    "np.random.seed(random_seed)\n",
    "torch.manual_seed(random_seed)\n",
    "if torch.cuda.is_available():\n",
    "    torch.cuda.manual_seed(random_seed)\n",
    "    torch.cuda.manual_seed_all(random_seed)"
   ]
  },
  {
   "cell_type": "code",
   "execution_count": 3,
   "id": "10d5d898",
   "metadata": {
    "execution": {
     "iopub.execute_input": "2025-08-26T17:23:27.060711Z",
     "iopub.status.busy": "2025-08-26T17:23:27.060488Z",
     "iopub.status.idle": "2025-08-26T17:23:27.065504Z",
     "shell.execute_reply": "2025-08-26T17:23:27.064895Z"
    },
    "papermill": {
     "duration": 0.009478,
     "end_time": "2025-08-26T17:23:27.066608",
     "exception": false,
     "start_time": "2025-08-26T17:23:27.057130",
     "status": "completed"
    },
    "tags": []
   },
   "outputs": [
    {
     "data": {
      "text/plain": [
       "'cuda'"
      ]
     },
     "execution_count": 3,
     "metadata": {},
     "output_type": "execute_result"
    }
   ],
   "source": [
    "device = 'cuda' if torch.cuda.is_available() else 'cpu'\n",
    "device"
   ]
  },
  {
   "cell_type": "code",
   "execution_count": 4,
   "id": "61838b76",
   "metadata": {
    "execution": {
     "iopub.execute_input": "2025-08-26T17:23:27.073404Z",
     "iopub.status.busy": "2025-08-26T17:23:27.073192Z",
     "iopub.status.idle": "2025-08-26T17:23:29.930717Z",
     "shell.execute_reply": "2025-08-26T17:23:29.930120Z"
    },
    "papermill": {
     "duration": 2.862445,
     "end_time": "2025-08-26T17:23:29.932065",
     "exception": false,
     "start_time": "2025-08-26T17:23:27.069620",
     "status": "completed"
    },
    "tags": []
   },
   "outputs": [],
   "source": [
    "# Read data files\n",
    "input_filepath = '/kaggle/input'\n",
    "train_data = pd.read_csv(input_filepath + '/playground-series-s5e8/train.csv')\n",
    "test_data = pd.read_csv(input_filepath + '/playground-series-s5e8/test.csv')\n",
    "\n",
    "# Set index\n",
    "train_data.set_index('id', inplace=True)\n",
    "test_data.set_index('id', inplace=True)\n",
    "\n",
    "# Get numeric and categorical columns from training data (which should be the same for test data)\n",
    "numeric_col_names = train_data.select_dtypes(include='number').columns.to_series()\n",
    "categorical_col_names = train_data.select_dtypes(include='object').columns.to_series()\n",
    "assert numeric_col_names.size + categorical_col_names.size == train_data.shape[1]\n",
    "\n",
    "# Set target column\n",
    "target_col='y'\n",
    "# Drop 'y' column from numeric column names\n",
    "numeric_col_names.drop(target_col, inplace=True)\n",
    "\n",
    "# Combined dataframe that will be used later\n",
    "train_test_combined = pd.concat([train_data.drop(target_col, axis=1), test_data], axis=0)"
   ]
  },
  {
   "cell_type": "markdown",
   "id": "75b956a2",
   "metadata": {
    "papermill": {
     "duration": 0.002902,
     "end_time": "2025-08-26T17:23:29.938301",
     "exception": false,
     "start_time": "2025-08-26T17:23:29.935399",
     "status": "completed"
    },
    "tags": []
   },
   "source": [
    "# 3. Data Preprocessing"
   ]
  },
  {
   "cell_type": "code",
   "execution_count": 5,
   "id": "3487c92d",
   "metadata": {
    "execution": {
     "iopub.execute_input": "2025-08-26T17:23:29.944839Z",
     "iopub.status.busy": "2025-08-26T17:23:29.944621Z",
     "iopub.status.idle": "2025-08-26T17:23:31.342020Z",
     "shell.execute_reply": "2025-08-26T17:23:31.341397Z"
    },
    "papermill": {
     "duration": 1.402386,
     "end_time": "2025-08-26T17:23:31.343533",
     "exception": false,
     "start_time": "2025-08-26T17:23:29.941147",
     "status": "completed"
    },
    "tags": []
   },
   "outputs": [],
   "source": [
    "# encode categorical features\n",
    "for col in categorical_col_names:\n",
    "    le = LabelEncoder()\n",
    "    train_data[col] = le.fit_transform(train_data[col].astype(str))\n",
    "    test_data[col] = le.fit_transform(test_data[col].astype(str))"
   ]
  },
  {
   "cell_type": "markdown",
   "id": "1815b436",
   "metadata": {
    "papermill": {
     "duration": 0.003639,
     "end_time": "2025-08-26T17:23:31.350760",
     "exception": false,
     "start_time": "2025-08-26T17:23:31.347121",
     "status": "completed"
    },
    "tags": []
   },
   "source": [
    "# 4. Model"
   ]
  },
  {
   "cell_type": "code",
   "execution_count": 6,
   "id": "ad1c3624",
   "metadata": {
    "execution": {
     "iopub.execute_input": "2025-08-26T17:23:31.357638Z",
     "iopub.status.busy": "2025-08-26T17:23:31.357401Z",
     "iopub.status.idle": "2025-08-26T17:23:31.365789Z",
     "shell.execute_reply": "2025-08-26T17:23:31.365300Z"
    },
    "papermill": {
     "duration": 0.012946,
     "end_time": "2025-08-26T17:23:31.366801",
     "exception": false,
     "start_time": "2025-08-26T17:23:31.353855",
     "status": "completed"
    },
    "tags": []
   },
   "outputs": [],
   "source": [
    "class BankModel(nn.Module):\n",
    "    def __init__(self, num_numeric_features, num_embeddings_list, embeddings_dim):\n",
    "        super().__init__()\n",
    "\n",
    "        # embedding layers for categorical features\n",
    "        self.categorical_embeddings = nn.ModuleList([\n",
    "            nn.Embedding(num_embeddings, embeddings_dim) for num_embeddings in num_embeddings_list\n",
    "        ])\n",
    "\n",
    "        # layer for projecting numeric features on to the embedding space\n",
    "        self.numeric_projection = nn.Linear(num_numeric_features, embeddings_dim)\n",
    "\n",
    "        # total number of features\n",
    "        num_total_features = 1 + len(num_embeddings_list) # num(numeric features) + num(categorical features)\n",
    "        input_size = num_total_features * embeddings_dim\n",
    "\n",
    "        # final layers\n",
    "        self.layers = nn.ModuleList()\n",
    "        self.layers.append(nn.Linear(input_size, 320))\n",
    "        self.layers.append(nn.ReLU())\n",
    "        self.layers.append(nn.BatchNorm1d(320))\n",
    "        self.layers.append(nn.Dropout(0.1))\n",
    "\n",
    "        # final output layer\n",
    "        self.output_layer = nn.Linear(input_size, 1)\n",
    "\n",
    "    def forward(self, numeric_inputs, categorical_inputs):\n",
    "        numeric_embeddings = self.numeric_projection(numeric_inputs)\n",
    "        numeric_embeddings = numeric_embeddings.unsqueeze(1)\n",
    "\n",
    "        num_categorical_features = len(categorical_inputs)\n",
    "        categorical_embeddings = [self.categorical_embeddings[i](categorical_inputs[i].unsqueeze(-1)) for i in range(num_categorical_features)]\n",
    "\n",
    "        all_features = torch.cat([numeric_embeddings] + categorical_embeddings, dim=1)\n",
    "        x = all_features\n",
    "        x = x.view(x.size(0), -1)\n",
    "\n",
    "        for layer in self.layers:\n",
    "            x = layer(x)\n",
    "\n",
    "        return self.output_layer(x)\n"
   ]
  },
  {
   "cell_type": "markdown",
   "id": "5b982901",
   "metadata": {
    "papermill": {
     "duration": 0.002662,
     "end_time": "2025-08-26T17:23:31.372326",
     "exception": false,
     "start_time": "2025-08-26T17:23:31.369664",
     "status": "completed"
    },
    "tags": []
   },
   "source": [
    "# 5. Helper Classes/Functions"
   ]
  },
  {
   "cell_type": "code",
   "execution_count": 7,
   "id": "c753b5f4",
   "metadata": {
    "execution": {
     "iopub.execute_input": "2025-08-26T17:23:31.378608Z",
     "iopub.status.busy": "2025-08-26T17:23:31.378405Z",
     "iopub.status.idle": "2025-08-26T17:23:31.382890Z",
     "shell.execute_reply": "2025-08-26T17:23:31.382341Z"
    },
    "papermill": {
     "duration": 0.008764,
     "end_time": "2025-08-26T17:23:31.383820",
     "exception": false,
     "start_time": "2025-08-26T17:23:31.375056",
     "status": "completed"
    },
    "tags": []
   },
   "outputs": [],
   "source": [
    "class TabularDataset(Dataset):\n",
    "    def __init__(self, numeric_data, categorical_data, target_col=None):\n",
    "        self.numeric_data = torch.from_numpy(numeric_data).float()\n",
    "        self.categorical_data = torch.from_numpy(categorical_data).long()\n",
    "        self.target_col = torch.from_numpy(target_col).float() if target_col is not None else None\n",
    "\n",
    "    def __len__(self):\n",
    "        return len(self.numeric_data)\n",
    "    \n",
    "    def __getitem__(self, idx):\n",
    "        numeric_tensors = self.numeric_data[idx]\n",
    "        categorical_tensors = self.categorical_data[idx]\n",
    "        if self.target_col is not None:\n",
    "            return numeric_tensors, categorical_tensors, self.target_col[idx]\n",
    "        return numeric_tensors, categorical_tensors"
   ]
  },
  {
   "cell_type": "code",
   "execution_count": 8,
   "id": "ac14a3ba",
   "metadata": {
    "execution": {
     "iopub.execute_input": "2025-08-26T17:23:31.390210Z",
     "iopub.status.busy": "2025-08-26T17:23:31.389986Z",
     "iopub.status.idle": "2025-08-26T17:23:31.394988Z",
     "shell.execute_reply": "2025-08-26T17:23:31.394349Z"
    },
    "papermill": {
     "duration": 0.009351,
     "end_time": "2025-08-26T17:23:31.396042",
     "exception": false,
     "start_time": "2025-08-26T17:23:31.386691",
     "status": "completed"
    },
    "tags": []
   },
   "outputs": [],
   "source": [
    "def get_data_loaders(train_indices, validation_indices):\n",
    "    X_train_fold_numerical = train_data[numeric_col_names].iloc[train_indices]\n",
    "    X_train_fold_categorical = train_data[categorical_col_names].iloc[train_indices]\n",
    "    y_train_fold = train_data[target_col].iloc[train_indices]\n",
    "\n",
    "    X_validation_fold_numerical = train_data[numeric_col_names].iloc[validation_indices]\n",
    "    X_validation_fold_categorical = train_data[categorical_col_names].iloc[validation_indices]\n",
    "    y_validation_fold = train_data[target_col].iloc[validation_indices]\n",
    "\n",
    "    train_dataset = TabularDataset(\n",
    "        X_train_fold_numerical.values,\n",
    "        X_train_fold_categorical.values,\n",
    "        y_train_fold.values\n",
    "    )\n",
    "    validation_dataset = TabularDataset(\n",
    "        X_validation_fold_numerical.values,\n",
    "        X_validation_fold_categorical.values,\n",
    "        y_validation_fold.values\n",
    "    )\n",
    "    test_dataset = TabularDataset(\n",
    "        test_data[numeric_col_names].values,\n",
    "        test_data[categorical_col_names].values\n",
    "    )\n",
    "\n",
    "    train_loader = DataLoader(train_dataset, batch_size=batch_size, shuffle=True, num_workers=2)\n",
    "    validation_loader = DataLoader(validation_dataset, batch_size=batch_size)\n",
    "    test_loader = DataLoader(test_dataset, batch_size=batch_size)\n",
    "\n",
    "    return train_loader, validation_loader, test_loader"
   ]
  },
  {
   "cell_type": "code",
   "execution_count": 9,
   "id": "efa29ef6",
   "metadata": {
    "execution": {
     "iopub.execute_input": "2025-08-26T17:23:31.402697Z",
     "iopub.status.busy": "2025-08-26T17:23:31.402357Z",
     "iopub.status.idle": "2025-08-26T17:23:31.405729Z",
     "shell.execute_reply": "2025-08-26T17:23:31.405234Z"
    },
    "papermill": {
     "duration": 0.007785,
     "end_time": "2025-08-26T17:23:31.406811",
     "exception": false,
     "start_time": "2025-08-26T17:23:31.399026",
     "status": "completed"
    },
    "tags": []
   },
   "outputs": [],
   "source": [
    "def get_outputs(model, numeric_data, categorical_data):\n",
    "    numeric_data = numeric_data.to(device)\n",
    "    categorical_data = categorical_data.transpose(1,0).to(device)\n",
    "    return model(numeric_data, categorical_data).squeeze()"
   ]
  },
  {
   "cell_type": "code",
   "execution_count": 10,
   "id": "1b2ed0b5",
   "metadata": {
    "execution": {
     "iopub.execute_input": "2025-08-26T17:23:31.413468Z",
     "iopub.status.busy": "2025-08-26T17:23:31.413033Z",
     "iopub.status.idle": "2025-08-26T17:23:31.417148Z",
     "shell.execute_reply": "2025-08-26T17:23:31.416638Z"
    },
    "papermill": {
     "duration": 0.008549,
     "end_time": "2025-08-26T17:23:31.418233",
     "exception": false,
     "start_time": "2025-08-26T17:23:31.409684",
     "status": "completed"
    },
    "tags": []
   },
   "outputs": [],
   "source": [
    "def get_predictions(model, numeric_data, categorical_data, data_loader, is_test_data):\n",
    "    predictions = []\n",
    "\n",
    "    with torch.no_grad():\n",
    "        if is_test_data:\n",
    "            for numeric_data, categorical_data in data_loader:\n",
    "                outputs = get_outputs(model, numeric_data, categorical_data)\n",
    "                predictions.extend(torch.sigmoid(outputs).cpu().numpy())\n",
    "        else:\n",
    "            for numeric_data, categorical_data, _ in data_loader:\n",
    "                outputs = get_outputs(model, numeric_data, categorical_data)\n",
    "                predictions.extend(torch.sigmoid(outputs).cpu().numpy())\n",
    "\n",
    "    return predictions"
   ]
  },
  {
   "cell_type": "markdown",
   "id": "bfd0b9a8",
   "metadata": {
    "papermill": {
     "duration": 0.002774,
     "end_time": "2025-08-26T17:23:31.423791",
     "exception": false,
     "start_time": "2025-08-26T17:23:31.421017",
     "status": "completed"
    },
    "tags": []
   },
   "source": [
    "# 6. Stratified K-Fold"
   ]
  },
  {
   "cell_type": "code",
   "execution_count": 11,
   "id": "5ae3405e",
   "metadata": {
    "execution": {
     "iopub.execute_input": "2025-08-26T17:23:31.430032Z",
     "iopub.status.busy": "2025-08-26T17:23:31.429840Z",
     "iopub.status.idle": "2025-08-26T17:23:31.432695Z",
     "shell.execute_reply": "2025-08-26T17:23:31.432231Z"
    },
    "papermill": {
     "duration": 0.007107,
     "end_time": "2025-08-26T17:23:31.433697",
     "exception": false,
     "start_time": "2025-08-26T17:23:31.426590",
     "status": "completed"
    },
    "tags": []
   },
   "outputs": [],
   "source": [
    "kfold_num_splits = 5\n",
    "batch_size = 1024\n",
    "max_epochs = 1000\n",
    "patience = 50"
   ]
  },
  {
   "cell_type": "code",
   "execution_count": 12,
   "id": "07344794",
   "metadata": {
    "execution": {
     "iopub.execute_input": "2025-08-26T17:23:31.440310Z",
     "iopub.status.busy": "2025-08-26T17:23:31.440070Z",
     "iopub.status.idle": "2025-08-26T18:55:10.620698Z",
     "shell.execute_reply": "2025-08-26T18:55:10.619744Z"
    },
    "papermill": {
     "duration": 5499.185639,
     "end_time": "2025-08-26T18:55:10.622201",
     "exception": false,
     "start_time": "2025-08-26T17:23:31.436562",
     "status": "completed"
    },
    "tags": []
   },
   "outputs": [
    {
     "name": "stdout",
     "output_type": "stream",
     "text": [
      "\n",
      "##### Training Fold 1 of 5 #####\n",
      "\n",
      "(Max epochs: 1000)\n",
      "[Epoch 1] Training Loss: 0.00024, Validation AUC Score: 0.93946\n",
      "[Epoch 21] Training Loss: 0.00016, Validation AUC Score: 0.95949\n",
      "[Epoch 41] Training Loss: 0.00016, Validation AUC Score: 0.95875\n",
      "[Epoch 61] Training Loss: 0.00015, Validation AUC Score: 0.96126\n",
      "[Epoch 81] Training Loss: 0.00015, Validation AUC Score: 0.96189\n",
      "[Epoch 101] Training Loss: 0.00015, Validation AUC Score: 0.96165\n",
      "[Epoch 121] Training Loss: 0.00015, Validation AUC Score: 0.96178\n",
      "Stopping early - 50 epochs passed without improvement in best validation ROC AUC score.\n",
      "Final ROC AUC score for Fold 1: 0.96215\n",
      "\n",
      "##### Training Fold 2 of 5 #####\n",
      "\n",
      "(Max epochs: 1000)\n",
      "[Epoch 1] Training Loss: 0.00025, Validation AUC Score: 0.93966\n",
      "[Epoch 21] Training Loss: 0.00016, Validation AUC Score: 0.95903\n",
      "[Epoch 41] Training Loss: 0.00015, Validation AUC Score: 0.96100\n",
      "[Epoch 61] Training Loss: 0.00015, Validation AUC Score: 0.96165\n",
      "[Epoch 81] Training Loss: 0.00015, Validation AUC Score: 0.96088\n",
      "[Epoch 101] Training Loss: 0.00015, Validation AUC Score: 0.96163\n",
      "[Epoch 121] Training Loss: 0.00015, Validation AUC Score: 0.96134\n",
      "[Epoch 141] Training Loss: 0.00015, Validation AUC Score: 0.96168\n",
      "[Epoch 161] Training Loss: 0.00015, Validation AUC Score: 0.96119\n",
      "[Epoch 181] Training Loss: 0.00015, Validation AUC Score: 0.96168\n",
      "Stopping early - 50 epochs passed without improvement in best validation ROC AUC score.\n",
      "Final ROC AUC score for Fold 2: 0.96198\n",
      "\n",
      "##### Training Fold 3 of 5 #####\n",
      "\n",
      "(Max epochs: 1000)\n",
      "[Epoch 1] Training Loss: 0.00025, Validation AUC Score: 0.94084\n",
      "[Epoch 21] Training Loss: 0.00016, Validation AUC Score: 0.95866\n",
      "[Epoch 41] Training Loss: 0.00015, Validation AUC Score: 0.96065\n",
      "[Epoch 61] Training Loss: 0.00015, Validation AUC Score: 0.96091\n",
      "[Epoch 81] Training Loss: 0.00015, Validation AUC Score: 0.96113\n",
      "[Epoch 101] Training Loss: 0.00015, Validation AUC Score: 0.96103\n",
      "[Epoch 121] Training Loss: 0.00015, Validation AUC Score: 0.96080\n",
      "[Epoch 141] Training Loss: 0.00015, Validation AUC Score: 0.96079\n",
      "[Epoch 161] Training Loss: 0.00015, Validation AUC Score: 0.96100\n",
      "Stopping early - 50 epochs passed without improvement in best validation ROC AUC score.\n",
      "Final ROC AUC score for Fold 3: 0.96145\n",
      "\n",
      "##### Training Fold 4 of 5 #####\n",
      "\n",
      "(Max epochs: 1000)\n",
      "[Epoch 1] Training Loss: 0.00025, Validation AUC Score: 0.94132\n",
      "[Epoch 21] Training Loss: 0.00016, Validation AUC Score: 0.95904\n",
      "[Epoch 41] Training Loss: 0.00015, Validation AUC Score: 0.96168\n",
      "[Epoch 61] Training Loss: 0.00015, Validation AUC Score: 0.96167\n",
      "[Epoch 81] Training Loss: 0.00015, Validation AUC Score: 0.96209\n",
      "[Epoch 101] Training Loss: 0.00015, Validation AUC Score: 0.96185\n",
      "[Epoch 121] Training Loss: 0.00015, Validation AUC Score: 0.96209\n",
      "[Epoch 141] Training Loss: 0.00015, Validation AUC Score: 0.96184\n",
      "Stopping early - 50 epochs passed without improvement in best validation ROC AUC score.\n",
      "Final ROC AUC score for Fold 4: 0.96237\n",
      "\n",
      "##### Training Fold 5 of 5 #####\n",
      "\n",
      "(Max epochs: 1000)\n",
      "[Epoch 1] Training Loss: 0.00025, Validation AUC Score: 0.94357\n",
      "[Epoch 21] Training Loss: 0.00016, Validation AUC Score: 0.95924\n",
      "[Epoch 41] Training Loss: 0.00015, Validation AUC Score: 0.96048\n",
      "[Epoch 61] Training Loss: 0.00015, Validation AUC Score: 0.96166\n",
      "[Epoch 81] Training Loss: 0.00015, Validation AUC Score: 0.96203\n",
      "[Epoch 101] Training Loss: 0.00015, Validation AUC Score: 0.96240\n",
      "[Epoch 121] Training Loss: 0.00015, Validation AUC Score: 0.96213\n",
      "[Epoch 141] Training Loss: 0.00015, Validation AUC Score: 0.96231\n",
      "[Epoch 161] Training Loss: 0.00015, Validation AUC Score: 0.96218\n",
      "[Epoch 181] Training Loss: 0.00015, Validation AUC Score: 0.96231\n",
      "[Epoch 201] Training Loss: 0.00015, Validation AUC Score: 0.96229\n",
      "Stopping early - 50 epochs passed without improvement in best validation ROC AUC score.\n",
      "Final ROC AUC score for Fold 5: 0.96262\n"
     ]
    }
   ],
   "source": [
    "kfold = StratifiedKFold(n_splits=kfold_num_splits, shuffle=True, random_state=random_seed)\n",
    "kfold_splits = kfold.split(train_data.drop(target_col, axis=1), train_data[target_col])\n",
    "kfold_splits_enumeration = enumerate(kfold_splits)\n",
    "\n",
    "oof_predictions = np.zeros(len(train_data))\n",
    "test_predictions = np.zeros(len(test_data))\n",
    "\n",
    "for fold, (train_indices, validation_indices) in kfold_splits_enumeration:\n",
    "    print(f\"\\n##### Training Fold {fold + 1} of {kfold_num_splits} #####\\n\")\n",
    "\n",
    "    # get data loaders for training, validation and test data\n",
    "    train_loader, validation_loader, test_loader = get_data_loaders(train_indices, validation_indices)\n",
    "\n",
    "    # will be used later for ROC AUC score calculation\n",
    "    y_validation_fold = train_data[target_col].iloc[validation_indices]\n",
    "\n",
    "    # PyTorch model\n",
    "    model = BankModel(\n",
    "        len(numeric_col_names),\n",
    "        train_test_combined[categorical_col_names].nunique(), # `num_embeddings` Embedding parameter\n",
    "        32 # `embedding_dim` Embedding parameter\n",
    "    ).to(device)\n",
    "\n",
    "    optimizer = torch.optim.Adam(model.parameters(), lr=0.001)\n",
    "    criterion = nn.BCEWithLogitsLoss()\n",
    "    scheduler = torch.optim.lr_scheduler.CosineAnnealingLR(optimizer, T_max=max_epochs)\n",
    "\n",
    "    best_validation_auc_score = 0\n",
    "    early_stopping_counter = 0\n",
    "\n",
    "    print(f\"(Max epochs: {max_epochs})\")\n",
    "\n",
    "    for epoch in range(max_epochs):\n",
    "        model.train()\n",
    "        loss_train = 0\n",
    "        for numeric_data, categorical_data, labels in train_loader:\n",
    "            optimizer.zero_grad()\n",
    "            outputs = get_outputs(model, numeric_data, categorical_data)\n",
    "            loss = criterion(outputs, labels.to(device))\n",
    "            loss.backward()\n",
    "            optimizer.step()\n",
    "            loss_train += loss.item()\n",
    "\n",
    "        scheduler.step()\n",
    "\n",
    "        # validation\n",
    "        model.eval()\n",
    "        validation_predictions = get_predictions(model, numeric_data, categorical_data, validation_loader, False)\n",
    "        current_validation_auc_score = roc_auc_score(y_validation_fold, validation_predictions)\n",
    "        if epoch % 20 == 0:\n",
    "            print(f\"[Epoch {epoch + 1}] Training Loss: {loss_train / len(train_indices):.5f}, Validation AUC Score: {current_validation_auc_score:.5f}\")\n",
    "\n",
    "        if current_validation_auc_score > best_validation_auc_score:\n",
    "            best_validation_auc_score = current_validation_auc_score\n",
    "            early_stopping_counter = 0\n",
    "            torch.save(model.state_dict(), 'model.pth')\n",
    "        else:\n",
    "            early_stopping_counter += 1\n",
    "            if early_stopping_counter >= patience:\n",
    "                print(f\"Stopping early - {patience} epochs passed without improvement in best validation ROC AUC score.\")\n",
    "                break\n",
    "\n",
    "    model.load_state_dict(torch.load('model.pth'))\n",
    "\n",
    "    model.eval()\n",
    "    validation_predictions = get_predictions(model, numeric_data, categorical_data, validation_loader, False)\n",
    "\n",
    "    oof_predictions[validation_indices] = np.array(validation_predictions)\n",
    "    final_fold_roc_auc_score = roc_auc_score(y_validation_fold, oof_predictions[validation_indices])\n",
    "    print(f\"Final ROC AUC score for Fold {fold + 1}: {final_fold_roc_auc_score:.5f}\")\n",
    "\n",
    "    # Make predictions on test data\n",
    "    test_predictions_fold = get_predictions(model, numeric_data, categorical_data, test_loader, True)\n",
    "    test_predictions += np.array(test_predictions_fold) / kfold_num_splits"
   ]
  },
  {
   "cell_type": "code",
   "execution_count": 13,
   "id": "27671762",
   "metadata": {
    "execution": {
     "iopub.execute_input": "2025-08-26T18:55:10.634931Z",
     "iopub.status.busy": "2025-08-26T18:55:10.634370Z",
     "iopub.status.idle": "2025-08-26T18:55:10.982054Z",
     "shell.execute_reply": "2025-08-26T18:55:10.981080Z"
    },
    "papermill": {
     "duration": 0.355219,
     "end_time": "2025-08-26T18:55:10.983494",
     "exception": false,
     "start_time": "2025-08-26T18:55:10.628275",
     "status": "completed"
    },
    "tags": []
   },
   "outputs": [
    {
     "name": "stdout",
     "output_type": "stream",
     "text": [
      "5-Fold Cross Validation ROC AUC: 0.96204\n"
     ]
    }
   ],
   "source": [
    "# calculate the ROC AUC score for all Out-Of-Fold predictions\n",
    "oof_roc_auc_score = roc_auc_score(train_data[target_col], oof_predictions)\n",
    "print(f\"{kfold_num_splits}-Fold Cross Validation ROC AUC: {oof_roc_auc_score:.5f}\")"
   ]
  },
  {
   "cell_type": "markdown",
   "id": "1d5914a5",
   "metadata": {
    "papermill": {
     "duration": 0.005301,
     "end_time": "2025-08-26T18:55:10.994885",
     "exception": false,
     "start_time": "2025-08-26T18:55:10.989584",
     "status": "completed"
    },
    "tags": []
   },
   "source": [
    "# 7. Submission"
   ]
  },
  {
   "cell_type": "code",
   "execution_count": 14,
   "id": "5093d9d7",
   "metadata": {
    "execution": {
     "iopub.execute_input": "2025-08-26T18:55:11.006849Z",
     "iopub.status.busy": "2025-08-26T18:55:11.006378Z",
     "iopub.status.idle": "2025-08-26T18:55:11.504680Z",
     "shell.execute_reply": "2025-08-26T18:55:11.503970Z"
    },
    "papermill": {
     "duration": 0.505357,
     "end_time": "2025-08-26T18:55:11.505865",
     "exception": false,
     "start_time": "2025-08-26T18:55:11.000508",
     "status": "completed"
    },
    "tags": []
   },
   "outputs": [
    {
     "name": "stdout",
     "output_type": "stream",
     "text": [
      "Submission file prepared.\n"
     ]
    }
   ],
   "source": [
    "# Prepare submission\n",
    "submission = pd.DataFrame({'id': test_data.index, 'y': test_predictions})\n",
    "submission.to_csv('submission.csv', index=False)\n",
    "print('Submission file prepared.')"
   ]
  }
 ],
 "metadata": {
  "kaggle": {
   "accelerator": "gpu",
   "dataSources": [
    {
     "databundleVersionId": 12937777,
     "sourceId": 91719,
     "sourceType": "competition"
    }
   ],
   "dockerImageVersionId": 31089,
   "isGpuEnabled": true,
   "isInternetEnabled": true,
   "language": "python",
   "sourceType": "notebook"
  },
  "kernelspec": {
   "display_name": "Python 3",
   "language": "python",
   "name": "python3"
  },
  "language_info": {
   "codemirror_mode": {
    "name": "ipython",
    "version": 3
   },
   "file_extension": ".py",
   "mimetype": "text/x-python",
   "name": "python",
   "nbconvert_exporter": "python",
   "pygments_lexer": "ipython3",
   "version": "3.11.13"
  },
  "papermill": {
   "default_parameters": {},
   "duration": 5522.514638,
   "end_time": "2025-08-26T18:55:14.200040",
   "environment_variables": {},
   "exception": null,
   "input_path": "__notebook__.ipynb",
   "output_path": "__notebook__.ipynb",
   "parameters": {},
   "start_time": "2025-08-26T17:23:11.685402",
   "version": "2.6.0"
  }
 },
 "nbformat": 4,
 "nbformat_minor": 5
}
